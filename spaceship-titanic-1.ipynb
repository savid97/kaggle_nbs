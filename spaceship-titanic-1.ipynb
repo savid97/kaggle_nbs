{
 "cells": [
  {
   "cell_type": "code",
   "execution_count": 1,
   "id": "69214187",
   "metadata": {
    "execution": {
     "iopub.execute_input": "2023-01-18T09:55:29.962066Z",
     "iopub.status.busy": "2023-01-18T09:55:29.961347Z",
     "iopub.status.idle": "2023-01-18T09:55:29.972897Z",
     "shell.execute_reply": "2023-01-18T09:55:29.971765Z"
    },
    "jupyter": {
     "source_hidden": true
    },
    "papermill": {
     "duration": 0.041517,
     "end_time": "2023-01-18T09:55:29.975407",
     "exception": false,
     "start_time": "2023-01-18T09:55:29.933890",
     "status": "completed"
    },
    "tags": []
   },
   "outputs": [
    {
     "data": {
      "text/markdown": [
       "# Welcome to my spaceship-titanic competition notebook\n"
      ]
     },
     "metadata": {},
     "output_type": "display_data"
    }
   ],
   "source": [
    "from IPython.display import display_markdown\n",
    "import os\n",
    "display_markdown(f'''# Welcome to my {os.getenv('PYTHONPATH').split('/')[-1]} competition notebook\n",
    "''', raw=True)"
   ]
  },
  {
   "cell_type": "markdown",
   "id": "bee21d1f",
   "metadata": {
    "papermill": {
     "duration": 0.019833,
     "end_time": "2023-01-18T09:55:30.015521",
     "exception": false,
     "start_time": "2023-01-18T09:55:29.995688",
     "status": "completed"
    },
    "tags": []
   },
   "source": [
    "## Install or update any packages needed"
   ]
  },
  {
   "cell_type": "code",
   "execution_count": 2,
   "id": "f05d9bea",
   "metadata": {
    "execution": {
     "iopub.execute_input": "2023-01-18T09:55:30.057730Z",
     "iopub.status.busy": "2023-01-18T09:55:30.057272Z",
     "iopub.status.idle": "2023-01-18T09:55:30.062024Z",
     "shell.execute_reply": "2023-01-18T09:55:30.060950Z"
    },
    "papermill": {
     "duration": 0.02926,
     "end_time": "2023-01-18T09:55:30.064364",
     "exception": false,
     "start_time": "2023-01-18T09:55:30.035104",
     "status": "completed"
    },
    "tags": []
   },
   "outputs": [],
   "source": [
    "# !pip install headjackai-sdk\n",
    "# !pip install --ignore-installed --pre pycaret"
   ]
  },
  {
   "cell_type": "markdown",
   "id": "f36893db",
   "metadata": {
    "papermill": {
     "duration": 0.019214,
     "end_time": "2023-01-18T09:55:30.103883",
     "exception": false,
     "start_time": "2023-01-18T09:55:30.084669",
     "status": "completed"
    },
    "tags": []
   },
   "source": [
    "## Importing all that is needed"
   ]
  },
  {
   "cell_type": "code",
   "execution_count": 3,
   "id": "f641e024",
   "metadata": {
    "_cell_guid": "b1076dfc-b9ad-4769-8c92-a6c4dae69d19",
    "_uuid": "8f2839f25d086af736a60e9eeb907d3b93b6e0e5",
    "execution": {
     "iopub.execute_input": "2023-01-18T09:55:30.146410Z",
     "iopub.status.busy": "2023-01-18T09:55:30.145972Z",
     "iopub.status.idle": "2023-01-18T09:55:39.374296Z",
     "shell.execute_reply": "2023-01-18T09:55:39.372891Z"
    },
    "papermill": {
     "duration": 9.253605,
     "end_time": "2023-01-18T09:55:39.377737",
     "exception": false,
     "start_time": "2023-01-18T09:55:30.124132",
     "status": "completed"
    },
    "tags": []
   },
   "outputs": [
    {
     "data": {
      "text/html": [
       "<style type='text/css'>\n",
       ".datatable table.frame { margin-bottom: 0; }\n",
       ".datatable table.frame thead { border-bottom: none; }\n",
       ".datatable table.frame tr.coltypes td {  color: #FFFFFF;  line-height: 6px;  padding: 0 0.5em;}\n",
       ".datatable .bool    { background: #DDDD99; }\n",
       ".datatable .object  { background: #565656; }\n",
       ".datatable .int     { background: #5D9E5D; }\n",
       ".datatable .float   { background: #4040CC; }\n",
       ".datatable .str     { background: #CC4040; }\n",
       ".datatable .time    { background: #40CC40; }\n",
       ".datatable .row_index {  background: var(--jp-border-color3);  border-right: 1px solid var(--jp-border-color0);  color: var(--jp-ui-font-color3);  font-size: 9px;}\n",
       ".datatable .frame tbody td { text-align: left; }\n",
       ".datatable .frame tr.coltypes .row_index {  background: var(--jp-border-color0);}\n",
       ".datatable th:nth-child(2) { padding-left: 12px; }\n",
       ".datatable .hellipsis {  color: var(--jp-cell-editor-border-color);}\n",
       ".datatable .vellipsis {  background: var(--jp-layout-color0);  color: var(--jp-cell-editor-border-color);}\n",
       ".datatable .na {  color: var(--jp-cell-editor-border-color);  font-size: 80%;}\n",
       ".datatable .sp {  opacity: 0.25;}\n",
       ".datatable .footer { font-size: 9px; }\n",
       ".datatable .frame_dimensions {  background: var(--jp-border-color3);  border-top: 1px solid var(--jp-border-color0);  color: var(--jp-ui-font-color3);  display: inline-block;  opacity: 0.6;  padding: 1px 10px 1px 5px;}\n",
       "</style>\n"
      ],
      "text/plain": [
       "<IPython.core.display.HTML object>"
      ]
     },
     "metadata": {},
     "output_type": "display_data"
    }
   ],
   "source": [
    "from sklearn.impute import SimpleImputer\n",
    "from sklearn.preprocessing import OneHotEncoder\n",
    "from sklearn.metrics import mean_absolute_error\n",
    "import pandas as pd\n",
    "import numpy as np\n",
    "import base64\n",
    "import seaborn as sns\n",
    "import matplotlib.pyplot as plt\n",
    "import os\n",
    "import random\n",
    "import gc\n",
    "\n",
    "from sklearn.impute import SimpleImputer,KNNImputer\n",
    "from sklearn.preprocessing import OneHotEncoder,StandardScaler, LabelEncoder\n",
    "from sklearn.utils import shuffle\n",
    "from sklearn.experimental import enable_halving_search_cv\n",
    "from sklearn.model_selection import train_test_split,HalvingGridSearchCV\n",
    "from sklearn.metrics import log_loss,accuracy_score,classification_report\n",
    "from sklearn.model_selection import cross_val_score, cross_validate\n",
    "from sklearn.experimental import enable_halving_search_cv \n",
    "import optuna\n",
    "import xgboost as xgb\n",
    "from tqdm.notebook import tqdm\n",
    "from sklearn.ensemble import (RandomForestClassifier, AdaBoostClassifier, GradientBoostingClassifier, \n",
    "                              ExtraTreesClassifier, VotingClassifier)\n",
    "from sklearn.discriminant_analysis import LinearDiscriminantAnalysis\n",
    "from sklearn.linear_model import LogisticRegression\n",
    "from sklearn.neighbors import KNeighborsClassifier\n",
    "from sklearn.tree import DecisionTreeClassifier\n",
    "from sklearn.neural_network import MLPClassifier\n",
    "from catboost import CatBoostClassifier\n",
    "from sklearn.svm import SVC\n",
    "from sklearn import datasets, linear_model\n",
    "import lightgbm as lgb\n",
    "from sklearn.model_selection import cross_val_score,StratifiedKFold\n",
    "\n",
    "pd.set_option('display.max_columns', None)   \n",
    "\n",
    "from sklearn.model_selection import train_test_split\n",
    "from sklearn.ensemble import RandomForestClassifier\n",
    "import eli5\n",
    "from eli5.sklearn import PermutationImportance\n",
    "# from pycaret.classification  import *\n",
    "import os\n",
    "\n",
    "INPUT = f\"/kaggle/input/{os.getenv('PYTHONPATH').split('/')[-1]}/\"\n",
    "OUTPUT = \"/kaggle/working/\"\n"
   ]
  },
  {
   "cell_type": "markdown",
   "id": "187fa02a",
   "metadata": {
    "papermill": {
     "duration": 0.019558,
     "end_time": "2023-01-18T09:55:39.417393",
     "exception": false,
     "start_time": "2023-01-18T09:55:39.397835",
     "status": "completed"
    },
    "tags": []
   },
   "source": [
    "## Reading all datasets and some light analysis"
   ]
  },
  {
   "cell_type": "code",
   "execution_count": 4,
   "id": "a1df4e14",
   "metadata": {
    "execution": {
     "iopub.execute_input": "2023-01-18T09:55:39.460203Z",
     "iopub.status.busy": "2023-01-18T09:55:39.459106Z",
     "iopub.status.idle": "2023-01-18T09:55:39.576995Z",
     "shell.execute_reply": "2023-01-18T09:55:39.575751Z"
    },
    "papermill": {
     "duration": 0.142364,
     "end_time": "2023-01-18T09:55:39.579941",
     "exception": false,
     "start_time": "2023-01-18T09:55:39.437577",
     "status": "completed"
    },
    "tags": []
   },
   "outputs": [],
   "source": [
    "train =  pd.read_csv(f\"{INPUT}/train.csv\")#.sample(frac=1).reset_index(drop=True)\n",
    "test = pd.read_csv(f\"{INPUT}/test.csv\")#.sample(frac=1).reset_index(drop=True)\n",
    "sample = pd.read_csv(f\"{INPUT}/sample_submission.csv\")\n",
    "traintest = pd.concat([train,test], axis = 0).reset_index(drop=True)"
   ]
  },
  {
   "cell_type": "code",
   "execution_count": 5,
   "id": "c951a281",
   "metadata": {
    "execution": {
     "iopub.execute_input": "2023-01-18T09:55:39.622883Z",
     "iopub.status.busy": "2023-01-18T09:55:39.622500Z",
     "iopub.status.idle": "2023-01-18T09:55:39.656160Z",
     "shell.execute_reply": "2023-01-18T09:55:39.655030Z"
    },
    "papermill": {
     "duration": 0.057938,
     "end_time": "2023-01-18T09:55:39.658708",
     "exception": false,
     "start_time": "2023-01-18T09:55:39.600770",
     "status": "completed"
    },
    "tags": []
   },
   "outputs": [
    {
     "data": {
      "text/html": [
       "<div>\n",
       "<style scoped>\n",
       "    .dataframe tbody tr th:only-of-type {\n",
       "        vertical-align: middle;\n",
       "    }\n",
       "\n",
       "    .dataframe tbody tr th {\n",
       "        vertical-align: top;\n",
       "    }\n",
       "\n",
       "    .dataframe thead th {\n",
       "        text-align: right;\n",
       "    }\n",
       "</style>\n",
       "<table border=\"1\" class=\"dataframe\">\n",
       "  <thead>\n",
       "    <tr style=\"text-align: right;\">\n",
       "      <th></th>\n",
       "      <th>PassengerId</th>\n",
       "      <th>HomePlanet</th>\n",
       "      <th>CryoSleep</th>\n",
       "      <th>Cabin</th>\n",
       "      <th>Destination</th>\n",
       "      <th>Age</th>\n",
       "      <th>VIP</th>\n",
       "      <th>RoomService</th>\n",
       "      <th>FoodCourt</th>\n",
       "      <th>ShoppingMall</th>\n",
       "      <th>Spa</th>\n",
       "      <th>VRDeck</th>\n",
       "      <th>Name</th>\n",
       "      <th>Transported</th>\n",
       "    </tr>\n",
       "  </thead>\n",
       "  <tbody>\n",
       "    <tr>\n",
       "      <th>0</th>\n",
       "      <td>0001_01</td>\n",
       "      <td>Europa</td>\n",
       "      <td>False</td>\n",
       "      <td>B/0/P</td>\n",
       "      <td>TRAPPIST-1e</td>\n",
       "      <td>39.0</td>\n",
       "      <td>False</td>\n",
       "      <td>0.0</td>\n",
       "      <td>0.0</td>\n",
       "      <td>0.0</td>\n",
       "      <td>0.0</td>\n",
       "      <td>0.0</td>\n",
       "      <td>Maham Ofracculy</td>\n",
       "      <td>False</td>\n",
       "    </tr>\n",
       "    <tr>\n",
       "      <th>1</th>\n",
       "      <td>0002_01</td>\n",
       "      <td>Earth</td>\n",
       "      <td>False</td>\n",
       "      <td>F/0/S</td>\n",
       "      <td>TRAPPIST-1e</td>\n",
       "      <td>24.0</td>\n",
       "      <td>False</td>\n",
       "      <td>109.0</td>\n",
       "      <td>9.0</td>\n",
       "      <td>25.0</td>\n",
       "      <td>549.0</td>\n",
       "      <td>44.0</td>\n",
       "      <td>Juanna Vines</td>\n",
       "      <td>True</td>\n",
       "    </tr>\n",
       "    <tr>\n",
       "      <th>2</th>\n",
       "      <td>0003_01</td>\n",
       "      <td>Europa</td>\n",
       "      <td>False</td>\n",
       "      <td>A/0/S</td>\n",
       "      <td>TRAPPIST-1e</td>\n",
       "      <td>58.0</td>\n",
       "      <td>True</td>\n",
       "      <td>43.0</td>\n",
       "      <td>3576.0</td>\n",
       "      <td>0.0</td>\n",
       "      <td>6715.0</td>\n",
       "      <td>49.0</td>\n",
       "      <td>Altark Susent</td>\n",
       "      <td>False</td>\n",
       "    </tr>\n",
       "    <tr>\n",
       "      <th>3</th>\n",
       "      <td>0003_02</td>\n",
       "      <td>Europa</td>\n",
       "      <td>False</td>\n",
       "      <td>A/0/S</td>\n",
       "      <td>TRAPPIST-1e</td>\n",
       "      <td>33.0</td>\n",
       "      <td>False</td>\n",
       "      <td>0.0</td>\n",
       "      <td>1283.0</td>\n",
       "      <td>371.0</td>\n",
       "      <td>3329.0</td>\n",
       "      <td>193.0</td>\n",
       "      <td>Solam Susent</td>\n",
       "      <td>False</td>\n",
       "    </tr>\n",
       "    <tr>\n",
       "      <th>4</th>\n",
       "      <td>0004_01</td>\n",
       "      <td>Earth</td>\n",
       "      <td>False</td>\n",
       "      <td>F/1/S</td>\n",
       "      <td>TRAPPIST-1e</td>\n",
       "      <td>16.0</td>\n",
       "      <td>False</td>\n",
       "      <td>303.0</td>\n",
       "      <td>70.0</td>\n",
       "      <td>151.0</td>\n",
       "      <td>565.0</td>\n",
       "      <td>2.0</td>\n",
       "      <td>Willy Santantines</td>\n",
       "      <td>True</td>\n",
       "    </tr>\n",
       "    <tr>\n",
       "      <th>...</th>\n",
       "      <td>...</td>\n",
       "      <td>...</td>\n",
       "      <td>...</td>\n",
       "      <td>...</td>\n",
       "      <td>...</td>\n",
       "      <td>...</td>\n",
       "      <td>...</td>\n",
       "      <td>...</td>\n",
       "      <td>...</td>\n",
       "      <td>...</td>\n",
       "      <td>...</td>\n",
       "      <td>...</td>\n",
       "      <td>...</td>\n",
       "      <td>...</td>\n",
       "    </tr>\n",
       "    <tr>\n",
       "      <th>12965</th>\n",
       "      <td>9266_02</td>\n",
       "      <td>Earth</td>\n",
       "      <td>True</td>\n",
       "      <td>G/1496/S</td>\n",
       "      <td>TRAPPIST-1e</td>\n",
       "      <td>34.0</td>\n",
       "      <td>False</td>\n",
       "      <td>0.0</td>\n",
       "      <td>0.0</td>\n",
       "      <td>0.0</td>\n",
       "      <td>0.0</td>\n",
       "      <td>0.0</td>\n",
       "      <td>Jeron Peter</td>\n",
       "      <td>NaN</td>\n",
       "    </tr>\n",
       "    <tr>\n",
       "      <th>12966</th>\n",
       "      <td>9269_01</td>\n",
       "      <td>Earth</td>\n",
       "      <td>False</td>\n",
       "      <td>NaN</td>\n",
       "      <td>TRAPPIST-1e</td>\n",
       "      <td>42.0</td>\n",
       "      <td>False</td>\n",
       "      <td>0.0</td>\n",
       "      <td>847.0</td>\n",
       "      <td>17.0</td>\n",
       "      <td>10.0</td>\n",
       "      <td>144.0</td>\n",
       "      <td>Matty Scheron</td>\n",
       "      <td>NaN</td>\n",
       "    </tr>\n",
       "    <tr>\n",
       "      <th>12967</th>\n",
       "      <td>9271_01</td>\n",
       "      <td>Mars</td>\n",
       "      <td>True</td>\n",
       "      <td>D/296/P</td>\n",
       "      <td>55 Cancri e</td>\n",
       "      <td>NaN</td>\n",
       "      <td>False</td>\n",
       "      <td>0.0</td>\n",
       "      <td>0.0</td>\n",
       "      <td>0.0</td>\n",
       "      <td>0.0</td>\n",
       "      <td>0.0</td>\n",
       "      <td>Jayrin Pore</td>\n",
       "      <td>NaN</td>\n",
       "    </tr>\n",
       "    <tr>\n",
       "      <th>12968</th>\n",
       "      <td>9273_01</td>\n",
       "      <td>Europa</td>\n",
       "      <td>False</td>\n",
       "      <td>D/297/P</td>\n",
       "      <td>NaN</td>\n",
       "      <td>NaN</td>\n",
       "      <td>False</td>\n",
       "      <td>0.0</td>\n",
       "      <td>2680.0</td>\n",
       "      <td>0.0</td>\n",
       "      <td>0.0</td>\n",
       "      <td>523.0</td>\n",
       "      <td>Kitakan Conale</td>\n",
       "      <td>NaN</td>\n",
       "    </tr>\n",
       "    <tr>\n",
       "      <th>12969</th>\n",
       "      <td>9277_01</td>\n",
       "      <td>Earth</td>\n",
       "      <td>True</td>\n",
       "      <td>G/1498/S</td>\n",
       "      <td>PSO J318.5-22</td>\n",
       "      <td>43.0</td>\n",
       "      <td>False</td>\n",
       "      <td>0.0</td>\n",
       "      <td>0.0</td>\n",
       "      <td>0.0</td>\n",
       "      <td>0.0</td>\n",
       "      <td>0.0</td>\n",
       "      <td>Lilace Leonzaley</td>\n",
       "      <td>NaN</td>\n",
       "    </tr>\n",
       "  </tbody>\n",
       "</table>\n",
       "<p>12970 rows × 14 columns</p>\n",
       "</div>"
      ],
      "text/plain": [
       "      PassengerId HomePlanet CryoSleep     Cabin    Destination   Age    VIP  \\\n",
       "0         0001_01     Europa     False     B/0/P    TRAPPIST-1e  39.0  False   \n",
       "1         0002_01      Earth     False     F/0/S    TRAPPIST-1e  24.0  False   \n",
       "2         0003_01     Europa     False     A/0/S    TRAPPIST-1e  58.0   True   \n",
       "3         0003_02     Europa     False     A/0/S    TRAPPIST-1e  33.0  False   \n",
       "4         0004_01      Earth     False     F/1/S    TRAPPIST-1e  16.0  False   \n",
       "...           ...        ...       ...       ...            ...   ...    ...   \n",
       "12965     9266_02      Earth      True  G/1496/S    TRAPPIST-1e  34.0  False   \n",
       "12966     9269_01      Earth     False       NaN    TRAPPIST-1e  42.0  False   \n",
       "12967     9271_01       Mars      True   D/296/P    55 Cancri e   NaN  False   \n",
       "12968     9273_01     Europa     False   D/297/P            NaN   NaN  False   \n",
       "12969     9277_01      Earth      True  G/1498/S  PSO J318.5-22  43.0  False   \n",
       "\n",
       "       RoomService  FoodCourt  ShoppingMall     Spa  VRDeck  \\\n",
       "0              0.0        0.0           0.0     0.0     0.0   \n",
       "1            109.0        9.0          25.0   549.0    44.0   \n",
       "2             43.0     3576.0           0.0  6715.0    49.0   \n",
       "3              0.0     1283.0         371.0  3329.0   193.0   \n",
       "4            303.0       70.0         151.0   565.0     2.0   \n",
       "...            ...        ...           ...     ...     ...   \n",
       "12965          0.0        0.0           0.0     0.0     0.0   \n",
       "12966          0.0      847.0          17.0    10.0   144.0   \n",
       "12967          0.0        0.0           0.0     0.0     0.0   \n",
       "12968          0.0     2680.0           0.0     0.0   523.0   \n",
       "12969          0.0        0.0           0.0     0.0     0.0   \n",
       "\n",
       "                    Name Transported  \n",
       "0        Maham Ofracculy       False  \n",
       "1           Juanna Vines        True  \n",
       "2          Altark Susent       False  \n",
       "3           Solam Susent       False  \n",
       "4      Willy Santantines        True  \n",
       "...                  ...         ...  \n",
       "12965        Jeron Peter         NaN  \n",
       "12966      Matty Scheron         NaN  \n",
       "12967        Jayrin Pore         NaN  \n",
       "12968     Kitakan Conale         NaN  \n",
       "12969   Lilace Leonzaley         NaN  \n",
       "\n",
       "[12970 rows x 14 columns]"
      ]
     },
     "execution_count": 5,
     "metadata": {},
     "output_type": "execute_result"
    }
   ],
   "source": [
    "traintest"
   ]
  },
  {
   "cell_type": "code",
   "execution_count": 6,
   "id": "5d55ff05",
   "metadata": {
    "execution": {
     "iopub.execute_input": "2023-01-18T09:55:39.702557Z",
     "iopub.status.busy": "2023-01-18T09:55:39.702089Z",
     "iopub.status.idle": "2023-01-18T09:55:39.743723Z",
     "shell.execute_reply": "2023-01-18T09:55:39.742536Z"
    },
    "papermill": {
     "duration": 0.066013,
     "end_time": "2023-01-18T09:55:39.746061",
     "exception": false,
     "start_time": "2023-01-18T09:55:39.680048",
     "status": "completed"
    },
    "tags": []
   },
   "outputs": [
    {
     "data": {
      "text/html": [
       "<div>\n",
       "<style scoped>\n",
       "    .dataframe tbody tr th:only-of-type {\n",
       "        vertical-align: middle;\n",
       "    }\n",
       "\n",
       "    .dataframe tbody tr th {\n",
       "        vertical-align: top;\n",
       "    }\n",
       "\n",
       "    .dataframe thead th {\n",
       "        text-align: right;\n",
       "    }\n",
       "</style>\n",
       "<table border=\"1\" class=\"dataframe\">\n",
       "  <thead>\n",
       "    <tr style=\"text-align: right;\">\n",
       "      <th></th>\n",
       "      <th>Age</th>\n",
       "      <th>RoomService</th>\n",
       "      <th>FoodCourt</th>\n",
       "      <th>ShoppingMall</th>\n",
       "      <th>Spa</th>\n",
       "      <th>VRDeck</th>\n",
       "    </tr>\n",
       "  </thead>\n",
       "  <tbody>\n",
       "    <tr>\n",
       "      <th>count</th>\n",
       "      <td>12700.000000</td>\n",
       "      <td>12707.000000</td>\n",
       "      <td>12681.000000</td>\n",
       "      <td>12664.000000</td>\n",
       "      <td>12686.000000</td>\n",
       "      <td>12702.000000</td>\n",
       "    </tr>\n",
       "    <tr>\n",
       "      <th>mean</th>\n",
       "      <td>28.771969</td>\n",
       "      <td>222.897852</td>\n",
       "      <td>451.961675</td>\n",
       "      <td>174.906033</td>\n",
       "      <td>308.476904</td>\n",
       "      <td>306.789482</td>\n",
       "    </tr>\n",
       "    <tr>\n",
       "      <th>std</th>\n",
       "      <td>14.387261</td>\n",
       "      <td>647.596664</td>\n",
       "      <td>1584.370747</td>\n",
       "      <td>590.558690</td>\n",
       "      <td>1130.279641</td>\n",
       "      <td>1180.097223</td>\n",
       "    </tr>\n",
       "    <tr>\n",
       "      <th>min</th>\n",
       "      <td>0.000000</td>\n",
       "      <td>0.000000</td>\n",
       "      <td>0.000000</td>\n",
       "      <td>0.000000</td>\n",
       "      <td>0.000000</td>\n",
       "      <td>0.000000</td>\n",
       "    </tr>\n",
       "    <tr>\n",
       "      <th>25%</th>\n",
       "      <td>19.000000</td>\n",
       "      <td>0.000000</td>\n",
       "      <td>0.000000</td>\n",
       "      <td>0.000000</td>\n",
       "      <td>0.000000</td>\n",
       "      <td>0.000000</td>\n",
       "    </tr>\n",
       "    <tr>\n",
       "      <th>50%</th>\n",
       "      <td>27.000000</td>\n",
       "      <td>0.000000</td>\n",
       "      <td>0.000000</td>\n",
       "      <td>0.000000</td>\n",
       "      <td>0.000000</td>\n",
       "      <td>0.000000</td>\n",
       "    </tr>\n",
       "    <tr>\n",
       "      <th>75%</th>\n",
       "      <td>38.000000</td>\n",
       "      <td>49.000000</td>\n",
       "      <td>77.000000</td>\n",
       "      <td>29.000000</td>\n",
       "      <td>57.000000</td>\n",
       "      <td>42.000000</td>\n",
       "    </tr>\n",
       "    <tr>\n",
       "      <th>max</th>\n",
       "      <td>79.000000</td>\n",
       "      <td>14327.000000</td>\n",
       "      <td>29813.000000</td>\n",
       "      <td>23492.000000</td>\n",
       "      <td>22408.000000</td>\n",
       "      <td>24133.000000</td>\n",
       "    </tr>\n",
       "  </tbody>\n",
       "</table>\n",
       "</div>"
      ],
      "text/plain": [
       "                Age   RoomService     FoodCourt  ShoppingMall           Spa  \\\n",
       "count  12700.000000  12707.000000  12681.000000  12664.000000  12686.000000   \n",
       "mean      28.771969    222.897852    451.961675    174.906033    308.476904   \n",
       "std       14.387261    647.596664   1584.370747    590.558690   1130.279641   \n",
       "min        0.000000      0.000000      0.000000      0.000000      0.000000   \n",
       "25%       19.000000      0.000000      0.000000      0.000000      0.000000   \n",
       "50%       27.000000      0.000000      0.000000      0.000000      0.000000   \n",
       "75%       38.000000     49.000000     77.000000     29.000000     57.000000   \n",
       "max       79.000000  14327.000000  29813.000000  23492.000000  22408.000000   \n",
       "\n",
       "             VRDeck  \n",
       "count  12702.000000  \n",
       "mean     306.789482  \n",
       "std     1180.097223  \n",
       "min        0.000000  \n",
       "25%        0.000000  \n",
       "50%        0.000000  \n",
       "75%       42.000000  \n",
       "max    24133.000000  "
      ]
     },
     "execution_count": 6,
     "metadata": {},
     "output_type": "execute_result"
    }
   ],
   "source": [
    "traintest.describe()"
   ]
  },
  {
   "cell_type": "code",
   "execution_count": 7,
   "id": "6010e172",
   "metadata": {
    "execution": {
     "iopub.execute_input": "2023-01-18T09:55:39.789930Z",
     "iopub.status.busy": "2023-01-18T09:55:39.789548Z",
     "iopub.status.idle": "2023-01-18T09:55:39.810183Z",
     "shell.execute_reply": "2023-01-18T09:55:39.808962Z"
    },
    "papermill": {
     "duration": 0.046945,
     "end_time": "2023-01-18T09:55:39.814181",
     "exception": false,
     "start_time": "2023-01-18T09:55:39.767236",
     "status": "completed"
    },
    "tags": []
   },
   "outputs": [
    {
     "name": "stdout",
     "output_type": "stream",
     "text": [
      "<class 'pandas.core.frame.DataFrame'>\n",
      "RangeIndex: 12970 entries, 0 to 12969\n",
      "Data columns (total 14 columns):\n",
      " #   Column        Non-Null Count  Dtype  \n",
      "---  ------        --------------  -----  \n",
      " 0   PassengerId   12970 non-null  object \n",
      " 1   HomePlanet    12682 non-null  object \n",
      " 2   CryoSleep     12660 non-null  object \n",
      " 3   Cabin         12671 non-null  object \n",
      " 4   Destination   12696 non-null  object \n",
      " 5   Age           12700 non-null  float64\n",
      " 6   VIP           12674 non-null  object \n",
      " 7   RoomService   12707 non-null  float64\n",
      " 8   FoodCourt     12681 non-null  float64\n",
      " 9   ShoppingMall  12664 non-null  float64\n",
      " 10  Spa           12686 non-null  float64\n",
      " 11  VRDeck        12702 non-null  float64\n",
      " 12  Name          12676 non-null  object \n",
      " 13  Transported   8693 non-null   object \n",
      "dtypes: float64(6), object(8)\n",
      "memory usage: 1.4+ MB\n"
     ]
    }
   ],
   "source": [
    "traintest.info()"
   ]
  },
  {
   "cell_type": "code",
   "execution_count": 8,
   "id": "114fd7b8",
   "metadata": {
    "execution": {
     "iopub.execute_input": "2023-01-18T09:55:39.859596Z",
     "iopub.status.busy": "2023-01-18T09:55:39.859152Z",
     "iopub.status.idle": "2023-01-18T09:55:39.872230Z",
     "shell.execute_reply": "2023-01-18T09:55:39.871114Z"
    },
    "papermill": {
     "duration": 0.038455,
     "end_time": "2023-01-18T09:55:39.874746",
     "exception": false,
     "start_time": "2023-01-18T09:55:39.836291",
     "status": "completed"
    },
    "tags": []
   },
   "outputs": [
    {
     "data": {
      "text/html": [
       "<div>\n",
       "<style scoped>\n",
       "    .dataframe tbody tr th:only-of-type {\n",
       "        vertical-align: middle;\n",
       "    }\n",
       "\n",
       "    .dataframe tbody tr th {\n",
       "        vertical-align: top;\n",
       "    }\n",
       "\n",
       "    .dataframe thead th {\n",
       "        text-align: right;\n",
       "    }\n",
       "</style>\n",
       "<table border=\"1\" class=\"dataframe\">\n",
       "  <thead>\n",
       "    <tr style=\"text-align: right;\">\n",
       "      <th></th>\n",
       "      <th>PassengerId</th>\n",
       "      <th>Transported</th>\n",
       "    </tr>\n",
       "  </thead>\n",
       "  <tbody>\n",
       "    <tr>\n",
       "      <th>0</th>\n",
       "      <td>0013_01</td>\n",
       "      <td>False</td>\n",
       "    </tr>\n",
       "    <tr>\n",
       "      <th>1</th>\n",
       "      <td>0018_01</td>\n",
       "      <td>False</td>\n",
       "    </tr>\n",
       "    <tr>\n",
       "      <th>2</th>\n",
       "      <td>0019_01</td>\n",
       "      <td>False</td>\n",
       "    </tr>\n",
       "    <tr>\n",
       "      <th>3</th>\n",
       "      <td>0021_01</td>\n",
       "      <td>False</td>\n",
       "    </tr>\n",
       "    <tr>\n",
       "      <th>4</th>\n",
       "      <td>0023_01</td>\n",
       "      <td>False</td>\n",
       "    </tr>\n",
       "    <tr>\n",
       "      <th>...</th>\n",
       "      <td>...</td>\n",
       "      <td>...</td>\n",
       "    </tr>\n",
       "    <tr>\n",
       "      <th>4272</th>\n",
       "      <td>9266_02</td>\n",
       "      <td>False</td>\n",
       "    </tr>\n",
       "    <tr>\n",
       "      <th>4273</th>\n",
       "      <td>9269_01</td>\n",
       "      <td>False</td>\n",
       "    </tr>\n",
       "    <tr>\n",
       "      <th>4274</th>\n",
       "      <td>9271_01</td>\n",
       "      <td>False</td>\n",
       "    </tr>\n",
       "    <tr>\n",
       "      <th>4275</th>\n",
       "      <td>9273_01</td>\n",
       "      <td>False</td>\n",
       "    </tr>\n",
       "    <tr>\n",
       "      <th>4276</th>\n",
       "      <td>9277_01</td>\n",
       "      <td>False</td>\n",
       "    </tr>\n",
       "  </tbody>\n",
       "</table>\n",
       "<p>4277 rows × 2 columns</p>\n",
       "</div>"
      ],
      "text/plain": [
       "     PassengerId  Transported\n",
       "0        0013_01        False\n",
       "1        0018_01        False\n",
       "2        0019_01        False\n",
       "3        0021_01        False\n",
       "4        0023_01        False\n",
       "...          ...          ...\n",
       "4272     9266_02        False\n",
       "4273     9269_01        False\n",
       "4274     9271_01        False\n",
       "4275     9273_01        False\n",
       "4276     9277_01        False\n",
       "\n",
       "[4277 rows x 2 columns]"
      ]
     },
     "execution_count": 8,
     "metadata": {},
     "output_type": "execute_result"
    }
   ],
   "source": [
    "sample "
   ]
  },
  {
   "cell_type": "markdown",
   "id": "54500afe",
   "metadata": {
    "execution": {
     "iopub.execute_input": "2023-01-13T16:14:42.749382Z",
     "iopub.status.busy": "2023-01-13T16:14:42.748985Z",
     "iopub.status.idle": "2023-01-13T16:14:42.755050Z",
     "shell.execute_reply": "2023-01-13T16:14:42.753593Z",
     "shell.execute_reply.started": "2023-01-13T16:14:42.749350Z"
    },
    "papermill": {
     "duration": 0.020951,
     "end_time": "2023-01-18T09:55:39.917158",
     "exception": false,
     "start_time": "2023-01-18T09:55:39.896207",
     "status": "completed"
    },
    "tags": []
   },
   "source": [
    "### split columns that could be useful split"
   ]
  },
  {
   "cell_type": "code",
   "execution_count": 9,
   "id": "acdc89cc",
   "metadata": {
    "execution": {
     "iopub.execute_input": "2023-01-18T09:55:39.964371Z",
     "iopub.status.busy": "2023-01-18T09:55:39.963589Z",
     "iopub.status.idle": "2023-01-18T09:55:40.061261Z",
     "shell.execute_reply": "2023-01-18T09:55:40.060134Z"
    },
    "papermill": {
     "duration": 0.124451,
     "end_time": "2023-01-18T09:55:40.064045",
     "exception": false,
     "start_time": "2023-01-18T09:55:39.939594",
     "status": "completed"
    },
    "tags": []
   },
   "outputs": [],
   "source": [
    "splitable = [\"PassengerId\" ,\"Cabin\", \"Name\"]\n",
    "delimeters = [\"_\" , \"/\" , \"-\",\" \"]\n",
    "# traintest = pd.concat([train,test], axis = 0).sample(frac=1).reset_index(drop=True)\n",
    "for j,i in enumerate(splitable):\n",
    "    traintest = pd.concat([traintest,traintest[i].str.split(\"|\".join(delimeters),expand=True).add_prefix(f'{i}_')], axis = 1)\n",
    "#     test = pd.concat([test,test[i].str.split(delimeters[j],expand=True).add_prefix(f'{i}_')], axis = 1) \n",
    "#     traintest.drop(i, axis= 1, inplace = True)\n",
    "#     test.drop(i, axis= 1, inplace = True)\n",
    "# traintest[list(set(traintest.columns) - set([\"Transported\"])) ] = traintest[list(set(traintest.columns) - set([\"Transported\"])) ].fillna(method = \"bfill\")"
   ]
  },
  {
   "cell_type": "markdown",
   "id": "cc0414a9",
   "metadata": {
    "papermill": {
     "duration": 0.021598,
     "end_time": "2023-01-18T09:55:40.108163",
     "exception": false,
     "start_time": "2023-01-18T09:55:40.086565",
     "status": "completed"
    },
    "tags": []
   },
   "source": [
    "### Create new columns "
   ]
  },
  {
   "cell_type": "code",
   "execution_count": 10,
   "id": "9b51d269",
   "metadata": {
    "execution": {
     "iopub.execute_input": "2023-01-18T09:55:40.153279Z",
     "iopub.status.busy": "2023-01-18T09:55:40.152864Z",
     "iopub.status.idle": "2023-01-18T09:55:40.171049Z",
     "shell.execute_reply": "2023-01-18T09:55:40.169973Z"
    },
    "papermill": {
     "duration": 0.043869,
     "end_time": "2023-01-18T09:55:40.173796",
     "exception": false,
     "start_time": "2023-01-18T09:55:40.129927",
     "status": "completed"
    },
    "tags": []
   },
   "outputs": [],
   "source": [
    "traintest[\"Expenses\"] = traintest[['RoomService', 'FoodCourt', 'ShoppingMall', 'Spa', 'VRDeck' ]].sum(axis = 1)"
   ]
  },
  {
   "cell_type": "markdown",
   "id": "da9f707d",
   "metadata": {
    "papermill": {
     "duration": 0.02103,
     "end_time": "2023-01-18T09:55:40.216694",
     "exception": false,
     "start_time": "2023-01-18T09:55:40.195664",
     "status": "completed"
    },
    "tags": []
   },
   "source": [
    "### CryoSleep"
   ]
  },
  {
   "cell_type": "markdown",
   "id": "6fb2da50",
   "metadata": {
    "papermill": {
     "duration": 0.021273,
     "end_time": "2023-01-18T09:55:40.258977",
     "exception": false,
     "start_time": "2023-01-18T09:55:40.237704",
     "status": "completed"
    },
    "tags": []
   },
   "source": [
    "Check if there are rows where expenses is more than 0.0 while CryoSleep being True(should not happen)"
   ]
  },
  {
   "cell_type": "code",
   "execution_count": 11,
   "id": "628d8f8d",
   "metadata": {
    "execution": {
     "iopub.execute_input": "2023-01-18T09:55:40.302673Z",
     "iopub.status.busy": "2023-01-18T09:55:40.302274Z",
     "iopub.status.idle": "2023-01-18T09:55:40.325391Z",
     "shell.execute_reply": "2023-01-18T09:55:40.324129Z"
    },
    "papermill": {
     "duration": 0.047923,
     "end_time": "2023-01-18T09:55:40.327873",
     "exception": false,
     "start_time": "2023-01-18T09:55:40.279950",
     "status": "completed"
    },
    "tags": []
   },
   "outputs": [
    {
     "data": {
      "text/html": [
       "<div>\n",
       "<style scoped>\n",
       "    .dataframe tbody tr th:only-of-type {\n",
       "        vertical-align: middle;\n",
       "    }\n",
       "\n",
       "    .dataframe tbody tr th {\n",
       "        vertical-align: top;\n",
       "    }\n",
       "\n",
       "    .dataframe thead th {\n",
       "        text-align: right;\n",
       "    }\n",
       "</style>\n",
       "<table border=\"1\" class=\"dataframe\">\n",
       "  <thead>\n",
       "    <tr style=\"text-align: right;\">\n",
       "      <th></th>\n",
       "      <th>PassengerId</th>\n",
       "      <th>HomePlanet</th>\n",
       "      <th>CryoSleep</th>\n",
       "      <th>Cabin</th>\n",
       "      <th>Destination</th>\n",
       "      <th>Age</th>\n",
       "      <th>VIP</th>\n",
       "      <th>RoomService</th>\n",
       "      <th>FoodCourt</th>\n",
       "      <th>ShoppingMall</th>\n",
       "      <th>Spa</th>\n",
       "      <th>VRDeck</th>\n",
       "      <th>Name</th>\n",
       "      <th>Transported</th>\n",
       "      <th>PassengerId_0</th>\n",
       "      <th>PassengerId_1</th>\n",
       "      <th>Cabin_0</th>\n",
       "      <th>Cabin_1</th>\n",
       "      <th>Cabin_2</th>\n",
       "      <th>Name_0</th>\n",
       "      <th>Name_1</th>\n",
       "      <th>Expenses</th>\n",
       "    </tr>\n",
       "  </thead>\n",
       "  <tbody>\n",
       "  </tbody>\n",
       "</table>\n",
       "</div>"
      ],
      "text/plain": [
       "Empty DataFrame\n",
       "Columns: [PassengerId, HomePlanet, CryoSleep, Cabin, Destination, Age, VIP, RoomService, FoodCourt, ShoppingMall, Spa, VRDeck, Name, Transported, PassengerId_0, PassengerId_1, Cabin_0, Cabin_1, Cabin_2, Name_0, Name_1, Expenses]\n",
       "Index: []"
      ]
     },
     "execution_count": 11,
     "metadata": {},
     "output_type": "execute_result"
    }
   ],
   "source": [
    "traintest.query(\"CryoSleep == True and Expenses > 0.0\")"
   ]
  },
  {
   "cell_type": "code",
   "execution_count": 12,
   "id": "53ac1d55",
   "metadata": {
    "execution": {
     "iopub.execute_input": "2023-01-18T09:55:40.372761Z",
     "iopub.status.busy": "2023-01-18T09:55:40.371927Z",
     "iopub.status.idle": "2023-01-18T09:55:40.743349Z",
     "shell.execute_reply": "2023-01-18T09:55:40.742015Z"
    },
    "papermill": {
     "duration": 0.397962,
     "end_time": "2023-01-18T09:55:40.747330",
     "exception": false,
     "start_time": "2023-01-18T09:55:40.349368",
     "status": "completed"
    },
    "tags": []
   },
   "outputs": [
    {
     "data": {
      "text/plain": [
       "<AxesSubplot:ylabel='CryoSleep'>"
      ]
     },
     "execution_count": 12,
     "metadata": {},
     "output_type": "execute_result"
    },
    {
     "data": {
      "image/png": "[encoded data removed]",
      "text/plain": [
       "<Figure size 432x288 with 1 Axes>"
      ]
     },
     "metadata": {},
     "output_type": "display_data"
    }
   ],
   "source": [
    "traintest.query(\"Age <= 13.0\").CryoSleep.value_counts().plot.pie()"
   ]
  },
  {
   "cell_type": "code",
   "execution_count": 13,
   "id": "7f1e51be",
   "metadata": {
    "execution": {
     "iopub.execute_input": "2023-01-18T09:55:40.835355Z",
     "iopub.status.busy": "2023-01-18T09:55:40.834929Z",
     "iopub.status.idle": "2023-01-18T09:55:40.940634Z",
     "shell.execute_reply": "2023-01-18T09:55:40.939537Z"
    },
    "papermill": {
     "duration": 0.141116,
     "end_time": "2023-01-18T09:55:40.944754",
     "exception": false,
     "start_time": "2023-01-18T09:55:40.803638",
     "status": "completed"
    },
    "tags": []
   },
   "outputs": [
    {
     "data": {
      "text/plain": [
       "<AxesSubplot:ylabel='CryoSleep'>"
      ]
     },
     "execution_count": 13,
     "metadata": {},
     "output_type": "execute_result"
    },
    {
     "data": {
      "image/png": "[encoded data removed]",
      "text/plain": [
       "<Figure size 432x288 with 1 Axes>"
      ]
     },
     "metadata": {},
     "output_type": "display_data"
    }
   ],
   "source": [
    "traintest.query(\"Age > 13.0\").CryoSleep.value_counts().plot.pie()"
   ]
  },
  {
   "cell_type": "code",
   "execution_count": 14,
   "id": "4b61c52b",
   "metadata": {
    "execution": {
     "iopub.execute_input": "2023-01-18T09:55:41.042355Z",
     "iopub.status.busy": "2023-01-18T09:55:41.041198Z",
     "iopub.status.idle": "2023-01-18T09:55:41.272028Z",
     "shell.execute_reply": "2023-01-18T09:55:41.270830Z"
    },
    "papermill": {
     "duration": 0.273299,
     "end_time": "2023-01-18T09:55:41.275027",
     "exception": false,
     "start_time": "2023-01-18T09:55:41.001728",
     "status": "completed"
    },
    "tags": []
   },
   "outputs": [
    {
     "name": "stdout",
     "output_type": "stream",
     "text": [
      "The maximum expense for those with age 0 is :0.0\n"
     ]
    },
    {
     "data": {
      "image/png": "[encoded data removed]",
      "text/plain": [
       "<Figure size 432x288 with 1 Axes>"
      ]
     },
     "metadata": {
      "needs_background": "light"
     },
     "output_type": "display_data"
    }
   ],
   "source": [
    "traintest.query(\"Age == 0.0\").Expenses.hist()\n",
    "print(f\"The maximum expense for those with age 0 is :{traintest.query('Age == 0.0').Expenses.max()}\")"
   ]
  },
  {
   "cell_type": "code",
   "execution_count": 15,
   "id": "d1cf30d9",
   "metadata": {
    "execution": {
     "iopub.execute_input": "2023-01-18T09:55:41.322802Z",
     "iopub.status.busy": "2023-01-18T09:55:41.322372Z",
     "iopub.status.idle": "2023-01-18T09:55:41.531166Z",
     "shell.execute_reply": "2023-01-18T09:55:41.529754Z"
    },
    "papermill": {
     "duration": 0.236273,
     "end_time": "2023-01-18T09:55:41.534014",
     "exception": false,
     "start_time": "2023-01-18T09:55:41.297741",
     "status": "completed"
    },
    "tags": []
   },
   "outputs": [
    {
     "name": "stderr",
     "output_type": "stream",
     "text": [
      "/opt/conda/lib/python3.7/site-packages/seaborn/_decorators.py:43: FutureWarning: Pass the following variable as a keyword arg: x. From version 0.12, the only valid positional argument will be `data`, and passing other arguments without an explicit keyword will result in an error or misinterpretation.\n",
      "  FutureWarning\n"
     ]
    },
    {
     "data": {
      "text/plain": [
       "<AxesSubplot:xlabel='CryoSleep', ylabel='count'>"
      ]
     },
     "execution_count": 15,
     "metadata": {},
     "output_type": "execute_result"
    },
    {
     "data": {
      "image/png": "[encoded data removed]",
      "text/plain": [
       "<Figure size 432x288 with 1 Axes>"
      ]
     },
     "metadata": {
      "needs_background": "light"
     },
     "output_type": "display_data"
    }
   ],
   "source": [
    "sns.countplot(traintest.query(\"Age == 0.0\").CryoSleep)"
   ]
  },
  {
   "cell_type": "code",
   "execution_count": 16,
   "id": "81a534a0",
   "metadata": {
    "execution": {
     "iopub.execute_input": "2023-01-18T09:55:41.581267Z",
     "iopub.status.busy": "2023-01-18T09:55:41.580559Z",
     "iopub.status.idle": "2023-01-18T09:55:41.829615Z",
     "shell.execute_reply": "2023-01-18T09:55:41.828512Z"
    },
    "papermill": {
     "duration": 0.275456,
     "end_time": "2023-01-18T09:55:41.832117",
     "exception": false,
     "start_time": "2023-01-18T09:55:41.556661",
     "status": "completed"
    },
    "tags": []
   },
   "outputs": [
    {
     "name": "stdout",
     "output_type": "stream",
     "text": [
      "The median is 27.0\n"
     ]
    },
    {
     "data": {
      "image/png": "[encoded data removed]",
      "text/plain": [
       "<Figure size 432x288 with 1 Axes>"
      ]
     },
     "metadata": {
      "needs_background": "light"
     },
     "output_type": "display_data"
    }
   ],
   "source": [
    "traintest.Age.hist()\n",
    "print(f\"The median is {traintest.Age.median()}\")"
   ]
  },
  {
   "cell_type": "code",
   "execution_count": 17,
   "id": "2df045d9",
   "metadata": {
    "execution": {
     "iopub.execute_input": "2023-01-18T09:55:41.880328Z",
     "iopub.status.busy": "2023-01-18T09:55:41.879125Z",
     "iopub.status.idle": "2023-01-18T09:55:42.127933Z",
     "shell.execute_reply": "2023-01-18T09:55:42.126499Z"
    },
    "papermill": {
     "duration": 0.275494,
     "end_time": "2023-01-18T09:55:42.130578",
     "exception": false,
     "start_time": "2023-01-18T09:55:41.855084",
     "status": "completed"
    },
    "tags": []
   },
   "outputs": [
    {
     "data": {
      "image/png": "[encoded data removed]",
      "text/plain": [
       "<Figure size 432x288 with 1 Axes>"
      ]
     },
     "metadata": {
      "needs_background": "light"
     },
     "output_type": "display_data"
    },
    {
     "name": "stdout",
     "output_type": "stream",
     "text": [
      "The median is 28.0\n",
      "The minimum is 13.0\n"
     ]
    }
   ],
   "source": [
    "traintest.query(\"Expenses > 0.0\").Age.hist()\n",
    "plt.show()\n",
    "print(f\"The median is {traintest.query('Expenses > 0.0').Age.median()}\")\n",
    "print(f\"The minimum is {traintest.query('Expenses > 0.0').Age.min()}\")"
   ]
  },
  {
   "cell_type": "code",
   "execution_count": 18,
   "id": "cc9001e4",
   "metadata": {
    "execution": {
     "iopub.execute_input": "2023-01-18T09:55:42.179778Z",
     "iopub.status.busy": "2023-01-18T09:55:42.178915Z",
     "iopub.status.idle": "2023-01-18T09:55:42.523270Z",
     "shell.execute_reply": "2023-01-18T09:55:42.521963Z"
    },
    "papermill": {
     "duration": 0.3718,
     "end_time": "2023-01-18T09:55:42.526025",
     "exception": false,
     "start_time": "2023-01-18T09:55:42.154225",
     "status": "completed"
    },
    "tags": []
   },
   "outputs": [
    {
     "data": {
      "image/png": "[encoded data removed]",
      "text/plain": [
       "<Figure size 432x288 with 1 Axes>"
      ]
     },
     "metadata": {
      "needs_background": "light"
     },
     "output_type": "display_data"
    },
    {
     "name": "stdout",
     "output_type": "stream",
     "text": [
      "The median is 7.0\n"
     ]
    }
   ],
   "source": [
    "traintest.query(\"CryoSleep == False and Expenses == 0.0\").Age.hist(bins = 80)\n",
    "plt.axvline(13 ,c = \"r\")\n",
    "plt.show()\n",
    "print(f\"The median is {traintest.query('CryoSleep == False and Expenses == 0.0').Age.median()}\")"
   ]
  },
  {
   "cell_type": "markdown",
   "id": "90855879",
   "metadata": {
    "papermill": {
     "duration": 0.022916,
     "end_time": "2023-01-18T09:55:42.572558",
     "exception": false,
     "start_time": "2023-01-18T09:55:42.549642",
     "status": "completed"
    },
    "tags": []
   },
   "source": [
    "Seems like those under 13 are not allowed to spend, or somehow pay with their parents/guardians.\n",
    "We can fill all those with zero expenses with nan Age to the median of 7.0. For those with nan as age but with expenses > 0, we can fill with median of 28."
   ]
  },
  {
   "cell_type": "code",
   "execution_count": 19,
   "id": "a9077eca",
   "metadata": {
    "execution": {
     "iopub.execute_input": "2023-01-18T09:55:42.622544Z",
     "iopub.status.busy": "2023-01-18T09:55:42.621404Z",
     "iopub.status.idle": "2023-01-18T09:55:42.657514Z",
     "shell.execute_reply": "2023-01-18T09:55:42.656088Z"
    },
    "papermill": {
     "duration": 0.064177,
     "end_time": "2023-01-18T09:55:42.660084",
     "exception": false,
     "start_time": "2023-01-18T09:55:42.595907",
     "status": "completed"
    },
    "tags": []
   },
   "outputs": [
    {
     "data": {
      "text/html": [
       "<div>\n",
       "<style scoped>\n",
       "    .dataframe tbody tr th:only-of-type {\n",
       "        vertical-align: middle;\n",
       "    }\n",
       "\n",
       "    .dataframe tbody tr th {\n",
       "        vertical-align: top;\n",
       "    }\n",
       "\n",
       "    .dataframe thead th {\n",
       "        text-align: right;\n",
       "    }\n",
       "</style>\n",
       "<table border=\"1\" class=\"dataframe\">\n",
       "  <thead>\n",
       "    <tr style=\"text-align: right;\">\n",
       "      <th></th>\n",
       "      <th>PassengerId</th>\n",
       "      <th>HomePlanet</th>\n",
       "      <th>CryoSleep</th>\n",
       "      <th>Cabin</th>\n",
       "      <th>Destination</th>\n",
       "      <th>Age</th>\n",
       "      <th>VIP</th>\n",
       "      <th>RoomService</th>\n",
       "      <th>FoodCourt</th>\n",
       "      <th>ShoppingMall</th>\n",
       "      <th>Spa</th>\n",
       "      <th>VRDeck</th>\n",
       "      <th>Name</th>\n",
       "      <th>Transported</th>\n",
       "      <th>PassengerId_0</th>\n",
       "      <th>PassengerId_1</th>\n",
       "      <th>Cabin_0</th>\n",
       "      <th>Cabin_1</th>\n",
       "      <th>Cabin_2</th>\n",
       "      <th>Name_0</th>\n",
       "      <th>Name_1</th>\n",
       "      <th>Expenses</th>\n",
       "    </tr>\n",
       "  </thead>\n",
       "  <tbody>\n",
       "    <tr>\n",
       "      <th>50</th>\n",
       "      <td>0052_01</td>\n",
       "      <td>Earth</td>\n",
       "      <td>False</td>\n",
       "      <td>G/6/S</td>\n",
       "      <td>TRAPPIST-1e</td>\n",
       "      <td>NaN</td>\n",
       "      <td>False</td>\n",
       "      <td>4.0</td>\n",
       "      <td>0.0</td>\n",
       "      <td>2.0</td>\n",
       "      <td>4683.0</td>\n",
       "      <td>0.0</td>\n",
       "      <td>Elaney Hubbarton</td>\n",
       "      <td>False</td>\n",
       "      <td>0052</td>\n",
       "      <td>01</td>\n",
       "      <td>G</td>\n",
       "      <td>6</td>\n",
       "      <td>S</td>\n",
       "      <td>Elaney</td>\n",
       "      <td>Hubbarton</td>\n",
       "      <td>4689.0</td>\n",
       "    </tr>\n",
       "    <tr>\n",
       "      <th>64</th>\n",
       "      <td>0068_01</td>\n",
       "      <td>Mars</td>\n",
       "      <td>False</td>\n",
       "      <td>E/4/S</td>\n",
       "      <td>TRAPPIST-1e</td>\n",
       "      <td>NaN</td>\n",
       "      <td>False</td>\n",
       "      <td>793.0</td>\n",
       "      <td>0.0</td>\n",
       "      <td>2.0</td>\n",
       "      <td>253.0</td>\n",
       "      <td>0.0</td>\n",
       "      <td>Cinst Binie</td>\n",
       "      <td>False</td>\n",
       "      <td>0068</td>\n",
       "      <td>01</td>\n",
       "      <td>E</td>\n",
       "      <td>4</td>\n",
       "      <td>S</td>\n",
       "      <td>Cinst</td>\n",
       "      <td>Binie</td>\n",
       "      <td>1048.0</td>\n",
       "    </tr>\n",
       "    <tr>\n",
       "      <th>137</th>\n",
       "      <td>0149_01</td>\n",
       "      <td>Earth</td>\n",
       "      <td>True</td>\n",
       "      <td>G/27/S</td>\n",
       "      <td>55 Cancri e</td>\n",
       "      <td>NaN</td>\n",
       "      <td>False</td>\n",
       "      <td>0.0</td>\n",
       "      <td>0.0</td>\n",
       "      <td>0.0</td>\n",
       "      <td>0.0</td>\n",
       "      <td>0.0</td>\n",
       "      <td>Billya Hubbarrison</td>\n",
       "      <td>True</td>\n",
       "      <td>0149</td>\n",
       "      <td>01</td>\n",
       "      <td>G</td>\n",
       "      <td>27</td>\n",
       "      <td>S</td>\n",
       "      <td>Billya</td>\n",
       "      <td>Hubbarrison</td>\n",
       "      <td>0.0</td>\n",
       "    </tr>\n",
       "    <tr>\n",
       "      <th>181</th>\n",
       "      <td>0202_02</td>\n",
       "      <td>Europa</td>\n",
       "      <td>False</td>\n",
       "      <td>A/2/P</td>\n",
       "      <td>55 Cancri e</td>\n",
       "      <td>NaN</td>\n",
       "      <td>False</td>\n",
       "      <td>0.0</td>\n",
       "      <td>2433.0</td>\n",
       "      <td>NaN</td>\n",
       "      <td>878.0</td>\n",
       "      <td>443.0</td>\n",
       "      <td>Vegas Embleng</td>\n",
       "      <td>True</td>\n",
       "      <td>0202</td>\n",
       "      <td>02</td>\n",
       "      <td>A</td>\n",
       "      <td>2</td>\n",
       "      <td>P</td>\n",
       "      <td>Vegas</td>\n",
       "      <td>Embleng</td>\n",
       "      <td>3754.0</td>\n",
       "    </tr>\n",
       "    <tr>\n",
       "      <th>184</th>\n",
       "      <td>0206_01</td>\n",
       "      <td>Europa</td>\n",
       "      <td>False</td>\n",
       "      <td>C/9/S</td>\n",
       "      <td>55 Cancri e</td>\n",
       "      <td>NaN</td>\n",
       "      <td>False</td>\n",
       "      <td>2.0</td>\n",
       "      <td>1720.0</td>\n",
       "      <td>12.0</td>\n",
       "      <td>1125.0</td>\n",
       "      <td>122.0</td>\n",
       "      <td>Nuson Brugashed</td>\n",
       "      <td>True</td>\n",
       "      <td>0206</td>\n",
       "      <td>01</td>\n",
       "      <td>C</td>\n",
       "      <td>9</td>\n",
       "      <td>S</td>\n",
       "      <td>Nuson</td>\n",
       "      <td>Brugashed</td>\n",
       "      <td>2981.0</td>\n",
       "    </tr>\n",
       "    <tr>\n",
       "      <th>...</th>\n",
       "      <td>...</td>\n",
       "      <td>...</td>\n",
       "      <td>...</td>\n",
       "      <td>...</td>\n",
       "      <td>...</td>\n",
       "      <td>...</td>\n",
       "      <td>...</td>\n",
       "      <td>...</td>\n",
       "      <td>...</td>\n",
       "      <td>...</td>\n",
       "      <td>...</td>\n",
       "      <td>...</td>\n",
       "      <td>...</td>\n",
       "      <td>...</td>\n",
       "      <td>...</td>\n",
       "      <td>...</td>\n",
       "      <td>...</td>\n",
       "      <td>...</td>\n",
       "      <td>...</td>\n",
       "      <td>...</td>\n",
       "      <td>...</td>\n",
       "      <td>...</td>\n",
       "    </tr>\n",
       "    <tr>\n",
       "      <th>12873</th>\n",
       "      <td>9065_01</td>\n",
       "      <td>Mars</td>\n",
       "      <td>True</td>\n",
       "      <td>F/1755/S</td>\n",
       "      <td>TRAPPIST-1e</td>\n",
       "      <td>NaN</td>\n",
       "      <td>False</td>\n",
       "      <td>0.0</td>\n",
       "      <td>0.0</td>\n",
       "      <td>0.0</td>\n",
       "      <td>0.0</td>\n",
       "      <td>0.0</td>\n",
       "      <td>Jet Bart</td>\n",
       "      <td>NaN</td>\n",
       "      <td>9065</td>\n",
       "      <td>01</td>\n",
       "      <td>F</td>\n",
       "      <td>1755</td>\n",
       "      <td>S</td>\n",
       "      <td>Jet</td>\n",
       "      <td>Bart</td>\n",
       "      <td>0.0</td>\n",
       "    </tr>\n",
       "    <tr>\n",
       "      <th>12909</th>\n",
       "      <td>9147_01</td>\n",
       "      <td>Earth</td>\n",
       "      <td>True</td>\n",
       "      <td>G/1490/P</td>\n",
       "      <td>TRAPPIST-1e</td>\n",
       "      <td>NaN</td>\n",
       "      <td>False</td>\n",
       "      <td>0.0</td>\n",
       "      <td>0.0</td>\n",
       "      <td>0.0</td>\n",
       "      <td>0.0</td>\n",
       "      <td>0.0</td>\n",
       "      <td>Gabrin Meyersones</td>\n",
       "      <td>NaN</td>\n",
       "      <td>9147</td>\n",
       "      <td>01</td>\n",
       "      <td>G</td>\n",
       "      <td>1490</td>\n",
       "      <td>P</td>\n",
       "      <td>Gabrin</td>\n",
       "      <td>Meyersones</td>\n",
       "      <td>0.0</td>\n",
       "    </tr>\n",
       "    <tr>\n",
       "      <th>12922</th>\n",
       "      <td>9177_02</td>\n",
       "      <td>Europa</td>\n",
       "      <td>True</td>\n",
       "      <td>C/306/P</td>\n",
       "      <td>55 Cancri e</td>\n",
       "      <td>NaN</td>\n",
       "      <td>False</td>\n",
       "      <td>0.0</td>\n",
       "      <td>0.0</td>\n",
       "      <td>0.0</td>\n",
       "      <td>0.0</td>\n",
       "      <td>0.0</td>\n",
       "      <td>Zedarga Vablug</td>\n",
       "      <td>NaN</td>\n",
       "      <td>9177</td>\n",
       "      <td>02</td>\n",
       "      <td>C</td>\n",
       "      <td>306</td>\n",
       "      <td>P</td>\n",
       "      <td>Zedarga</td>\n",
       "      <td>Vablug</td>\n",
       "      <td>0.0</td>\n",
       "    </tr>\n",
       "    <tr>\n",
       "      <th>12967</th>\n",
       "      <td>9271_01</td>\n",
       "      <td>Mars</td>\n",
       "      <td>True</td>\n",
       "      <td>D/296/P</td>\n",
       "      <td>55 Cancri e</td>\n",
       "      <td>NaN</td>\n",
       "      <td>False</td>\n",
       "      <td>0.0</td>\n",
       "      <td>0.0</td>\n",
       "      <td>0.0</td>\n",
       "      <td>0.0</td>\n",
       "      <td>0.0</td>\n",
       "      <td>Jayrin Pore</td>\n",
       "      <td>NaN</td>\n",
       "      <td>9271</td>\n",
       "      <td>01</td>\n",
       "      <td>D</td>\n",
       "      <td>296</td>\n",
       "      <td>P</td>\n",
       "      <td>Jayrin</td>\n",
       "      <td>Pore</td>\n",
       "      <td>0.0</td>\n",
       "    </tr>\n",
       "    <tr>\n",
       "      <th>12968</th>\n",
       "      <td>9273_01</td>\n",
       "      <td>Europa</td>\n",
       "      <td>False</td>\n",
       "      <td>D/297/P</td>\n",
       "      <td>NaN</td>\n",
       "      <td>NaN</td>\n",
       "      <td>False</td>\n",
       "      <td>0.0</td>\n",
       "      <td>2680.0</td>\n",
       "      <td>0.0</td>\n",
       "      <td>0.0</td>\n",
       "      <td>523.0</td>\n",
       "      <td>Kitakan Conale</td>\n",
       "      <td>NaN</td>\n",
       "      <td>9273</td>\n",
       "      <td>01</td>\n",
       "      <td>D</td>\n",
       "      <td>297</td>\n",
       "      <td>P</td>\n",
       "      <td>Kitakan</td>\n",
       "      <td>Conale</td>\n",
       "      <td>3203.0</td>\n",
       "    </tr>\n",
       "  </tbody>\n",
       "</table>\n",
       "<p>270 rows × 22 columns</p>\n",
       "</div>"
      ],
      "text/plain": [
       "      PassengerId HomePlanet CryoSleep     Cabin  Destination  Age    VIP  \\\n",
       "50        0052_01      Earth     False     G/6/S  TRAPPIST-1e  NaN  False   \n",
       "64        0068_01       Mars     False     E/4/S  TRAPPIST-1e  NaN  False   \n",
       "137       0149_01      Earth      True    G/27/S  55 Cancri e  NaN  False   \n",
       "181       0202_02     Europa     False     A/2/P  55 Cancri e  NaN  False   \n",
       "184       0206_01     Europa     False     C/9/S  55 Cancri e  NaN  False   \n",
       "...           ...        ...       ...       ...          ...  ...    ...   \n",
       "12873     9065_01       Mars      True  F/1755/S  TRAPPIST-1e  NaN  False   \n",
       "12909     9147_01      Earth      True  G/1490/P  TRAPPIST-1e  NaN  False   \n",
       "12922     9177_02     Europa      True   C/306/P  55 Cancri e  NaN  False   \n",
       "12967     9271_01       Mars      True   D/296/P  55 Cancri e  NaN  False   \n",
       "12968     9273_01     Europa     False   D/297/P          NaN  NaN  False   \n",
       "\n",
       "       RoomService  FoodCourt  ShoppingMall     Spa  VRDeck  \\\n",
       "50             4.0        0.0           2.0  4683.0     0.0   \n",
       "64           793.0        0.0           2.0   253.0     0.0   \n",
       "137            0.0        0.0           0.0     0.0     0.0   \n",
       "181            0.0     2433.0           NaN   878.0   443.0   \n",
       "184            2.0     1720.0          12.0  1125.0   122.0   \n",
       "...            ...        ...           ...     ...     ...   \n",
       "12873          0.0        0.0           0.0     0.0     0.0   \n",
       "12909          0.0        0.0           0.0     0.0     0.0   \n",
       "12922          0.0        0.0           0.0     0.0     0.0   \n",
       "12967          0.0        0.0           0.0     0.0     0.0   \n",
       "12968          0.0     2680.0           0.0     0.0   523.0   \n",
       "\n",
       "                     Name Transported PassengerId_0 PassengerId_1 Cabin_0  \\\n",
       "50       Elaney Hubbarton       False          0052            01       G   \n",
       "64            Cinst Binie       False          0068            01       E   \n",
       "137    Billya Hubbarrison        True          0149            01       G   \n",
       "181         Vegas Embleng        True          0202            02       A   \n",
       "184       Nuson Brugashed        True          0206            01       C   \n",
       "...                   ...         ...           ...           ...     ...   \n",
       "12873            Jet Bart         NaN          9065            01       F   \n",
       "12909   Gabrin Meyersones         NaN          9147            01       G   \n",
       "12922      Zedarga Vablug         NaN          9177            02       C   \n",
       "12967         Jayrin Pore         NaN          9271            01       D   \n",
       "12968      Kitakan Conale         NaN          9273            01       D   \n",
       "\n",
       "      Cabin_1 Cabin_2   Name_0       Name_1  Expenses  \n",
       "50          6       S   Elaney    Hubbarton    4689.0  \n",
       "64          4       S    Cinst        Binie    1048.0  \n",
       "137        27       S   Billya  Hubbarrison       0.0  \n",
       "181         2       P    Vegas      Embleng    3754.0  \n",
       "184         9       S    Nuson    Brugashed    2981.0  \n",
       "...       ...     ...      ...          ...       ...  \n",
       "12873    1755       S      Jet         Bart       0.0  \n",
       "12909    1490       P   Gabrin   Meyersones       0.0  \n",
       "12922     306       P  Zedarga       Vablug       0.0  \n",
       "12967     296       P   Jayrin         Pore       0.0  \n",
       "12968     297       P  Kitakan       Conale    3203.0  \n",
       "\n",
       "[270 rows x 22 columns]"
      ]
     },
     "execution_count": 19,
     "metadata": {},
     "output_type": "execute_result"
    }
   ],
   "source": [
    "traintest.loc[traintest[\"Age\"].isnull() == True]"
   ]
  },
  {
   "cell_type": "code",
   "execution_count": 20,
   "id": "177c4d74",
   "metadata": {
    "execution": {
     "iopub.execute_input": "2023-01-18T09:55:42.710115Z",
     "iopub.status.busy": "2023-01-18T09:55:42.709337Z",
     "iopub.status.idle": "2023-01-18T09:55:42.982435Z",
     "shell.execute_reply": "2023-01-18T09:55:42.981200Z"
    },
    "papermill": {
     "duration": 0.300729,
     "end_time": "2023-01-18T09:55:42.984918",
     "exception": false,
     "start_time": "2023-01-18T09:55:42.684189",
     "status": "completed"
    },
    "tags": []
   },
   "outputs": [
    {
     "data": {
      "text/plain": [
       "<matplotlib.collections.PathCollection at 0x7fdc10197150>"
      ]
     },
     "execution_count": 20,
     "metadata": {},
     "output_type": "execute_result"
    },
    {
     "data": {
      "image/png": "[encoded data removed]",
      "text/plain": [
       "<Figure size 432x288 with 1 Axes>"
      ]
     },
     "metadata": {
      "needs_background": "light"
     },
     "output_type": "display_data"
    }
   ],
   "source": [
    "plt.scatter(traintest.query('Expenses > 0.0').Expenses.values , traintest.query('Expenses > 0.0').Age.values)"
   ]
  },
  {
   "cell_type": "markdown",
   "id": "1e0e2c39",
   "metadata": {
    "papermill": {
     "duration": 0.02397,
     "end_time": "2023-01-18T09:55:43.034196",
     "exception": false,
     "start_time": "2023-01-18T09:55:43.010226",
     "status": "completed"
    },
    "tags": []
   },
   "source": [
    "### VIP"
   ]
  },
  {
   "cell_type": "code",
   "execution_count": 21,
   "id": "2210d088",
   "metadata": {
    "execution": {
     "iopub.execute_input": "2023-01-18T09:55:43.084784Z",
     "iopub.status.busy": "2023-01-18T09:55:43.084348Z",
     "iopub.status.idle": "2023-01-18T09:55:43.300722Z",
     "shell.execute_reply": "2023-01-18T09:55:43.299627Z"
    },
    "papermill": {
     "duration": 0.244594,
     "end_time": "2023-01-18T09:55:43.303414",
     "exception": false,
     "start_time": "2023-01-18T09:55:43.058820",
     "status": "completed"
    },
    "tags": []
   },
   "outputs": [
    {
     "name": "stderr",
     "output_type": "stream",
     "text": [
      "/opt/conda/lib/python3.7/site-packages/seaborn/_decorators.py:43: FutureWarning: Pass the following variable as a keyword arg: x. From version 0.12, the only valid positional argument will be `data`, and passing other arguments without an explicit keyword will result in an error or misinterpretation.\n",
      "  FutureWarning\n"
     ]
    },
    {
     "data": {
      "text/plain": [
       "<AxesSubplot:xlabel='VIP', ylabel='count'>"
      ]
     },
     "execution_count": 21,
     "metadata": {},
     "output_type": "execute_result"
    },
    {
     "data": {
      "image/png": "[encoded data removed]",
      "text/plain": [
       "<Figure size 432x288 with 1 Axes>"
      ]
     },
     "metadata": {
      "needs_background": "light"
     },
     "output_type": "display_data"
    }
   ],
   "source": [
    "sns.countplot(traintest.VIP)\n"
   ]
  },
  {
   "cell_type": "code",
   "execution_count": 22,
   "id": "91d0240d",
   "metadata": {
    "execution": {
     "iopub.execute_input": "2023-01-18T09:55:43.354999Z",
     "iopub.status.busy": "2023-01-18T09:55:43.354590Z",
     "iopub.status.idle": "2023-01-18T09:55:43.391923Z",
     "shell.execute_reply": "2023-01-18T09:55:43.390650Z"
    },
    "papermill": {
     "duration": 0.066139,
     "end_time": "2023-01-18T09:55:43.394287",
     "exception": false,
     "start_time": "2023-01-18T09:55:43.328148",
     "status": "completed"
    },
    "tags": []
   },
   "outputs": [
    {
     "data": {
      "text/html": [
       "<div>\n",
       "<style scoped>\n",
       "    .dataframe tbody tr th:only-of-type {\n",
       "        vertical-align: middle;\n",
       "    }\n",
       "\n",
       "    .dataframe tbody tr th {\n",
       "        vertical-align: top;\n",
       "    }\n",
       "\n",
       "    .dataframe thead th {\n",
       "        text-align: right;\n",
       "    }\n",
       "</style>\n",
       "<table border=\"1\" class=\"dataframe\">\n",
       "  <thead>\n",
       "    <tr style=\"text-align: right;\">\n",
       "      <th></th>\n",
       "      <th>Age</th>\n",
       "      <th>RoomService</th>\n",
       "      <th>FoodCourt</th>\n",
       "      <th>ShoppingMall</th>\n",
       "      <th>Spa</th>\n",
       "      <th>VRDeck</th>\n",
       "      <th>Expenses</th>\n",
       "    </tr>\n",
       "  </thead>\n",
       "  <tbody>\n",
       "    <tr>\n",
       "      <th>count</th>\n",
       "      <td>271.000000</td>\n",
       "      <td>269.000000</td>\n",
       "      <td>267.000000</td>\n",
       "      <td>266.000000</td>\n",
       "      <td>269.000000</td>\n",
       "      <td>266.000000</td>\n",
       "      <td>273.000000</td>\n",
       "    </tr>\n",
       "    <tr>\n",
       "      <th>mean</th>\n",
       "      <td>36.664207</td>\n",
       "      <td>486.349442</td>\n",
       "      <td>1793.651685</td>\n",
       "      <td>273.680451</td>\n",
       "      <td>932.847584</td>\n",
       "      <td>1207.199248</td>\n",
       "      <td>4595.542125</td>\n",
       "    </tr>\n",
       "    <tr>\n",
       "      <th>std</th>\n",
       "      <td>11.203578</td>\n",
       "      <td>1058.272031</td>\n",
       "      <td>3593.931435</td>\n",
       "      <td>575.222273</td>\n",
       "      <td>2131.559126</td>\n",
       "      <td>2523.478754</td>\n",
       "      <td>5464.818112</td>\n",
       "    </tr>\n",
       "    <tr>\n",
       "      <th>min</th>\n",
       "      <td>18.000000</td>\n",
       "      <td>0.000000</td>\n",
       "      <td>0.000000</td>\n",
       "      <td>0.000000</td>\n",
       "      <td>0.000000</td>\n",
       "      <td>0.000000</td>\n",
       "      <td>0.000000</td>\n",
       "    </tr>\n",
       "    <tr>\n",
       "      <th>25%</th>\n",
       "      <td>28.000000</td>\n",
       "      <td>0.000000</td>\n",
       "      <td>0.000000</td>\n",
       "      <td>0.000000</td>\n",
       "      <td>0.000000</td>\n",
       "      <td>0.000000</td>\n",
       "      <td>1299.000000</td>\n",
       "    </tr>\n",
       "    <tr>\n",
       "      <th>50%</th>\n",
       "      <td>33.000000</td>\n",
       "      <td>1.000000</td>\n",
       "      <td>280.000000</td>\n",
       "      <td>0.000000</td>\n",
       "      <td>46.000000</td>\n",
       "      <td>28.500000</td>\n",
       "      <td>2743.000000</td>\n",
       "    </tr>\n",
       "    <tr>\n",
       "      <th>75%</th>\n",
       "      <td>42.500000</td>\n",
       "      <td>600.000000</td>\n",
       "      <td>2167.500000</td>\n",
       "      <td>277.250000</td>\n",
       "      <td>928.000000</td>\n",
       "      <td>1281.000000</td>\n",
       "      <td>6206.000000</td>\n",
       "    </tr>\n",
       "    <tr>\n",
       "      <th>max</th>\n",
       "      <td>73.000000</td>\n",
       "      <td>8243.000000</td>\n",
       "      <td>29813.000000</td>\n",
       "      <td>3700.000000</td>\n",
       "      <td>15255.000000</td>\n",
       "      <td>19086.000000</td>\n",
       "      <td>33666.000000</td>\n",
       "    </tr>\n",
       "  </tbody>\n",
       "</table>\n",
       "</div>"
      ],
      "text/plain": [
       "              Age  RoomService     FoodCourt  ShoppingMall           Spa  \\\n",
       "count  271.000000   269.000000    267.000000    266.000000    269.000000   \n",
       "mean    36.664207   486.349442   1793.651685    273.680451    932.847584   \n",
       "std     11.203578  1058.272031   3593.931435    575.222273   2131.559126   \n",
       "min     18.000000     0.000000      0.000000      0.000000      0.000000   \n",
       "25%     28.000000     0.000000      0.000000      0.000000      0.000000   \n",
       "50%     33.000000     1.000000    280.000000      0.000000     46.000000   \n",
       "75%     42.500000   600.000000   2167.500000    277.250000    928.000000   \n",
       "max     73.000000  8243.000000  29813.000000   3700.000000  15255.000000   \n",
       "\n",
       "             VRDeck      Expenses  \n",
       "count    266.000000    273.000000  \n",
       "mean    1207.199248   4595.542125  \n",
       "std     2523.478754   5464.818112  \n",
       "min        0.000000      0.000000  \n",
       "25%        0.000000   1299.000000  \n",
       "50%       28.500000   2743.000000  \n",
       "75%     1281.000000   6206.000000  \n",
       "max    19086.000000  33666.000000  "
      ]
     },
     "execution_count": 22,
     "metadata": {},
     "output_type": "execute_result"
    }
   ],
   "source": [
    "traintest.query(\"VIP == True\").describe()"
   ]
  },
  {
   "cell_type": "code",
   "execution_count": 23,
   "id": "447f4b91",
   "metadata": {
    "execution": {
     "iopub.execute_input": "2023-01-18T09:55:43.447030Z",
     "iopub.status.busy": "2023-01-18T09:55:43.446572Z",
     "iopub.status.idle": "2023-01-18T09:55:43.498640Z",
     "shell.execute_reply": "2023-01-18T09:55:43.497278Z"
    },
    "papermill": {
     "duration": 0.081839,
     "end_time": "2023-01-18T09:55:43.501312",
     "exception": false,
     "start_time": "2023-01-18T09:55:43.419473",
     "status": "completed"
    },
    "tags": []
   },
   "outputs": [
    {
     "data": {
      "text/html": [
       "<div>\n",
       "<style scoped>\n",
       "    .dataframe tbody tr th:only-of-type {\n",
       "        vertical-align: middle;\n",
       "    }\n",
       "\n",
       "    .dataframe tbody tr th {\n",
       "        vertical-align: top;\n",
       "    }\n",
       "\n",
       "    .dataframe thead th {\n",
       "        text-align: right;\n",
       "    }\n",
       "</style>\n",
       "<table border=\"1\" class=\"dataframe\">\n",
       "  <thead>\n",
       "    <tr style=\"text-align: right;\">\n",
       "      <th></th>\n",
       "      <th>Age</th>\n",
       "      <th>RoomService</th>\n",
       "      <th>FoodCourt</th>\n",
       "      <th>ShoppingMall</th>\n",
       "      <th>Spa</th>\n",
       "      <th>VRDeck</th>\n",
       "      <th>Expenses</th>\n",
       "    </tr>\n",
       "  </thead>\n",
       "  <tbody>\n",
       "    <tr>\n",
       "      <th>count</th>\n",
       "      <td>12142.000000</td>\n",
       "      <td>12149.000000</td>\n",
       "      <td>12123.000000</td>\n",
       "      <td>12107.000000</td>\n",
       "      <td>12125.000000</td>\n",
       "      <td>12142.000000</td>\n",
       "      <td>12401.00000</td>\n",
       "    </tr>\n",
       "    <tr>\n",
       "      <th>mean</th>\n",
       "      <td>28.589195</td>\n",
       "      <td>216.735698</td>\n",
       "      <td>419.522808</td>\n",
       "      <td>174.006608</td>\n",
       "      <td>292.849402</td>\n",
       "      <td>285.578406</td>\n",
       "      <td>1358.27651</td>\n",
       "    </tr>\n",
       "    <tr>\n",
       "      <th>std</th>\n",
       "      <td>14.393338</td>\n",
       "      <td>630.845068</td>\n",
       "      <td>1465.779835</td>\n",
       "      <td>595.481307</td>\n",
       "      <td>1090.430391</td>\n",
       "      <td>1116.953592</td>\n",
       "      <td>2655.51746</td>\n",
       "    </tr>\n",
       "    <tr>\n",
       "      <th>min</th>\n",
       "      <td>0.000000</td>\n",
       "      <td>0.000000</td>\n",
       "      <td>0.000000</td>\n",
       "      <td>0.000000</td>\n",
       "      <td>0.000000</td>\n",
       "      <td>0.000000</td>\n",
       "      <td>0.00000</td>\n",
       "    </tr>\n",
       "    <tr>\n",
       "      <th>25%</th>\n",
       "      <td>19.000000</td>\n",
       "      <td>0.000000</td>\n",
       "      <td>0.000000</td>\n",
       "      <td>0.000000</td>\n",
       "      <td>0.000000</td>\n",
       "      <td>0.000000</td>\n",
       "      <td>0.00000</td>\n",
       "    </tr>\n",
       "    <tr>\n",
       "      <th>50%</th>\n",
       "      <td>26.000000</td>\n",
       "      <td>0.000000</td>\n",
       "      <td>0.000000</td>\n",
       "      <td>0.000000</td>\n",
       "      <td>0.000000</td>\n",
       "      <td>0.000000</td>\n",
       "      <td>704.00000</td>\n",
       "    </tr>\n",
       "    <tr>\n",
       "      <th>75%</th>\n",
       "      <td>37.000000</td>\n",
       "      <td>45.000000</td>\n",
       "      <td>59.000000</td>\n",
       "      <td>26.000000</td>\n",
       "      <td>50.000000</td>\n",
       "      <td>37.000000</td>\n",
       "      <td>1382.00000</td>\n",
       "    </tr>\n",
       "    <tr>\n",
       "      <th>max</th>\n",
       "      <td>79.000000</td>\n",
       "      <td>14327.000000</td>\n",
       "      <td>27071.000000</td>\n",
       "      <td>23492.000000</td>\n",
       "      <td>22408.000000</td>\n",
       "      <td>24133.000000</td>\n",
       "      <td>35987.00000</td>\n",
       "    </tr>\n",
       "  </tbody>\n",
       "</table>\n",
       "</div>"
      ],
      "text/plain": [
       "                Age   RoomService     FoodCourt  ShoppingMall           Spa  \\\n",
       "count  12142.000000  12149.000000  12123.000000  12107.000000  12125.000000   \n",
       "mean      28.589195    216.735698    419.522808    174.006608    292.849402   \n",
       "std       14.393338    630.845068   1465.779835    595.481307   1090.430391   \n",
       "min        0.000000      0.000000      0.000000      0.000000      0.000000   \n",
       "25%       19.000000      0.000000      0.000000      0.000000      0.000000   \n",
       "50%       26.000000      0.000000      0.000000      0.000000      0.000000   \n",
       "75%       37.000000     45.000000     59.000000     26.000000     50.000000   \n",
       "max       79.000000  14327.000000  27071.000000  23492.000000  22408.000000   \n",
       "\n",
       "             VRDeck     Expenses  \n",
       "count  12142.000000  12401.00000  \n",
       "mean     285.578406   1358.27651  \n",
       "std     1116.953592   2655.51746  \n",
       "min        0.000000      0.00000  \n",
       "25%        0.000000      0.00000  \n",
       "50%        0.000000    704.00000  \n",
       "75%       37.000000   1382.00000  \n",
       "max    24133.000000  35987.00000  "
      ]
     },
     "execution_count": 23,
     "metadata": {},
     "output_type": "execute_result"
    }
   ],
   "source": [
    "traintest.query(\"VIP == False\").describe()"
   ]
  },
  {
   "cell_type": "markdown",
   "id": "a8850c2f",
   "metadata": {
    "papermill": {
     "duration": 0.03251,
     "end_time": "2023-01-18T09:55:43.567407",
     "exception": false,
     "start_time": "2023-01-18T09:55:43.534897",
     "status": "completed"
    },
    "tags": []
   },
   "source": [
    "Clearly those with VIP passes are people who spend more. We can use the to fill the VIP column. VIPs also seem to be generally older individuals Expenses <1400 and Age <37 not VIP. We could even fill all with False for VIP as it is heavily skewed towards being False. "
   ]
  },
  {
   "cell_type": "markdown",
   "id": "71f0f1e2",
   "metadata": {
    "execution": {
     "iopub.execute_input": "2023-01-17T09:05:09.211058Z",
     "iopub.status.busy": "2023-01-17T09:05:09.210587Z",
     "iopub.status.idle": "2023-01-17T09:05:09.239940Z",
     "shell.execute_reply": "2023-01-17T09:05:09.238580Z",
     "shell.execute_reply.started": "2023-01-17T09:05:09.211021Z"
    },
    "papermill": {
     "duration": 0.025476,
     "end_time": "2023-01-18T09:55:43.622285",
     "exception": false,
     "start_time": "2023-01-18T09:55:43.596809",
     "status": "completed"
    },
    "tags": []
   },
   "source": [
    "### Cabins"
   ]
  },
  {
   "cell_type": "code",
   "execution_count": 24,
   "id": "9a777556",
   "metadata": {
    "execution": {
     "iopub.execute_input": "2023-01-18T09:55:43.674663Z",
     "iopub.status.busy": "2023-01-18T09:55:43.674259Z",
     "iopub.status.idle": "2023-01-18T09:55:43.685537Z",
     "shell.execute_reply": "2023-01-18T09:55:43.684469Z"
    },
    "papermill": {
     "duration": 0.040542,
     "end_time": "2023-01-18T09:55:43.688158",
     "exception": false,
     "start_time": "2023-01-18T09:55:43.647616",
     "status": "completed"
    },
    "tags": []
   },
   "outputs": [
    {
     "data": {
      "text/plain": [
       "TRAPPIST-1e      204\n",
       "55 Cancri e       64\n",
       "PSO J318.5-22     27\n",
       "Name: Destination, dtype: int64"
      ]
     },
     "execution_count": 24,
     "metadata": {},
     "output_type": "execute_result"
    }
   ],
   "source": [
    "traintest[traintest[\"Cabin\"].isnull() == True].Destination.value_counts()"
   ]
  },
  {
   "cell_type": "code",
   "execution_count": 25,
   "id": "468bd2d8",
   "metadata": {
    "execution": {
     "iopub.execute_input": "2023-01-18T09:55:43.741492Z",
     "iopub.status.busy": "2023-01-18T09:55:43.741051Z",
     "iopub.status.idle": "2023-01-18T09:55:43.772274Z",
     "shell.execute_reply": "2023-01-18T09:55:43.771132Z"
    },
    "papermill": {
     "duration": 0.060267,
     "end_time": "2023-01-18T09:55:43.774523",
     "exception": false,
     "start_time": "2023-01-18T09:55:43.714256",
     "status": "completed"
    },
    "tags": []
   },
   "outputs": [
    {
     "data": {
      "text/html": [
       "<div>\n",
       "<style scoped>\n",
       "    .dataframe tbody tr th:only-of-type {\n",
       "        vertical-align: middle;\n",
       "    }\n",
       "\n",
       "    .dataframe tbody tr th {\n",
       "        vertical-align: top;\n",
       "    }\n",
       "\n",
       "    .dataframe thead th {\n",
       "        text-align: right;\n",
       "    }\n",
       "</style>\n",
       "<table border=\"1\" class=\"dataframe\">\n",
       "  <thead>\n",
       "    <tr style=\"text-align: right;\">\n",
       "      <th>Cabin_0</th>\n",
       "      <th>A</th>\n",
       "      <th>B</th>\n",
       "      <th>C</th>\n",
       "      <th>D</th>\n",
       "      <th>E</th>\n",
       "      <th>F</th>\n",
       "      <th>G</th>\n",
       "      <th>T</th>\n",
       "    </tr>\n",
       "    <tr>\n",
       "      <th>Destination</th>\n",
       "      <th></th>\n",
       "      <th></th>\n",
       "      <th></th>\n",
       "      <th></th>\n",
       "      <th></th>\n",
       "      <th></th>\n",
       "      <th></th>\n",
       "      <th></th>\n",
       "    </tr>\n",
       "  </thead>\n",
       "  <tbody>\n",
       "    <tr>\n",
       "      <th>55 Cancri e</th>\n",
       "      <td>152.0</td>\n",
       "      <td>498.0</td>\n",
       "      <td>452.0</td>\n",
       "      <td>171.0</td>\n",
       "      <td>166.0</td>\n",
       "      <td>566.0</td>\n",
       "      <td>520.0</td>\n",
       "      <td>2.0</td>\n",
       "    </tr>\n",
       "    <tr>\n",
       "      <th>PSO J318.5-22</th>\n",
       "      <td>2.0</td>\n",
       "      <td>5.0</td>\n",
       "      <td>20.0</td>\n",
       "      <td>17.0</td>\n",
       "      <td>58.0</td>\n",
       "      <td>355.0</td>\n",
       "      <td>678.0</td>\n",
       "      <td>NaN</td>\n",
       "    </tr>\n",
       "    <tr>\n",
       "      <th>TRAPPIST-1e</th>\n",
       "      <td>185.0</td>\n",
       "      <td>594.0</td>\n",
       "      <td>586.0</td>\n",
       "      <td>503.0</td>\n",
       "      <td>1037.0</td>\n",
       "      <td>3144.0</td>\n",
       "      <td>2424.0</td>\n",
       "      <td>9.0</td>\n",
       "    </tr>\n",
       "  </tbody>\n",
       "</table>\n",
       "</div>"
      ],
      "text/plain": [
       "Cabin_0            A      B      C      D       E       F       G    T\n",
       "Destination                                                           \n",
       "55 Cancri e    152.0  498.0  452.0  171.0   166.0   566.0   520.0  2.0\n",
       "PSO J318.5-22    2.0    5.0   20.0   17.0    58.0   355.0   678.0  NaN\n",
       "TRAPPIST-1e    185.0  594.0  586.0  503.0  1037.0  3144.0  2424.0  9.0"
      ]
     },
     "execution_count": 25,
     "metadata": {},
     "output_type": "execute_result"
    }
   ],
   "source": [
    "pd.pivot_table(traintest, values='Age', index=['Destination'],\n",
    "                    columns=['Cabin_0'], aggfunc=\"count\")"
   ]
  },
  {
   "cell_type": "code",
   "execution_count": 26,
   "id": "5496a7d7",
   "metadata": {
    "execution": {
     "iopub.execute_input": "2023-01-18T09:55:43.827142Z",
     "iopub.status.busy": "2023-01-18T09:55:43.826560Z",
     "iopub.status.idle": "2023-01-18T09:55:43.847802Z",
     "shell.execute_reply": "2023-01-18T09:55:43.846591Z"
    },
    "papermill": {
     "duration": 0.050207,
     "end_time": "2023-01-18T09:55:43.850211",
     "exception": false,
     "start_time": "2023-01-18T09:55:43.800004",
     "status": "completed"
    },
    "tags": []
   },
   "outputs": [
    {
     "data": {
      "text/html": [
       "<div>\n",
       "<style scoped>\n",
       "    .dataframe tbody tr th:only-of-type {\n",
       "        vertical-align: middle;\n",
       "    }\n",
       "\n",
       "    .dataframe tbody tr th {\n",
       "        vertical-align: top;\n",
       "    }\n",
       "\n",
       "    .dataframe thead th {\n",
       "        text-align: right;\n",
       "    }\n",
       "</style>\n",
       "<table border=\"1\" class=\"dataframe\">\n",
       "  <thead>\n",
       "    <tr style=\"text-align: right;\">\n",
       "      <th>Cabin_2</th>\n",
       "      <th>P</th>\n",
       "      <th>S</th>\n",
       "    </tr>\n",
       "    <tr>\n",
       "      <th>Destination</th>\n",
       "      <th></th>\n",
       "      <th></th>\n",
       "    </tr>\n",
       "  </thead>\n",
       "  <tbody>\n",
       "    <tr>\n",
       "      <th>55 Cancri e</th>\n",
       "      <td>1242</td>\n",
       "      <td>1335</td>\n",
       "    </tr>\n",
       "    <tr>\n",
       "      <th>PSO J318.5-22</th>\n",
       "      <td>594</td>\n",
       "      <td>563</td>\n",
       "    </tr>\n",
       "    <tr>\n",
       "      <th>TRAPPIST-1e</th>\n",
       "      <td>4320</td>\n",
       "      <td>4347</td>\n",
       "    </tr>\n",
       "  </tbody>\n",
       "</table>\n",
       "</div>"
      ],
      "text/plain": [
       "Cabin_2           P     S\n",
       "Destination              \n",
       "55 Cancri e    1242  1335\n",
       "PSO J318.5-22   594   563\n",
       "TRAPPIST-1e    4320  4347"
      ]
     },
     "execution_count": 26,
     "metadata": {},
     "output_type": "execute_result"
    }
   ],
   "source": [
    "pd.pivot_table(traintest, values='PassengerId', index=['Destination'],\n",
    "                    columns=['Cabin_2'], aggfunc=\"count\")"
   ]
  },
  {
   "cell_type": "code",
   "execution_count": 27,
   "id": "dece321e",
   "metadata": {
    "execution": {
     "iopub.execute_input": "2023-01-18T09:55:43.903828Z",
     "iopub.status.busy": "2023-01-18T09:55:43.903447Z",
     "iopub.status.idle": "2023-01-18T09:55:43.932433Z",
     "shell.execute_reply": "2023-01-18T09:55:43.931629Z"
    },
    "papermill": {
     "duration": 0.058471,
     "end_time": "2023-01-18T09:55:43.934605",
     "exception": false,
     "start_time": "2023-01-18T09:55:43.876134",
     "status": "completed"
    },
    "tags": []
   },
   "outputs": [
    {
     "data": {
      "text/html": [
       "<div>\n",
       "<style scoped>\n",
       "    .dataframe tbody tr th:only-of-type {\n",
       "        vertical-align: middle;\n",
       "    }\n",
       "\n",
       "    .dataframe tbody tr th {\n",
       "        vertical-align: top;\n",
       "    }\n",
       "\n",
       "    .dataframe thead th {\n",
       "        text-align: right;\n",
       "    }\n",
       "</style>\n",
       "<table border=\"1\" class=\"dataframe\">\n",
       "  <thead>\n",
       "    <tr style=\"text-align: right;\">\n",
       "      <th></th>\n",
       "      <th>PassengerId</th>\n",
       "      <th>HomePlanet</th>\n",
       "      <th>CryoSleep</th>\n",
       "      <th>Cabin</th>\n",
       "      <th>Destination</th>\n",
       "      <th>Age</th>\n",
       "      <th>VIP</th>\n",
       "      <th>RoomService</th>\n",
       "      <th>FoodCourt</th>\n",
       "      <th>ShoppingMall</th>\n",
       "      <th>Spa</th>\n",
       "      <th>VRDeck</th>\n",
       "      <th>Name</th>\n",
       "      <th>Transported</th>\n",
       "      <th>PassengerId_0</th>\n",
       "      <th>PassengerId_1</th>\n",
       "      <th>Cabin_0</th>\n",
       "      <th>Cabin_1</th>\n",
       "      <th>Cabin_2</th>\n",
       "      <th>Name_0</th>\n",
       "      <th>Name_1</th>\n",
       "      <th>Expenses</th>\n",
       "      <th>PassengerId0_repeated</th>\n",
       "    </tr>\n",
       "  </thead>\n",
       "  <tbody>\n",
       "  </tbody>\n",
       "</table>\n",
       "</div>"
      ],
      "text/plain": [
       "Empty DataFrame\n",
       "Columns: [PassengerId, HomePlanet, CryoSleep, Cabin, Destination, Age, VIP, RoomService, FoodCourt, ShoppingMall, Spa, VRDeck, Name, Transported, PassengerId_0, PassengerId_1, Cabin_0, Cabin_1, Cabin_2, Name_0, Name_1, Expenses, PassengerId0_repeated]\n",
       "Index: []"
      ]
     },
     "execution_count": 27,
     "metadata": {},
     "output_type": "execute_result"
    }
   ],
   "source": [
    "pd.set_option(\"display.max_rows\", 50)\n",
    "traintest[\"PassengerId0_repeated\"] = \"\"\n",
    "traintest.PassengerId0_repeated = traintest.PassengerId_0.map(traintest.groupby('PassengerId_0')[\"PassengerId_0\"].count() )\n",
    "# traintest.query(\"PassengerId0_repeated > 1 \").groupby('PassengerId_0').agg(','.join)\n",
    "traintest[(traintest[\"Cabin\"].isnull() == True) & traintest[\"PassengerId0_repeated\"] > 1]\n",
    "\n",
    "# pd.set_option(\"display.max_rows\", 20)"
   ]
  },
  {
   "cell_type": "markdown",
   "id": "cbc39917",
   "metadata": {
    "papermill": {
     "duration": 0.025947,
     "end_time": "2023-01-18T09:55:43.986595",
     "exception": false,
     "start_time": "2023-01-18T09:55:43.960648",
     "status": "completed"
    },
    "tags": []
   },
   "source": [
    "Seems like PassengerId wouldnt help impute Cabin nans. Cabin_0 filled with F if TRAPPIST-1e , G if PSO J318.5-22 , F if 55 Cancri e , else F could be used\n"
   ]
  },
  {
   "cell_type": "markdown",
   "id": "5df5dc8c",
   "metadata": {
    "papermill": {
     "duration": 0.025745,
     "end_time": "2023-01-18T09:55:44.039650",
     "exception": false,
     "start_time": "2023-01-18T09:55:44.013905",
     "status": "completed"
    },
    "tags": []
   },
   "source": [
    "### Destination"
   ]
  },
  {
   "cell_type": "code",
   "execution_count": 28,
   "id": "dd131224",
   "metadata": {
    "execution": {
     "iopub.execute_input": "2023-01-18T09:55:44.093613Z",
     "iopub.status.busy": "2023-01-18T09:55:44.092888Z",
     "iopub.status.idle": "2023-01-18T09:55:44.108055Z",
     "shell.execute_reply": "2023-01-18T09:55:44.107051Z"
    },
    "papermill": {
     "duration": 0.045118,
     "end_time": "2023-01-18T09:55:44.110496",
     "exception": false,
     "start_time": "2023-01-18T09:55:44.065378",
     "status": "completed"
    },
    "tags": []
   },
   "outputs": [
    {
     "data": {
      "text/html": [
       "<div>\n",
       "<style scoped>\n",
       "    .dataframe tbody tr th:only-of-type {\n",
       "        vertical-align: middle;\n",
       "    }\n",
       "\n",
       "    .dataframe tbody tr th {\n",
       "        vertical-align: top;\n",
       "    }\n",
       "\n",
       "    .dataframe thead th {\n",
       "        text-align: right;\n",
       "    }\n",
       "</style>\n",
       "<table border=\"1\" class=\"dataframe\">\n",
       "  <thead>\n",
       "    <tr style=\"text-align: right;\">\n",
       "      <th></th>\n",
       "      <th>PassengerId</th>\n",
       "      <th>HomePlanet</th>\n",
       "      <th>CryoSleep</th>\n",
       "      <th>Cabin</th>\n",
       "      <th>Destination</th>\n",
       "      <th>Age</th>\n",
       "      <th>VIP</th>\n",
       "      <th>RoomService</th>\n",
       "      <th>FoodCourt</th>\n",
       "      <th>ShoppingMall</th>\n",
       "      <th>Spa</th>\n",
       "      <th>VRDeck</th>\n",
       "      <th>Name</th>\n",
       "      <th>Transported</th>\n",
       "      <th>PassengerId_0</th>\n",
       "      <th>PassengerId_1</th>\n",
       "      <th>Cabin_0</th>\n",
       "      <th>Cabin_1</th>\n",
       "      <th>Cabin_2</th>\n",
       "      <th>Name_0</th>\n",
       "      <th>Name_1</th>\n",
       "      <th>Expenses</th>\n",
       "      <th>PassengerId0_repeated</th>\n",
       "    </tr>\n",
       "  </thead>\n",
       "  <tbody>\n",
       "  </tbody>\n",
       "</table>\n",
       "</div>"
      ],
      "text/plain": [
       "Empty DataFrame\n",
       "Columns: [PassengerId, HomePlanet, CryoSleep, Cabin, Destination, Age, VIP, RoomService, FoodCourt, ShoppingMall, Spa, VRDeck, Name, Transported, PassengerId_0, PassengerId_1, Cabin_0, Cabin_1, Cabin_2, Name_0, Name_1, Expenses, PassengerId0_repeated]\n",
       "Index: []"
      ]
     },
     "execution_count": 28,
     "metadata": {},
     "output_type": "execute_result"
    }
   ],
   "source": [
    "traintest[(traintest[\"Destination\"].isnull() == True) & traintest[\"PassengerId0_repeated\"].isnull() > 1 ]"
   ]
  },
  {
   "cell_type": "code",
   "execution_count": 29,
   "id": "df2125d6",
   "metadata": {
    "execution": {
     "iopub.execute_input": "2023-01-18T09:55:44.164851Z",
     "iopub.status.busy": "2023-01-18T09:55:44.164146Z",
     "iopub.status.idle": "2023-01-18T09:55:44.200439Z",
     "shell.execute_reply": "2023-01-18T09:55:44.199652Z"
    },
    "papermill": {
     "duration": 0.065732,
     "end_time": "2023-01-18T09:55:44.202523",
     "exception": false,
     "start_time": "2023-01-18T09:55:44.136791",
     "status": "completed"
    },
    "tags": []
   },
   "outputs": [
    {
     "data": {
      "text/html": [
       "<div>\n",
       "<style scoped>\n",
       "    .dataframe tbody tr th:only-of-type {\n",
       "        vertical-align: middle;\n",
       "    }\n",
       "\n",
       "    .dataframe tbody tr th {\n",
       "        vertical-align: top;\n",
       "    }\n",
       "\n",
       "    .dataframe thead th {\n",
       "        text-align: right;\n",
       "    }\n",
       "</style>\n",
       "<table border=\"1\" class=\"dataframe\">\n",
       "  <thead>\n",
       "    <tr style=\"text-align: right;\">\n",
       "      <th></th>\n",
       "      <th>PassengerId</th>\n",
       "      <th>HomePlanet</th>\n",
       "      <th>CryoSleep</th>\n",
       "      <th>Cabin</th>\n",
       "      <th>Destination</th>\n",
       "      <th>Age</th>\n",
       "      <th>VIP</th>\n",
       "      <th>RoomService</th>\n",
       "      <th>FoodCourt</th>\n",
       "      <th>ShoppingMall</th>\n",
       "      <th>Spa</th>\n",
       "      <th>VRDeck</th>\n",
       "      <th>Name</th>\n",
       "      <th>Transported</th>\n",
       "      <th>PassengerId_0</th>\n",
       "      <th>PassengerId_1</th>\n",
       "      <th>Cabin_0</th>\n",
       "      <th>Cabin_1</th>\n",
       "      <th>Cabin_2</th>\n",
       "      <th>Name_0</th>\n",
       "      <th>Name_1</th>\n",
       "      <th>Expenses</th>\n",
       "      <th>PassengerId0_repeated</th>\n",
       "    </tr>\n",
       "  </thead>\n",
       "  <tbody>\n",
       "    <tr>\n",
       "      <th>47</th>\n",
       "      <td>0045_02</td>\n",
       "      <td>Mars</td>\n",
       "      <td>True</td>\n",
       "      <td>F/10/P</td>\n",
       "      <td>NaN</td>\n",
       "      <td>19.0</td>\n",
       "      <td>False</td>\n",
       "      <td>0.0</td>\n",
       "      <td>0.0</td>\n",
       "      <td>0.0</td>\n",
       "      <td>0.0</td>\n",
       "      <td>0.0</td>\n",
       "      <td>Mass Chmad</td>\n",
       "      <td>True</td>\n",
       "      <td>0045</td>\n",
       "      <td>02</td>\n",
       "      <td>F</td>\n",
       "      <td>10</td>\n",
       "      <td>P</td>\n",
       "      <td>Mass</td>\n",
       "      <td>Chmad</td>\n",
       "      <td>0.0</td>\n",
       "      <td>2</td>\n",
       "    </tr>\n",
       "    <tr>\n",
       "      <th>128</th>\n",
       "      <td>0138_02</td>\n",
       "      <td>Earth</td>\n",
       "      <td>False</td>\n",
       "      <td>E/5/P</td>\n",
       "      <td>NaN</td>\n",
       "      <td>34.0</td>\n",
       "      <td>False</td>\n",
       "      <td>0.0</td>\n",
       "      <td>22.0</td>\n",
       "      <td>0.0</td>\n",
       "      <td>564.0</td>\n",
       "      <td>207.0</td>\n",
       "      <td>Monah Gambs</td>\n",
       "      <td>False</td>\n",
       "      <td>0138</td>\n",
       "      <td>02</td>\n",
       "      <td>E</td>\n",
       "      <td>5</td>\n",
       "      <td>P</td>\n",
       "      <td>Monah</td>\n",
       "      <td>Gambs</td>\n",
       "      <td>793.0</td>\n",
       "      <td>2</td>\n",
       "    </tr>\n",
       "    <tr>\n",
       "      <th>139</th>\n",
       "      <td>0152_01</td>\n",
       "      <td>Earth</td>\n",
       "      <td>False</td>\n",
       "      <td>F/32/P</td>\n",
       "      <td>NaN</td>\n",
       "      <td>41.0</td>\n",
       "      <td>False</td>\n",
       "      <td>0.0</td>\n",
       "      <td>0.0</td>\n",
       "      <td>0.0</td>\n",
       "      <td>0.0</td>\n",
       "      <td>607.0</td>\n",
       "      <td>Andan Estron</td>\n",
       "      <td>False</td>\n",
       "      <td>0152</td>\n",
       "      <td>01</td>\n",
       "      <td>F</td>\n",
       "      <td>32</td>\n",
       "      <td>P</td>\n",
       "      <td>Andan</td>\n",
       "      <td>Estron</td>\n",
       "      <td>607.0</td>\n",
       "      <td>1</td>\n",
       "    </tr>\n",
       "    <tr>\n",
       "      <th>347</th>\n",
       "      <td>0382_01</td>\n",
       "      <td>NaN</td>\n",
       "      <td>False</td>\n",
       "      <td>G/64/P</td>\n",
       "      <td>NaN</td>\n",
       "      <td>23.0</td>\n",
       "      <td>False</td>\n",
       "      <td>348.0</td>\n",
       "      <td>0.0</td>\n",
       "      <td>0.0</td>\n",
       "      <td>4.0</td>\n",
       "      <td>368.0</td>\n",
       "      <td>Blanie Floydendley</td>\n",
       "      <td>False</td>\n",
       "      <td>0382</td>\n",
       "      <td>01</td>\n",
       "      <td>G</td>\n",
       "      <td>64</td>\n",
       "      <td>P</td>\n",
       "      <td>Blanie</td>\n",
       "      <td>Floydendley</td>\n",
       "      <td>720.0</td>\n",
       "      <td>1</td>\n",
       "    </tr>\n",
       "    <tr>\n",
       "      <th>430</th>\n",
       "      <td>0462_01</td>\n",
       "      <td>Earth</td>\n",
       "      <td>True</td>\n",
       "      <td>G/67/S</td>\n",
       "      <td>NaN</td>\n",
       "      <td>50.0</td>\n",
       "      <td>False</td>\n",
       "      <td>0.0</td>\n",
       "      <td>0.0</td>\n",
       "      <td>0.0</td>\n",
       "      <td>0.0</td>\n",
       "      <td>0.0</td>\n",
       "      <td>Ronia Sosanturney</td>\n",
       "      <td>False</td>\n",
       "      <td>0462</td>\n",
       "      <td>01</td>\n",
       "      <td>G</td>\n",
       "      <td>67</td>\n",
       "      <td>S</td>\n",
       "      <td>Ronia</td>\n",
       "      <td>Sosanturney</td>\n",
       "      <td>0.0</td>\n",
       "      <td>1</td>\n",
       "    </tr>\n",
       "    <tr>\n",
       "      <th>...</th>\n",
       "      <td>...</td>\n",
       "      <td>...</td>\n",
       "      <td>...</td>\n",
       "      <td>...</td>\n",
       "      <td>...</td>\n",
       "      <td>...</td>\n",
       "      <td>...</td>\n",
       "      <td>...</td>\n",
       "      <td>...</td>\n",
       "      <td>...</td>\n",
       "      <td>...</td>\n",
       "      <td>...</td>\n",
       "      <td>...</td>\n",
       "      <td>...</td>\n",
       "      <td>...</td>\n",
       "      <td>...</td>\n",
       "      <td>...</td>\n",
       "      <td>...</td>\n",
       "      <td>...</td>\n",
       "      <td>...</td>\n",
       "      <td>...</td>\n",
       "      <td>...</td>\n",
       "      <td>...</td>\n",
       "    </tr>\n",
       "    <tr>\n",
       "      <th>12851</th>\n",
       "      <td>9022_03</td>\n",
       "      <td>Earth</td>\n",
       "      <td>True</td>\n",
       "      <td>F/1748/S</td>\n",
       "      <td>NaN</td>\n",
       "      <td>0.0</td>\n",
       "      <td>False</td>\n",
       "      <td>0.0</td>\n",
       "      <td>0.0</td>\n",
       "      <td>0.0</td>\n",
       "      <td>0.0</td>\n",
       "      <td>0.0</td>\n",
       "      <td>Erice Boyerson</td>\n",
       "      <td>NaN</td>\n",
       "      <td>9022</td>\n",
       "      <td>03</td>\n",
       "      <td>F</td>\n",
       "      <td>1748</td>\n",
       "      <td>S</td>\n",
       "      <td>Erice</td>\n",
       "      <td>Boyerson</td>\n",
       "      <td>0.0</td>\n",
       "      <td>3</td>\n",
       "    </tr>\n",
       "    <tr>\n",
       "      <th>12856</th>\n",
       "      <td>9039_01</td>\n",
       "      <td>Earth</td>\n",
       "      <td>True</td>\n",
       "      <td>G/1468/P</td>\n",
       "      <td>NaN</td>\n",
       "      <td>23.0</td>\n",
       "      <td>False</td>\n",
       "      <td>0.0</td>\n",
       "      <td>0.0</td>\n",
       "      <td>0.0</td>\n",
       "      <td>0.0</td>\n",
       "      <td>0.0</td>\n",
       "      <td>Nance Wilkinner</td>\n",
       "      <td>NaN</td>\n",
       "      <td>9039</td>\n",
       "      <td>01</td>\n",
       "      <td>G</td>\n",
       "      <td>1468</td>\n",
       "      <td>P</td>\n",
       "      <td>Nance</td>\n",
       "      <td>Wilkinner</td>\n",
       "      <td>0.0</td>\n",
       "      <td>1</td>\n",
       "    </tr>\n",
       "    <tr>\n",
       "      <th>12889</th>\n",
       "      <td>9095_01</td>\n",
       "      <td>Earth</td>\n",
       "      <td>False</td>\n",
       "      <td>G/1478/P</td>\n",
       "      <td>NaN</td>\n",
       "      <td>31.0</td>\n",
       "      <td>False</td>\n",
       "      <td>0.0</td>\n",
       "      <td>0.0</td>\n",
       "      <td>NaN</td>\n",
       "      <td>0.0</td>\n",
       "      <td>198.0</td>\n",
       "      <td>Lelah Reynoldez</td>\n",
       "      <td>NaN</td>\n",
       "      <td>9095</td>\n",
       "      <td>01</td>\n",
       "      <td>G</td>\n",
       "      <td>1478</td>\n",
       "      <td>P</td>\n",
       "      <td>Lelah</td>\n",
       "      <td>Reynoldez</td>\n",
       "      <td>198.0</td>\n",
       "      <td>1</td>\n",
       "    </tr>\n",
       "    <tr>\n",
       "      <th>12912</th>\n",
       "      <td>9155_01</td>\n",
       "      <td>Europa</td>\n",
       "      <td>False</td>\n",
       "      <td>C/304/P</td>\n",
       "      <td>NaN</td>\n",
       "      <td>17.0</td>\n",
       "      <td>False</td>\n",
       "      <td>149.0</td>\n",
       "      <td>2045.0</td>\n",
       "      <td>NaN</td>\n",
       "      <td>1872.0</td>\n",
       "      <td>0.0</td>\n",
       "      <td>Markar Amoutake</td>\n",
       "      <td>NaN</td>\n",
       "      <td>9155</td>\n",
       "      <td>01</td>\n",
       "      <td>C</td>\n",
       "      <td>304</td>\n",
       "      <td>P</td>\n",
       "      <td>Markar</td>\n",
       "      <td>Amoutake</td>\n",
       "      <td>4066.0</td>\n",
       "      <td>4</td>\n",
       "    </tr>\n",
       "    <tr>\n",
       "      <th>12968</th>\n",
       "      <td>9273_01</td>\n",
       "      <td>Europa</td>\n",
       "      <td>False</td>\n",
       "      <td>D/297/P</td>\n",
       "      <td>NaN</td>\n",
       "      <td>NaN</td>\n",
       "      <td>False</td>\n",
       "      <td>0.0</td>\n",
       "      <td>2680.0</td>\n",
       "      <td>0.0</td>\n",
       "      <td>0.0</td>\n",
       "      <td>523.0</td>\n",
       "      <td>Kitakan Conale</td>\n",
       "      <td>NaN</td>\n",
       "      <td>9273</td>\n",
       "      <td>01</td>\n",
       "      <td>D</td>\n",
       "      <td>297</td>\n",
       "      <td>P</td>\n",
       "      <td>Kitakan</td>\n",
       "      <td>Conale</td>\n",
       "      <td>3203.0</td>\n",
       "      <td>1</td>\n",
       "    </tr>\n",
       "  </tbody>\n",
       "</table>\n",
       "<p>274 rows × 23 columns</p>\n",
       "</div>"
      ],
      "text/plain": [
       "      PassengerId HomePlanet CryoSleep     Cabin Destination   Age    VIP  \\\n",
       "47        0045_02       Mars      True    F/10/P         NaN  19.0  False   \n",
       "128       0138_02      Earth     False     E/5/P         NaN  34.0  False   \n",
       "139       0152_01      Earth     False    F/32/P         NaN  41.0  False   \n",
       "347       0382_01        NaN     False    G/64/P         NaN  23.0  False   \n",
       "430       0462_01      Earth      True    G/67/S         NaN  50.0  False   \n",
       "...           ...        ...       ...       ...         ...   ...    ...   \n",
       "12851     9022_03      Earth      True  F/1748/S         NaN   0.0  False   \n",
       "12856     9039_01      Earth      True  G/1468/P         NaN  23.0  False   \n",
       "12889     9095_01      Earth     False  G/1478/P         NaN  31.0  False   \n",
       "12912     9155_01     Europa     False   C/304/P         NaN  17.0  False   \n",
       "12968     9273_01     Europa     False   D/297/P         NaN   NaN  False   \n",
       "\n",
       "       RoomService  FoodCourt  ShoppingMall     Spa  VRDeck  \\\n",
       "47             0.0        0.0           0.0     0.0     0.0   \n",
       "128            0.0       22.0           0.0   564.0   207.0   \n",
       "139            0.0        0.0           0.0     0.0   607.0   \n",
       "347          348.0        0.0           0.0     4.0   368.0   \n",
       "430            0.0        0.0           0.0     0.0     0.0   \n",
       "...            ...        ...           ...     ...     ...   \n",
       "12851          0.0        0.0           0.0     0.0     0.0   \n",
       "12856          0.0        0.0           0.0     0.0     0.0   \n",
       "12889          0.0        0.0           NaN     0.0   198.0   \n",
       "12912        149.0     2045.0           NaN  1872.0     0.0   \n",
       "12968          0.0     2680.0           0.0     0.0   523.0   \n",
       "\n",
       "                     Name Transported PassengerId_0 PassengerId_1 Cabin_0  \\\n",
       "47             Mass Chmad        True          0045            02       F   \n",
       "128           Monah Gambs       False          0138            02       E   \n",
       "139          Andan Estron       False          0152            01       F   \n",
       "347    Blanie Floydendley       False          0382            01       G   \n",
       "430     Ronia Sosanturney       False          0462            01       G   \n",
       "...                   ...         ...           ...           ...     ...   \n",
       "12851      Erice Boyerson         NaN          9022            03       F   \n",
       "12856     Nance Wilkinner         NaN          9039            01       G   \n",
       "12889     Lelah Reynoldez         NaN          9095            01       G   \n",
       "12912     Markar Amoutake         NaN          9155            01       C   \n",
       "12968      Kitakan Conale         NaN          9273            01       D   \n",
       "\n",
       "      Cabin_1 Cabin_2   Name_0       Name_1  Expenses  PassengerId0_repeated  \n",
       "47         10       P     Mass        Chmad       0.0                      2  \n",
       "128         5       P    Monah        Gambs     793.0                      2  \n",
       "139        32       P    Andan       Estron     607.0                      1  \n",
       "347        64       P   Blanie  Floydendley     720.0                      1  \n",
       "430        67       S    Ronia  Sosanturney       0.0                      1  \n",
       "...       ...     ...      ...          ...       ...                    ...  \n",
       "12851    1748       S    Erice     Boyerson       0.0                      3  \n",
       "12856    1468       P    Nance    Wilkinner       0.0                      1  \n",
       "12889    1478       P    Lelah    Reynoldez     198.0                      1  \n",
       "12912     304       P   Markar     Amoutake    4066.0                      4  \n",
       "12968     297       P  Kitakan       Conale    3203.0                      1  \n",
       "\n",
       "[274 rows x 23 columns]"
      ]
     },
     "execution_count": 29,
     "metadata": {},
     "output_type": "execute_result"
    }
   ],
   "source": [
    "traintest[(traintest[\"Destination\"].isnull() == True)]"
   ]
  },
  {
   "cell_type": "code",
   "execution_count": 30,
   "id": "1d16b914",
   "metadata": {
    "execution": {
     "iopub.execute_input": "2023-01-18T09:55:44.258242Z",
     "iopub.status.busy": "2023-01-18T09:55:44.257534Z",
     "iopub.status.idle": "2023-01-18T09:55:44.281051Z",
     "shell.execute_reply": "2023-01-18T09:55:44.280184Z"
    },
    "papermill": {
     "duration": 0.053728,
     "end_time": "2023-01-18T09:55:44.283257",
     "exception": false,
     "start_time": "2023-01-18T09:55:44.229529",
     "status": "completed"
    },
    "tags": []
   },
   "outputs": [
    {
     "data": {
      "text/html": [
       "<div>\n",
       "<style scoped>\n",
       "    .dataframe tbody tr th:only-of-type {\n",
       "        vertical-align: middle;\n",
       "    }\n",
       "\n",
       "    .dataframe tbody tr th {\n",
       "        vertical-align: top;\n",
       "    }\n",
       "\n",
       "    .dataframe thead th {\n",
       "        text-align: right;\n",
       "    }\n",
       "</style>\n",
       "<table border=\"1\" class=\"dataframe\">\n",
       "  <thead>\n",
       "    <tr style=\"text-align: right;\">\n",
       "      <th>Destination</th>\n",
       "      <th>55 Cancri e</th>\n",
       "      <th>PSO J318.5-22</th>\n",
       "      <th>TRAPPIST-1e</th>\n",
       "    </tr>\n",
       "    <tr>\n",
       "      <th>Cabin_0</th>\n",
       "      <th></th>\n",
       "      <th></th>\n",
       "      <th></th>\n",
       "    </tr>\n",
       "  </thead>\n",
       "  <tbody>\n",
       "    <tr>\n",
       "      <th>A</th>\n",
       "      <td>157.0</td>\n",
       "      <td>2.0</td>\n",
       "      <td>190.0</td>\n",
       "    </tr>\n",
       "    <tr>\n",
       "      <th>B</th>\n",
       "      <td>507.0</td>\n",
       "      <td>5.0</td>\n",
       "      <td>606.0</td>\n",
       "    </tr>\n",
       "    <tr>\n",
       "      <th>C</th>\n",
       "      <td>465.0</td>\n",
       "      <td>20.0</td>\n",
       "      <td>596.0</td>\n",
       "    </tr>\n",
       "    <tr>\n",
       "      <th>D</th>\n",
       "      <td>175.0</td>\n",
       "      <td>17.0</td>\n",
       "      <td>513.0</td>\n",
       "    </tr>\n",
       "    <tr>\n",
       "      <th>E</th>\n",
       "      <td>166.0</td>\n",
       "      <td>58.0</td>\n",
       "      <td>1064.0</td>\n",
       "    </tr>\n",
       "    <tr>\n",
       "      <th>F</th>\n",
       "      <td>572.0</td>\n",
       "      <td>362.0</td>\n",
       "      <td>3209.0</td>\n",
       "    </tr>\n",
       "    <tr>\n",
       "      <th>G</th>\n",
       "      <td>533.0</td>\n",
       "      <td>693.0</td>\n",
       "      <td>2480.0</td>\n",
       "    </tr>\n",
       "    <tr>\n",
       "      <th>T</th>\n",
       "      <td>2.0</td>\n",
       "      <td>NaN</td>\n",
       "      <td>9.0</td>\n",
       "    </tr>\n",
       "  </tbody>\n",
       "</table>\n",
       "</div>"
      ],
      "text/plain": [
       "Destination  55 Cancri e  PSO J318.5-22  TRAPPIST-1e\n",
       "Cabin_0                                             \n",
       "A                  157.0            2.0        190.0\n",
       "B                  507.0            5.0        606.0\n",
       "C                  465.0           20.0        596.0\n",
       "D                  175.0           17.0        513.0\n",
       "E                  166.0           58.0       1064.0\n",
       "F                  572.0          362.0       3209.0\n",
       "G                  533.0          693.0       2480.0\n",
       "T                    2.0            NaN          9.0"
      ]
     },
     "execution_count": 30,
     "metadata": {},
     "output_type": "execute_result"
    }
   ],
   "source": [
    "pd.pivot_table(traintest, values='PassengerId', index=['Cabin_0'],\n",
    "                    columns=['Destination'], aggfunc=\"count\")"
   ]
  },
  {
   "cell_type": "code",
   "execution_count": 31,
   "id": "af88d7fe",
   "metadata": {
    "execution": {
     "iopub.execute_input": "2023-01-18T09:55:44.338986Z",
     "iopub.status.busy": "2023-01-18T09:55:44.338566Z",
     "iopub.status.idle": "2023-01-18T09:55:44.361412Z",
     "shell.execute_reply": "2023-01-18T09:55:44.360353Z"
    },
    "papermill": {
     "duration": 0.053521,
     "end_time": "2023-01-18T09:55:44.363698",
     "exception": false,
     "start_time": "2023-01-18T09:55:44.310177",
     "status": "completed"
    },
    "tags": []
   },
   "outputs": [
    {
     "data": {
      "text/html": [
       "<div>\n",
       "<style scoped>\n",
       "    .dataframe tbody tr th:only-of-type {\n",
       "        vertical-align: middle;\n",
       "    }\n",
       "\n",
       "    .dataframe tbody tr th {\n",
       "        vertical-align: top;\n",
       "    }\n",
       "\n",
       "    .dataframe thead th {\n",
       "        text-align: right;\n",
       "    }\n",
       "</style>\n",
       "<table border=\"1\" class=\"dataframe\">\n",
       "  <thead>\n",
       "    <tr style=\"text-align: right;\">\n",
       "      <th>Destination</th>\n",
       "      <th>55 Cancri e</th>\n",
       "      <th>PSO J318.5-22</th>\n",
       "      <th>TRAPPIST-1e</th>\n",
       "    </tr>\n",
       "    <tr>\n",
       "      <th>Cabin_2</th>\n",
       "      <th></th>\n",
       "      <th></th>\n",
       "      <th></th>\n",
       "    </tr>\n",
       "  </thead>\n",
       "  <tbody>\n",
       "    <tr>\n",
       "      <th>P</th>\n",
       "      <td>1242</td>\n",
       "      <td>594</td>\n",
       "      <td>4320</td>\n",
       "    </tr>\n",
       "    <tr>\n",
       "      <th>S</th>\n",
       "      <td>1335</td>\n",
       "      <td>563</td>\n",
       "      <td>4347</td>\n",
       "    </tr>\n",
       "  </tbody>\n",
       "</table>\n",
       "</div>"
      ],
      "text/plain": [
       "Destination  55 Cancri e  PSO J318.5-22  TRAPPIST-1e\n",
       "Cabin_2                                             \n",
       "P                   1242            594         4320\n",
       "S                   1335            563         4347"
      ]
     },
     "execution_count": 31,
     "metadata": {},
     "output_type": "execute_result"
    }
   ],
   "source": [
    "pd.pivot_table(traintest, values='PassengerId', index=['Cabin_2'],\n",
    "                    columns=['Destination'], aggfunc=\"count\")"
   ]
  },
  {
   "cell_type": "code",
   "execution_count": 32,
   "id": "0ce61cb0",
   "metadata": {
    "execution": {
     "iopub.execute_input": "2023-01-18T09:55:44.419935Z",
     "iopub.status.busy": "2023-01-18T09:55:44.419490Z",
     "iopub.status.idle": "2023-01-18T09:55:44.443442Z",
     "shell.execute_reply": "2023-01-18T09:55:44.442313Z"
    },
    "papermill": {
     "duration": 0.054723,
     "end_time": "2023-01-18T09:55:44.446030",
     "exception": false,
     "start_time": "2023-01-18T09:55:44.391307",
     "status": "completed"
    },
    "tags": []
   },
   "outputs": [
    {
     "data": {
      "text/html": [
       "<div>\n",
       "<style scoped>\n",
       "    .dataframe tbody tr th:only-of-type {\n",
       "        vertical-align: middle;\n",
       "    }\n",
       "\n",
       "    .dataframe tbody tr th {\n",
       "        vertical-align: top;\n",
       "    }\n",
       "\n",
       "    .dataframe thead th {\n",
       "        text-align: right;\n",
       "    }\n",
       "</style>\n",
       "<table border=\"1\" class=\"dataframe\">\n",
       "  <thead>\n",
       "    <tr style=\"text-align: right;\">\n",
       "      <th>Destination</th>\n",
       "      <th>55 Cancri e</th>\n",
       "      <th>PSO J318.5-22</th>\n",
       "      <th>TRAPPIST-1e</th>\n",
       "    </tr>\n",
       "    <tr>\n",
       "      <th>HomePlanet</th>\n",
       "      <th></th>\n",
       "      <th></th>\n",
       "      <th></th>\n",
       "    </tr>\n",
       "  </thead>\n",
       "  <tbody>\n",
       "    <tr>\n",
       "      <th>Earth</th>\n",
       "      <td>984</td>\n",
       "      <td>1065</td>\n",
       "      <td>4672</td>\n",
       "    </tr>\n",
       "    <tr>\n",
       "      <th>Europa</th>\n",
       "      <td>1310</td>\n",
       "      <td>29</td>\n",
       "      <td>1737</td>\n",
       "    </tr>\n",
       "    <tr>\n",
       "      <th>Mars</th>\n",
       "      <td>294</td>\n",
       "      <td>67</td>\n",
       "      <td>2256</td>\n",
       "    </tr>\n",
       "  </tbody>\n",
       "</table>\n",
       "</div>"
      ],
      "text/plain": [
       "Destination  55 Cancri e  PSO J318.5-22  TRAPPIST-1e\n",
       "HomePlanet                                          \n",
       "Earth                984           1065         4672\n",
       "Europa              1310             29         1737\n",
       "Mars                 294             67         2256"
      ]
     },
     "execution_count": 32,
     "metadata": {},
     "output_type": "execute_result"
    }
   ],
   "source": [
    "pd.pivot_table(traintest, values='PassengerId', index=['HomePlanet'],\n",
    "                    columns=['Destination'], aggfunc=\"count\")"
   ]
  },
  {
   "cell_type": "markdown",
   "id": "cdd9a764",
   "metadata": {
    "papermill": {
     "duration": 0.026816,
     "end_time": "2023-01-18T09:55:44.500286",
     "exception": false,
     "start_time": "2023-01-18T09:55:44.473470",
     "status": "completed"
    },
    "tags": []
   },
   "source": [
    "Seems like no quick rules to create to impute **Destination**"
   ]
  },
  {
   "cell_type": "markdown",
   "id": "fb18f838",
   "metadata": {
    "papermill": {
     "duration": 0.027043,
     "end_time": "2023-01-18T09:55:44.554253",
     "exception": false,
     "start_time": "2023-01-18T09:55:44.527210",
     "status": "completed"
    },
    "tags": []
   },
   "source": [
    "### HomePlanet"
   ]
  },
  {
   "cell_type": "code",
   "execution_count": 33,
   "id": "92c93971",
   "metadata": {
    "execution": {
     "iopub.execute_input": "2023-01-18T09:55:44.610035Z",
     "iopub.status.busy": "2023-01-18T09:55:44.609647Z",
     "iopub.status.idle": "2023-01-18T09:55:44.648287Z",
     "shell.execute_reply": "2023-01-18T09:55:44.647188Z"
    },
    "papermill": {
     "duration": 0.069804,
     "end_time": "2023-01-18T09:55:44.651291",
     "exception": false,
     "start_time": "2023-01-18T09:55:44.581487",
     "status": "completed"
    },
    "tags": []
   },
   "outputs": [
    {
     "data": {
      "text/html": [
       "<div>\n",
       "<style scoped>\n",
       "    .dataframe tbody tr th:only-of-type {\n",
       "        vertical-align: middle;\n",
       "    }\n",
       "\n",
       "    .dataframe tbody tr th {\n",
       "        vertical-align: top;\n",
       "    }\n",
       "\n",
       "    .dataframe thead th {\n",
       "        text-align: right;\n",
       "    }\n",
       "</style>\n",
       "<table border=\"1\" class=\"dataframe\">\n",
       "  <thead>\n",
       "    <tr style=\"text-align: right;\">\n",
       "      <th></th>\n",
       "      <th>PassengerId</th>\n",
       "      <th>HomePlanet</th>\n",
       "      <th>CryoSleep</th>\n",
       "      <th>Cabin</th>\n",
       "      <th>Destination</th>\n",
       "      <th>Age</th>\n",
       "      <th>VIP</th>\n",
       "      <th>RoomService</th>\n",
       "      <th>FoodCourt</th>\n",
       "      <th>ShoppingMall</th>\n",
       "      <th>Spa</th>\n",
       "      <th>VRDeck</th>\n",
       "      <th>Name</th>\n",
       "      <th>Transported</th>\n",
       "      <th>PassengerId_0</th>\n",
       "      <th>PassengerId_1</th>\n",
       "      <th>Cabin_0</th>\n",
       "      <th>Cabin_1</th>\n",
       "      <th>Cabin_2</th>\n",
       "      <th>Name_0</th>\n",
       "      <th>Name_1</th>\n",
       "      <th>Expenses</th>\n",
       "      <th>PassengerId0_repeated</th>\n",
       "    </tr>\n",
       "  </thead>\n",
       "  <tbody>\n",
       "    <tr>\n",
       "      <th>59</th>\n",
       "      <td>0064_02</td>\n",
       "      <td>NaN</td>\n",
       "      <td>True</td>\n",
       "      <td>E/3/S</td>\n",
       "      <td>TRAPPIST-1e</td>\n",
       "      <td>33.0</td>\n",
       "      <td>False</td>\n",
       "      <td>0.0</td>\n",
       "      <td>0.0</td>\n",
       "      <td>NaN</td>\n",
       "      <td>0.0</td>\n",
       "      <td>0.0</td>\n",
       "      <td>Colatz Keen</td>\n",
       "      <td>True</td>\n",
       "      <td>0064</td>\n",
       "      <td>02</td>\n",
       "      <td>E</td>\n",
       "      <td>3</td>\n",
       "      <td>S</td>\n",
       "      <td>Colatz</td>\n",
       "      <td>Keen</td>\n",
       "      <td>0.0</td>\n",
       "      <td>2</td>\n",
       "    </tr>\n",
       "    <tr>\n",
       "      <th>113</th>\n",
       "      <td>0119_01</td>\n",
       "      <td>NaN</td>\n",
       "      <td>False</td>\n",
       "      <td>A/0/P</td>\n",
       "      <td>TRAPPIST-1e</td>\n",
       "      <td>39.0</td>\n",
       "      <td>False</td>\n",
       "      <td>0.0</td>\n",
       "      <td>2344.0</td>\n",
       "      <td>0.0</td>\n",
       "      <td>65.0</td>\n",
       "      <td>6898.0</td>\n",
       "      <td>Batan Coning</td>\n",
       "      <td>False</td>\n",
       "      <td>0119</td>\n",
       "      <td>01</td>\n",
       "      <td>A</td>\n",
       "      <td>0</td>\n",
       "      <td>P</td>\n",
       "      <td>Batan</td>\n",
       "      <td>Coning</td>\n",
       "      <td>9307.0</td>\n",
       "      <td>2</td>\n",
       "    </tr>\n",
       "    <tr>\n",
       "      <th>186</th>\n",
       "      <td>0210_01</td>\n",
       "      <td>NaN</td>\n",
       "      <td>True</td>\n",
       "      <td>D/6/P</td>\n",
       "      <td>55 Cancri e</td>\n",
       "      <td>24.0</td>\n",
       "      <td>False</td>\n",
       "      <td>0.0</td>\n",
       "      <td>0.0</td>\n",
       "      <td>NaN</td>\n",
       "      <td>0.0</td>\n",
       "      <td>0.0</td>\n",
       "      <td>Arraid Inicont</td>\n",
       "      <td>True</td>\n",
       "      <td>0210</td>\n",
       "      <td>01</td>\n",
       "      <td>D</td>\n",
       "      <td>6</td>\n",
       "      <td>P</td>\n",
       "      <td>Arraid</td>\n",
       "      <td>Inicont</td>\n",
       "      <td>0.0</td>\n",
       "      <td>1</td>\n",
       "    </tr>\n",
       "    <tr>\n",
       "      <th>225</th>\n",
       "      <td>0242_01</td>\n",
       "      <td>NaN</td>\n",
       "      <td>False</td>\n",
       "      <td>F/46/S</td>\n",
       "      <td>TRAPPIST-1e</td>\n",
       "      <td>18.0</td>\n",
       "      <td>False</td>\n",
       "      <td>313.0</td>\n",
       "      <td>1.0</td>\n",
       "      <td>691.0</td>\n",
       "      <td>283.0</td>\n",
       "      <td>0.0</td>\n",
       "      <td>Almone Sté</td>\n",
       "      <td>False</td>\n",
       "      <td>0242</td>\n",
       "      <td>01</td>\n",
       "      <td>F</td>\n",
       "      <td>46</td>\n",
       "      <td>S</td>\n",
       "      <td>Almone</td>\n",
       "      <td>Sté</td>\n",
       "      <td>1288.0</td>\n",
       "      <td>1</td>\n",
       "    </tr>\n",
       "    <tr>\n",
       "      <th>234</th>\n",
       "      <td>0251_01</td>\n",
       "      <td>NaN</td>\n",
       "      <td>True</td>\n",
       "      <td>C/11/S</td>\n",
       "      <td>55 Cancri e</td>\n",
       "      <td>54.0</td>\n",
       "      <td>False</td>\n",
       "      <td>0.0</td>\n",
       "      <td>0.0</td>\n",
       "      <td>0.0</td>\n",
       "      <td>0.0</td>\n",
       "      <td>0.0</td>\n",
       "      <td>Diphah Amsive</td>\n",
       "      <td>True</td>\n",
       "      <td>0251</td>\n",
       "      <td>01</td>\n",
       "      <td>C</td>\n",
       "      <td>11</td>\n",
       "      <td>S</td>\n",
       "      <td>Diphah</td>\n",
       "      <td>Amsive</td>\n",
       "      <td>0.0</td>\n",
       "      <td>1</td>\n",
       "    </tr>\n",
       "    <tr>\n",
       "      <th>...</th>\n",
       "      <td>...</td>\n",
       "      <td>...</td>\n",
       "      <td>...</td>\n",
       "      <td>...</td>\n",
       "      <td>...</td>\n",
       "      <td>...</td>\n",
       "      <td>...</td>\n",
       "      <td>...</td>\n",
       "      <td>...</td>\n",
       "      <td>...</td>\n",
       "      <td>...</td>\n",
       "      <td>...</td>\n",
       "      <td>...</td>\n",
       "      <td>...</td>\n",
       "      <td>...</td>\n",
       "      <td>...</td>\n",
       "      <td>...</td>\n",
       "      <td>...</td>\n",
       "      <td>...</td>\n",
       "      <td>...</td>\n",
       "      <td>...</td>\n",
       "      <td>...</td>\n",
       "      <td>...</td>\n",
       "    </tr>\n",
       "    <tr>\n",
       "      <th>12650</th>\n",
       "      <td>8621_01</td>\n",
       "      <td>NaN</td>\n",
       "      <td>False</td>\n",
       "      <td>E/552/P</td>\n",
       "      <td>TRAPPIST-1e</td>\n",
       "      <td>19.0</td>\n",
       "      <td>False</td>\n",
       "      <td>4.0</td>\n",
       "      <td>0.0</td>\n",
       "      <td>1604.0</td>\n",
       "      <td>0.0</td>\n",
       "      <td>0.0</td>\n",
       "      <td>Vanley Simmonders</td>\n",
       "      <td>NaN</td>\n",
       "      <td>8621</td>\n",
       "      <td>01</td>\n",
       "      <td>E</td>\n",
       "      <td>552</td>\n",
       "      <td>P</td>\n",
       "      <td>Vanley</td>\n",
       "      <td>Simmonders</td>\n",
       "      <td>1608.0</td>\n",
       "      <td>1</td>\n",
       "    </tr>\n",
       "    <tr>\n",
       "      <th>12673</th>\n",
       "      <td>8678_01</td>\n",
       "      <td>NaN</td>\n",
       "      <td>True</td>\n",
       "      <td>G/1399/S</td>\n",
       "      <td>55 Cancri e</td>\n",
       "      <td>9.0</td>\n",
       "      <td>False</td>\n",
       "      <td>0.0</td>\n",
       "      <td>0.0</td>\n",
       "      <td>0.0</td>\n",
       "      <td>0.0</td>\n",
       "      <td>0.0</td>\n",
       "      <td>Eilan Kellson</td>\n",
       "      <td>NaN</td>\n",
       "      <td>8678</td>\n",
       "      <td>01</td>\n",
       "      <td>G</td>\n",
       "      <td>1399</td>\n",
       "      <td>S</td>\n",
       "      <td>Eilan</td>\n",
       "      <td>Kellson</td>\n",
       "      <td>0.0</td>\n",
       "      <td>2</td>\n",
       "    </tr>\n",
       "    <tr>\n",
       "      <th>12725</th>\n",
       "      <td>8775_01</td>\n",
       "      <td>NaN</td>\n",
       "      <td>True</td>\n",
       "      <td>D/275/P</td>\n",
       "      <td>TRAPPIST-1e</td>\n",
       "      <td>40.0</td>\n",
       "      <td>False</td>\n",
       "      <td>0.0</td>\n",
       "      <td>0.0</td>\n",
       "      <td>0.0</td>\n",
       "      <td>0.0</td>\n",
       "      <td>0.0</td>\n",
       "      <td>Raston Maltorted</td>\n",
       "      <td>NaN</td>\n",
       "      <td>8775</td>\n",
       "      <td>01</td>\n",
       "      <td>D</td>\n",
       "      <td>275</td>\n",
       "      <td>P</td>\n",
       "      <td>Raston</td>\n",
       "      <td>Maltorted</td>\n",
       "      <td>0.0</td>\n",
       "      <td>1</td>\n",
       "    </tr>\n",
       "    <tr>\n",
       "      <th>12852</th>\n",
       "      <td>9025_01</td>\n",
       "      <td>NaN</td>\n",
       "      <td>False</td>\n",
       "      <td>G/1454/S</td>\n",
       "      <td>TRAPPIST-1e</td>\n",
       "      <td>42.0</td>\n",
       "      <td>False</td>\n",
       "      <td>0.0</td>\n",
       "      <td>0.0</td>\n",
       "      <td>28.0</td>\n",
       "      <td>726.0</td>\n",
       "      <td>0.0</td>\n",
       "      <td>Ale Whitersone</td>\n",
       "      <td>NaN</td>\n",
       "      <td>9025</td>\n",
       "      <td>01</td>\n",
       "      <td>G</td>\n",
       "      <td>1454</td>\n",
       "      <td>S</td>\n",
       "      <td>Ale</td>\n",
       "      <td>Whitersone</td>\n",
       "      <td>754.0</td>\n",
       "      <td>2</td>\n",
       "    </tr>\n",
       "    <tr>\n",
       "      <th>12906</th>\n",
       "      <td>9146_01</td>\n",
       "      <td>NaN</td>\n",
       "      <td>False</td>\n",
       "      <td>F/1874/P</td>\n",
       "      <td>TRAPPIST-1e</td>\n",
       "      <td>52.0</td>\n",
       "      <td>False</td>\n",
       "      <td>994.0</td>\n",
       "      <td>0.0</td>\n",
       "      <td>173.0</td>\n",
       "      <td>0.0</td>\n",
       "      <td>24.0</td>\n",
       "      <td>Rionk Sache</td>\n",
       "      <td>NaN</td>\n",
       "      <td>9146</td>\n",
       "      <td>01</td>\n",
       "      <td>F</td>\n",
       "      <td>1874</td>\n",
       "      <td>P</td>\n",
       "      <td>Rionk</td>\n",
       "      <td>Sache</td>\n",
       "      <td>1191.0</td>\n",
       "      <td>3</td>\n",
       "    </tr>\n",
       "  </tbody>\n",
       "</table>\n",
       "<p>288 rows × 23 columns</p>\n",
       "</div>"
      ],
      "text/plain": [
       "      PassengerId HomePlanet CryoSleep     Cabin  Destination   Age    VIP  \\\n",
       "59        0064_02        NaN      True     E/3/S  TRAPPIST-1e  33.0  False   \n",
       "113       0119_01        NaN     False     A/0/P  TRAPPIST-1e  39.0  False   \n",
       "186       0210_01        NaN      True     D/6/P  55 Cancri e  24.0  False   \n",
       "225       0242_01        NaN     False    F/46/S  TRAPPIST-1e  18.0  False   \n",
       "234       0251_01        NaN      True    C/11/S  55 Cancri e  54.0  False   \n",
       "...           ...        ...       ...       ...          ...   ...    ...   \n",
       "12650     8621_01        NaN     False   E/552/P  TRAPPIST-1e  19.0  False   \n",
       "12673     8678_01        NaN      True  G/1399/S  55 Cancri e   9.0  False   \n",
       "12725     8775_01        NaN      True   D/275/P  TRAPPIST-1e  40.0  False   \n",
       "12852     9025_01        NaN     False  G/1454/S  TRAPPIST-1e  42.0  False   \n",
       "12906     9146_01        NaN     False  F/1874/P  TRAPPIST-1e  52.0  False   \n",
       "\n",
       "       RoomService  FoodCourt  ShoppingMall    Spa  VRDeck               Name  \\\n",
       "59             0.0        0.0           NaN    0.0     0.0        Colatz Keen   \n",
       "113            0.0     2344.0           0.0   65.0  6898.0       Batan Coning   \n",
       "186            0.0        0.0           NaN    0.0     0.0     Arraid Inicont   \n",
       "225          313.0        1.0         691.0  283.0     0.0         Almone Sté   \n",
       "234            0.0        0.0           0.0    0.0     0.0      Diphah Amsive   \n",
       "...            ...        ...           ...    ...     ...                ...   \n",
       "12650          4.0        0.0        1604.0    0.0     0.0  Vanley Simmonders   \n",
       "12673          0.0        0.0           0.0    0.0     0.0      Eilan Kellson   \n",
       "12725          0.0        0.0           0.0    0.0     0.0   Raston Maltorted   \n",
       "12852          0.0        0.0          28.0  726.0     0.0     Ale Whitersone   \n",
       "12906        994.0        0.0         173.0    0.0    24.0        Rionk Sache   \n",
       "\n",
       "      Transported PassengerId_0 PassengerId_1 Cabin_0 Cabin_1 Cabin_2  Name_0  \\\n",
       "59           True          0064            02       E       3       S  Colatz   \n",
       "113         False          0119            01       A       0       P   Batan   \n",
       "186          True          0210            01       D       6       P  Arraid   \n",
       "225         False          0242            01       F      46       S  Almone   \n",
       "234          True          0251            01       C      11       S  Diphah   \n",
       "...           ...           ...           ...     ...     ...     ...     ...   \n",
       "12650         NaN          8621            01       E     552       P  Vanley   \n",
       "12673         NaN          8678            01       G    1399       S   Eilan   \n",
       "12725         NaN          8775            01       D     275       P  Raston   \n",
       "12852         NaN          9025            01       G    1454       S     Ale   \n",
       "12906         NaN          9146            01       F    1874       P   Rionk   \n",
       "\n",
       "           Name_1  Expenses  PassengerId0_repeated  \n",
       "59           Keen       0.0                      2  \n",
       "113        Coning    9307.0                      2  \n",
       "186       Inicont       0.0                      1  \n",
       "225           Sté    1288.0                      1  \n",
       "234        Amsive       0.0                      1  \n",
       "...           ...       ...                    ...  \n",
       "12650  Simmonders    1608.0                      1  \n",
       "12673     Kellson       0.0                      2  \n",
       "12725   Maltorted       0.0                      1  \n",
       "12852  Whitersone     754.0                      2  \n",
       "12906       Sache    1191.0                      3  \n",
       "\n",
       "[288 rows x 23 columns]"
      ]
     },
     "execution_count": 33,
     "metadata": {},
     "output_type": "execute_result"
    }
   ],
   "source": [
    "traintest[(traintest[\"HomePlanet\"].isnull() == True)]"
   ]
  },
  {
   "cell_type": "code",
   "execution_count": 34,
   "id": "cc4cf4f2",
   "metadata": {
    "execution": {
     "iopub.execute_input": "2023-01-18T09:55:44.709516Z",
     "iopub.status.busy": "2023-01-18T09:55:44.709107Z",
     "iopub.status.idle": "2023-01-18T09:55:44.729720Z",
     "shell.execute_reply": "2023-01-18T09:55:44.728919Z"
    },
    "papermill": {
     "duration": 0.051803,
     "end_time": "2023-01-18T09:55:44.732029",
     "exception": false,
     "start_time": "2023-01-18T09:55:44.680226",
     "status": "completed"
    },
    "tags": []
   },
   "outputs": [
    {
     "data": {
      "text/html": [
       "<div>\n",
       "<style scoped>\n",
       "    .dataframe tbody tr th:only-of-type {\n",
       "        vertical-align: middle;\n",
       "    }\n",
       "\n",
       "    .dataframe tbody tr th {\n",
       "        vertical-align: top;\n",
       "    }\n",
       "\n",
       "    .dataframe thead th {\n",
       "        text-align: right;\n",
       "    }\n",
       "</style>\n",
       "<table border=\"1\" class=\"dataframe\">\n",
       "  <thead>\n",
       "    <tr style=\"text-align: right;\">\n",
       "      <th>HomePlanet</th>\n",
       "      <th>Earth</th>\n",
       "      <th>Europa</th>\n",
       "      <th>Mars</th>\n",
       "    </tr>\n",
       "    <tr>\n",
       "      <th>Cabin_2</th>\n",
       "      <th></th>\n",
       "      <th></th>\n",
       "      <th></th>\n",
       "    </tr>\n",
       "  </thead>\n",
       "  <tbody>\n",
       "    <tr>\n",
       "      <th>P</th>\n",
       "      <td>3382</td>\n",
       "      <td>1450</td>\n",
       "      <td>1330</td>\n",
       "    </tr>\n",
       "    <tr>\n",
       "      <th>S</th>\n",
       "      <td>3327</td>\n",
       "      <td>1604</td>\n",
       "      <td>1297</td>\n",
       "    </tr>\n",
       "  </tbody>\n",
       "</table>\n",
       "</div>"
      ],
      "text/plain": [
       "HomePlanet  Earth  Europa  Mars\n",
       "Cabin_2                        \n",
       "P            3382    1450  1330\n",
       "S            3327    1604  1297"
      ]
     },
     "execution_count": 34,
     "metadata": {},
     "output_type": "execute_result"
    }
   ],
   "source": [
    "pd.pivot_table(traintest, values='PassengerId', index=['Cabin_2'],\n",
    "                    columns=['HomePlanet'], aggfunc=\"count\")"
   ]
  },
  {
   "cell_type": "code",
   "execution_count": 35,
   "id": "13bb4a6e",
   "metadata": {
    "execution": {
     "iopub.execute_input": "2023-01-18T09:55:44.790350Z",
     "iopub.status.busy": "2023-01-18T09:55:44.789547Z",
     "iopub.status.idle": "2023-01-18T09:55:44.814650Z",
     "shell.execute_reply": "2023-01-18T09:55:44.813502Z"
    },
    "papermill": {
     "duration": 0.056839,
     "end_time": "2023-01-18T09:55:44.817072",
     "exception": false,
     "start_time": "2023-01-18T09:55:44.760233",
     "status": "completed"
    },
    "tags": []
   },
   "outputs": [
    {
     "data": {
      "text/html": [
       "<div>\n",
       "<style scoped>\n",
       "    .dataframe tbody tr th:only-of-type {\n",
       "        vertical-align: middle;\n",
       "    }\n",
       "\n",
       "    .dataframe tbody tr th {\n",
       "        vertical-align: top;\n",
       "    }\n",
       "\n",
       "    .dataframe thead th {\n",
       "        text-align: right;\n",
       "    }\n",
       "</style>\n",
       "<table border=\"1\" class=\"dataframe\">\n",
       "  <thead>\n",
       "    <tr style=\"text-align: right;\">\n",
       "      <th>HomePlanet</th>\n",
       "      <th>Earth</th>\n",
       "      <th>Europa</th>\n",
       "      <th>Mars</th>\n",
       "    </tr>\n",
       "    <tr>\n",
       "      <th>Cabin_0</th>\n",
       "      <th></th>\n",
       "      <th></th>\n",
       "      <th></th>\n",
       "    </tr>\n",
       "  </thead>\n",
       "  <tbody>\n",
       "    <tr>\n",
       "      <th>A</th>\n",
       "      <td>NaN</td>\n",
       "      <td>346.0</td>\n",
       "      <td>NaN</td>\n",
       "    </tr>\n",
       "    <tr>\n",
       "      <th>B</th>\n",
       "      <td>NaN</td>\n",
       "      <td>1124.0</td>\n",
       "      <td>NaN</td>\n",
       "    </tr>\n",
       "    <tr>\n",
       "      <th>C</th>\n",
       "      <td>NaN</td>\n",
       "      <td>1081.0</td>\n",
       "      <td>NaN</td>\n",
       "    </tr>\n",
       "    <tr>\n",
       "      <th>D</th>\n",
       "      <td>NaN</td>\n",
       "      <td>296.0</td>\n",
       "      <td>406.0</td>\n",
       "    </tr>\n",
       "    <tr>\n",
       "      <th>E</th>\n",
       "      <td>583.0</td>\n",
       "      <td>197.0</td>\n",
       "      <td>508.0</td>\n",
       "    </tr>\n",
       "    <tr>\n",
       "      <th>F</th>\n",
       "      <td>2426.0</td>\n",
       "      <td>NaN</td>\n",
       "      <td>1713.0</td>\n",
       "    </tr>\n",
       "    <tr>\n",
       "      <th>G</th>\n",
       "      <td>3700.0</td>\n",
       "      <td>NaN</td>\n",
       "      <td>NaN</td>\n",
       "    </tr>\n",
       "    <tr>\n",
       "      <th>T</th>\n",
       "      <td>NaN</td>\n",
       "      <td>10.0</td>\n",
       "      <td>NaN</td>\n",
       "    </tr>\n",
       "  </tbody>\n",
       "</table>\n",
       "</div>"
      ],
      "text/plain": [
       "HomePlanet   Earth  Europa    Mars\n",
       "Cabin_0                           \n",
       "A              NaN   346.0     NaN\n",
       "B              NaN  1124.0     NaN\n",
       "C              NaN  1081.0     NaN\n",
       "D              NaN   296.0   406.0\n",
       "E            583.0   197.0   508.0\n",
       "F           2426.0     NaN  1713.0\n",
       "G           3700.0     NaN     NaN\n",
       "T              NaN    10.0     NaN"
      ]
     },
     "execution_count": 35,
     "metadata": {},
     "output_type": "execute_result"
    }
   ],
   "source": [
    "pd.pivot_table(traintest, values='PassengerId', index=['Cabin_0'],\n",
    "                    columns=['HomePlanet'], aggfunc=\"count\")"
   ]
  },
  {
   "cell_type": "code",
   "execution_count": 36,
   "id": "c0d2f345",
   "metadata": {
    "execution": {
     "iopub.execute_input": "2023-01-18T09:55:44.876585Z",
     "iopub.status.busy": "2023-01-18T09:55:44.875747Z",
     "iopub.status.idle": "2023-01-18T09:55:44.897971Z",
     "shell.execute_reply": "2023-01-18T09:55:44.896817Z"
    },
    "papermill": {
     "duration": 0.054984,
     "end_time": "2023-01-18T09:55:44.900304",
     "exception": false,
     "start_time": "2023-01-18T09:55:44.845320",
     "status": "completed"
    },
    "tags": []
   },
   "outputs": [
    {
     "data": {
      "text/html": [
       "<div>\n",
       "<style scoped>\n",
       "    .dataframe tbody tr th:only-of-type {\n",
       "        vertical-align: middle;\n",
       "    }\n",
       "\n",
       "    .dataframe tbody tr th {\n",
       "        vertical-align: top;\n",
       "    }\n",
       "\n",
       "    .dataframe thead th {\n",
       "        text-align: right;\n",
       "    }\n",
       "</style>\n",
       "<table border=\"1\" class=\"dataframe\">\n",
       "  <thead>\n",
       "    <tr style=\"text-align: right;\">\n",
       "      <th>HomePlanet</th>\n",
       "      <th>Earth</th>\n",
       "      <th>Europa</th>\n",
       "      <th>Mars</th>\n",
       "    </tr>\n",
       "    <tr>\n",
       "      <th>Destination</th>\n",
       "      <th></th>\n",
       "      <th></th>\n",
       "      <th></th>\n",
       "    </tr>\n",
       "  </thead>\n",
       "  <tbody>\n",
       "    <tr>\n",
       "      <th>55 Cancri e</th>\n",
       "      <td>984</td>\n",
       "      <td>1310</td>\n",
       "      <td>294</td>\n",
       "    </tr>\n",
       "    <tr>\n",
       "      <th>PSO J318.5-22</th>\n",
       "      <td>1065</td>\n",
       "      <td>29</td>\n",
       "      <td>67</td>\n",
       "    </tr>\n",
       "    <tr>\n",
       "      <th>TRAPPIST-1e</th>\n",
       "      <td>4672</td>\n",
       "      <td>1737</td>\n",
       "      <td>2256</td>\n",
       "    </tr>\n",
       "  </tbody>\n",
       "</table>\n",
       "</div>"
      ],
      "text/plain": [
       "HomePlanet     Earth  Europa  Mars\n",
       "Destination                       \n",
       "55 Cancri e      984    1310   294\n",
       "PSO J318.5-22   1065      29    67\n",
       "TRAPPIST-1e     4672    1737  2256"
      ]
     },
     "execution_count": 36,
     "metadata": {},
     "output_type": "execute_result"
    }
   ],
   "source": [
    "pd.pivot_table(traintest, values='PassengerId', index=['Destination'],\n",
    "                    columns=['HomePlanet'], aggfunc=\"count\")"
   ]
  },
  {
   "cell_type": "code",
   "execution_count": 37,
   "id": "eea21c40",
   "metadata": {
    "execution": {
     "iopub.execute_input": "2023-01-18T09:55:44.958834Z",
     "iopub.status.busy": "2023-01-18T09:55:44.958411Z",
     "iopub.status.idle": "2023-01-18T09:55:44.982148Z",
     "shell.execute_reply": "2023-01-18T09:55:44.980938Z"
    },
    "papermill": {
     "duration": 0.055637,
     "end_time": "2023-01-18T09:55:44.984402",
     "exception": false,
     "start_time": "2023-01-18T09:55:44.928765",
     "status": "completed"
    },
    "tags": []
   },
   "outputs": [
    {
     "data": {
      "text/html": [
       "<div>\n",
       "<style scoped>\n",
       "    .dataframe tbody tr th:only-of-type {\n",
       "        vertical-align: middle;\n",
       "    }\n",
       "\n",
       "    .dataframe tbody tr th {\n",
       "        vertical-align: top;\n",
       "    }\n",
       "\n",
       "    .dataframe thead th {\n",
       "        text-align: right;\n",
       "    }\n",
       "</style>\n",
       "<table border=\"1\" class=\"dataframe\">\n",
       "  <thead>\n",
       "    <tr style=\"text-align: right;\">\n",
       "      <th>HomePlanet</th>\n",
       "      <th>Earth</th>\n",
       "      <th>Europa</th>\n",
       "      <th>Mars</th>\n",
       "    </tr>\n",
       "    <tr>\n",
       "      <th>VIP</th>\n",
       "      <th></th>\n",
       "      <th></th>\n",
       "      <th></th>\n",
       "    </tr>\n",
       "  </thead>\n",
       "  <tbody>\n",
       "    <tr>\n",
       "      <th>False</th>\n",
       "      <td>6706.0</td>\n",
       "      <td>2883.0</td>\n",
       "      <td>2533.0</td>\n",
       "    </tr>\n",
       "    <tr>\n",
       "      <th>True</th>\n",
       "      <td>NaN</td>\n",
       "      <td>177.0</td>\n",
       "      <td>90.0</td>\n",
       "    </tr>\n",
       "  </tbody>\n",
       "</table>\n",
       "</div>"
      ],
      "text/plain": [
       "HomePlanet   Earth  Europa    Mars\n",
       "VIP                               \n",
       "False       6706.0  2883.0  2533.0\n",
       "True           NaN   177.0    90.0"
      ]
     },
     "execution_count": 37,
     "metadata": {},
     "output_type": "execute_result"
    }
   ],
   "source": [
    "pd.pivot_table(traintest, values='PassengerId', index=['VIP'],\n",
    "                    columns=['HomePlanet'], aggfunc=\"count\")"
   ]
  },
  {
   "cell_type": "code",
   "execution_count": 38,
   "id": "465c7360",
   "metadata": {
    "execution": {
     "iopub.execute_input": "2023-01-18T09:55:45.042464Z",
     "iopub.status.busy": "2023-01-18T09:55:45.042023Z",
     "iopub.status.idle": "2023-01-18T09:55:45.047097Z",
     "shell.execute_reply": "2023-01-18T09:55:45.045928Z"
    },
    "papermill": {
     "duration": 0.036623,
     "end_time": "2023-01-18T09:55:45.049246",
     "exception": false,
     "start_time": "2023-01-18T09:55:45.012623",
     "status": "completed"
    },
    "tags": []
   },
   "outputs": [],
   "source": [
    "mapper_homeplant = {\"A\":\"Europa\" , \"B\":\"Europa\",\"C\":\"Europa\" ,\"G\":\"Earth\" , \"T\":\"Europa\"}\n",
    "# mapper_homeplant_1 = {False: \"Earth\" , True:\"Europa\"}"
   ]
  },
  {
   "cell_type": "markdown",
   "id": "1ee66fa8",
   "metadata": {
    "papermill": {
     "duration": 0.027943,
     "end_time": "2023-01-18T09:55:45.105513",
     "exception": false,
     "start_time": "2023-01-18T09:55:45.077570",
     "status": "completed"
    },
    "tags": []
   },
   "source": [
    "Seems like we can make some kind of dict to map by using Cabin_0 to impute HomePlanet. We can also see that Earthlings do not get a VIP pass often, however am not gonna create any rules based on this fact and ill let the imputer later impute missing values here.\n",
    "\n",
    "Check if persons from other plants are on average older or if they spend more"
   ]
  },
  {
   "cell_type": "code",
   "execution_count": 39,
   "id": "83aa146c",
   "metadata": {
    "execution": {
     "iopub.execute_input": "2023-01-18T09:55:45.164784Z",
     "iopub.status.busy": "2023-01-18T09:55:45.164358Z",
     "iopub.status.idle": "2023-01-18T09:55:45.345265Z",
     "shell.execute_reply": "2023-01-18T09:55:45.344088Z"
    },
    "papermill": {
     "duration": 0.214273,
     "end_time": "2023-01-18T09:55:45.348584",
     "exception": false,
     "start_time": "2023-01-18T09:55:45.134311",
     "status": "completed"
    },
    "tags": []
   },
   "outputs": [
    {
     "data": {
      "image/png": "[encoded data removed]",
      "text/plain": [
       "<Figure size 432x288 with 1 Axes>"
      ]
     },
     "metadata": {
      "needs_background": "light"
     },
     "output_type": "display_data"
    },
    {
     "name": "stdout",
     "output_type": "stream",
     "text": [
      "Median age of nans:26.0\n",
      "Median age of non nans:27.0\n"
     ]
    }
   ],
   "source": [
    "traintest[(traintest[\"HomePlanet\"].isnull() == True)].Age.hist()\n",
    "plt.show()\n",
    "print(f\"Median age of nans:{traintest[(traintest['HomePlanet'].isnull() == True)].Age.median()}\")\n",
    "print(f\"Median age of non nans:{traintest.Age.median()}\")"
   ]
  },
  {
   "cell_type": "code",
   "execution_count": 40,
   "id": "5f890480",
   "metadata": {
    "execution": {
     "iopub.execute_input": "2023-01-18T09:55:45.410347Z",
     "iopub.status.busy": "2023-01-18T09:55:45.409970Z",
     "iopub.status.idle": "2023-01-18T09:55:45.582256Z",
     "shell.execute_reply": "2023-01-18T09:55:45.581383Z"
    },
    "papermill": {
     "duration": 0.205648,
     "end_time": "2023-01-18T09:55:45.584586",
     "exception": false,
     "start_time": "2023-01-18T09:55:45.378938",
     "status": "completed"
    },
    "tags": []
   },
   "outputs": [
    {
     "name": "stdout",
     "output_type": "stream",
     "text": [
      "Median expenses of nans:737.0\n",
      "Median expenses of non nans:716.0\n"
     ]
    },
    {
     "data": {
      "image/png": "[encoded data removed]",
      "text/plain": [
       "<Figure size 432x288 with 1 Axes>"
      ]
     },
     "metadata": {
      "needs_background": "light"
     },
     "output_type": "display_data"
    }
   ],
   "source": [
    "traintest[(traintest[\"HomePlanet\"].isnull() == True)].Expenses.hist()\n",
    "print(f\"Median expenses of nans:{traintest[(traintest['HomePlanet'].isnull() == True)].Expenses.median()}\")\n",
    "print(f\"Median expenses of non nans:{traintest.Expenses.median()}\")"
   ]
  },
  {
   "cell_type": "code",
   "execution_count": 41,
   "id": "03e44624",
   "metadata": {
    "execution": {
     "iopub.execute_input": "2023-01-18T09:55:45.645587Z",
     "iopub.status.busy": "2023-01-18T09:55:45.644571Z",
     "iopub.status.idle": "2023-01-18T09:55:45.661092Z",
     "shell.execute_reply": "2023-01-18T09:55:45.659991Z"
    },
    "papermill": {
     "duration": 0.04999,
     "end_time": "2023-01-18T09:55:45.663575",
     "exception": false,
     "start_time": "2023-01-18T09:55:45.613585",
     "status": "completed"
    },
    "tags": []
   },
   "outputs": [
    {
     "data": {
      "text/html": [
       "<div>\n",
       "<style scoped>\n",
       "    .dataframe tbody tr th:only-of-type {\n",
       "        vertical-align: middle;\n",
       "    }\n",
       "\n",
       "    .dataframe tbody tr th {\n",
       "        vertical-align: top;\n",
       "    }\n",
       "\n",
       "    .dataframe thead th {\n",
       "        text-align: right;\n",
       "    }\n",
       "</style>\n",
       "<table border=\"1\" class=\"dataframe\">\n",
       "  <thead>\n",
       "    <tr style=\"text-align: right;\">\n",
       "      <th></th>\n",
       "      <th>PassengerId</th>\n",
       "      <th>HomePlanet</th>\n",
       "      <th>CryoSleep</th>\n",
       "      <th>Cabin</th>\n",
       "      <th>Destination</th>\n",
       "      <th>Age</th>\n",
       "      <th>VIP</th>\n",
       "      <th>RoomService</th>\n",
       "      <th>FoodCourt</th>\n",
       "      <th>ShoppingMall</th>\n",
       "      <th>Spa</th>\n",
       "      <th>VRDeck</th>\n",
       "      <th>Name</th>\n",
       "      <th>Transported</th>\n",
       "      <th>PassengerId_0</th>\n",
       "      <th>PassengerId_1</th>\n",
       "      <th>Cabin_0</th>\n",
       "      <th>Cabin_1</th>\n",
       "      <th>Cabin_2</th>\n",
       "      <th>Name_0</th>\n",
       "      <th>Name_1</th>\n",
       "      <th>Expenses</th>\n",
       "      <th>PassengerId0_repeated</th>\n",
       "    </tr>\n",
       "  </thead>\n",
       "  <tbody>\n",
       "  </tbody>\n",
       "</table>\n",
       "</div>"
      ],
      "text/plain": [
       "Empty DataFrame\n",
       "Columns: [PassengerId, HomePlanet, CryoSleep, Cabin, Destination, Age, VIP, RoomService, FoodCourt, ShoppingMall, Spa, VRDeck, Name, Transported, PassengerId_0, PassengerId_1, Cabin_0, Cabin_1, Cabin_2, Name_0, Name_1, Expenses, PassengerId0_repeated]\n",
       "Index: []"
      ]
     },
     "execution_count": 41,
     "metadata": {},
     "output_type": "execute_result"
    }
   ],
   "source": [
    "traintest[(traintest[\"HomePlanet\"].isnull() == True) & traintest[\"PassengerId0_repeated\"].isnull() > 1 ]"
   ]
  },
  {
   "cell_type": "markdown",
   "id": "b8bc7592",
   "metadata": {
    "execution": {
     "iopub.execute_input": "2023-01-17T10:41:45.687946Z",
     "iopub.status.busy": "2023-01-17T10:41:45.687517Z",
     "iopub.status.idle": "2023-01-17T10:41:45.694622Z",
     "shell.execute_reply": "2023-01-17T10:41:45.693465Z",
     "shell.execute_reply.started": "2023-01-17T10:41:45.687914Z"
    },
    "papermill": {
     "duration": 0.028627,
     "end_time": "2023-01-18T09:55:45.721595",
     "exception": false,
     "start_time": "2023-01-18T09:55:45.692968",
     "status": "completed"
    },
    "tags": []
   },
   "source": [
    "So lets summerize the missing value imputation rules we created so far:\n",
    "- If Expenses = 0 then CryoSleep = True else False\n",
    "- If Expenses = 0 then Age = 7. If expenses > 0 then Age = 27 \n",
    "- If Expenses < 1400 & Age < 37 then not VIP Else VIP\n",
    "- Use mapper_homeplanet to Impute HomePlanet using Cabin_0."
   ]
  },
  {
   "cell_type": "code",
   "execution_count": 42,
   "id": "a28c5e44",
   "metadata": {
    "execution": {
     "iopub.execute_input": "2023-01-18T09:55:45.780819Z",
     "iopub.status.busy": "2023-01-18T09:55:45.780386Z",
     "iopub.status.idle": "2023-01-18T09:55:45.967650Z",
     "shell.execute_reply": "2023-01-18T09:55:45.966477Z"
    },
    "papermill": {
     "duration": 0.220143,
     "end_time": "2023-01-18T09:55:45.970417",
     "exception": false,
     "start_time": "2023-01-18T09:55:45.750274",
     "status": "completed"
    },
    "tags": []
   },
   "outputs": [],
   "source": [
    "def cryosleep_nan(row):\n",
    "    if row['Expenses'] == 0.0:\n",
    "        return True\n",
    "    else: \n",
    "        return False\n",
    "\n",
    "traintest.loc[traintest[\"CryoSleep\"].isnull() == True , \"CryoSleep\"] = traintest.apply(lambda row:cryosleep_nan(row), axis=1 )\n",
    "traintest.loc[(traintest[\"Expenses\"]== 0.0)&(traintest[\"Age\"].isnull()) , \"Age\"] = traintest.query('CryoSleep == False and Expenses == 0.0').Age.median()\n",
    "traintest.loc[(traintest[\"Expenses\"] > 0.0) &(traintest[\"Age\"].isnull())  ,\"Age\"] = traintest.query('Expenses > 0.0').Age.median()\n",
    "traintest.loc[(traintest[\"Expenses\"]<1400)&(traintest[\"Age\"]<37)&(traintest[\"VIP\"].isnull())  , \"VIP\"] = False\n",
    "traintest.loc[traintest[\"VIP\"].isnull() , \"VIP\"] = True\n",
    "traintest.loc[traintest[\"HomePlanet\"].isnull(), \"HomePlanet\"] = traintest.Cabin_0.map(mapper_homeplant)\n",
    "# \n",
    "# traintest.loc[(traintest[\"Age\"] == 0.0) & (traintest[\"Expenses\"] == 0.0) ,\"Age\"] = traintest.query('CryoSleep == False and Expenses == 0.0').Age.median()\n"
   ]
  },
  {
   "cell_type": "code",
   "execution_count": 43,
   "id": "362e6f75",
   "metadata": {
    "execution": {
     "iopub.execute_input": "2023-01-18T09:55:46.031062Z",
     "iopub.status.busy": "2023-01-18T09:55:46.030265Z",
     "iopub.status.idle": "2023-01-18T09:55:46.053187Z",
     "shell.execute_reply": "2023-01-18T09:55:46.051987Z"
    },
    "papermill": {
     "duration": 0.056648,
     "end_time": "2023-01-18T09:55:46.055881",
     "exception": false,
     "start_time": "2023-01-18T09:55:45.999233",
     "status": "completed"
    },
    "tags": []
   },
   "outputs": [
    {
     "name": "stdout",
     "output_type": "stream",
     "text": [
      "<class 'pandas.core.frame.DataFrame'>\n",
      "RangeIndex: 12970 entries, 0 to 12969\n",
      "Data columns (total 23 columns):\n",
      " #   Column                 Non-Null Count  Dtype  \n",
      "---  ------                 --------------  -----  \n",
      " 0   PassengerId            12970 non-null  object \n",
      " 1   HomePlanet             12810 non-null  object \n",
      " 2   CryoSleep              12970 non-null  object \n",
      " 3   Cabin                  12671 non-null  object \n",
      " 4   Destination            12696 non-null  object \n",
      " 5   Age                    12970 non-null  float64\n",
      " 6   VIP                    12970 non-null  object \n",
      " 7   RoomService            12707 non-null  float64\n",
      " 8   FoodCourt              12681 non-null  float64\n",
      " 9   ShoppingMall           12664 non-null  float64\n",
      " 10  Spa                    12686 non-null  float64\n",
      " 11  VRDeck                 12702 non-null  float64\n",
      " 12  Name                   12676 non-null  object \n",
      " 13  Transported            8693 non-null   object \n",
      " 14  PassengerId_0          12970 non-null  object \n",
      " 15  PassengerId_1          12970 non-null  object \n",
      " 16  Cabin_0                12671 non-null  object \n",
      " 17  Cabin_1                12671 non-null  object \n",
      " 18  Cabin_2                12671 non-null  object \n",
      " 19  Name_0                 12676 non-null  object \n",
      " 20  Name_1                 12676 non-null  object \n",
      " 21  Expenses               12970 non-null  float64\n",
      " 22  PassengerId0_repeated  12970 non-null  int64  \n",
      "dtypes: float64(7), int64(1), object(15)\n",
      "memory usage: 2.3+ MB\n"
     ]
    }
   ],
   "source": [
    "traintest.info()"
   ]
  },
  {
   "cell_type": "code",
   "execution_count": 44,
   "id": "1fc8660f",
   "metadata": {
    "execution": {
     "iopub.execute_input": "2023-01-18T09:55:46.116529Z",
     "iopub.status.busy": "2023-01-18T09:55:46.115850Z",
     "iopub.status.idle": "2023-01-18T09:55:46.151832Z",
     "shell.execute_reply": "2023-01-18T09:55:46.150532Z"
    },
    "papermill": {
     "duration": 0.069463,
     "end_time": "2023-01-18T09:55:46.154548",
     "exception": false,
     "start_time": "2023-01-18T09:55:46.085085",
     "status": "completed"
    },
    "tags": []
   },
   "outputs": [
    {
     "data": {
      "text/html": [
       "<div>\n",
       "<style scoped>\n",
       "    .dataframe tbody tr th:only-of-type {\n",
       "        vertical-align: middle;\n",
       "    }\n",
       "\n",
       "    .dataframe tbody tr th {\n",
       "        vertical-align: top;\n",
       "    }\n",
       "\n",
       "    .dataframe thead th {\n",
       "        text-align: right;\n",
       "    }\n",
       "</style>\n",
       "<table border=\"1\" class=\"dataframe\">\n",
       "  <thead>\n",
       "    <tr style=\"text-align: right;\">\n",
       "      <th></th>\n",
       "      <th>PassengerId</th>\n",
       "      <th>HomePlanet</th>\n",
       "      <th>CryoSleep</th>\n",
       "      <th>Cabin</th>\n",
       "      <th>Destination</th>\n",
       "      <th>Age</th>\n",
       "      <th>VIP</th>\n",
       "      <th>RoomService</th>\n",
       "      <th>FoodCourt</th>\n",
       "      <th>ShoppingMall</th>\n",
       "      <th>Spa</th>\n",
       "      <th>VRDeck</th>\n",
       "      <th>Name</th>\n",
       "      <th>Transported</th>\n",
       "      <th>PassengerId_0</th>\n",
       "      <th>PassengerId_1</th>\n",
       "      <th>Cabin_0</th>\n",
       "      <th>Cabin_1</th>\n",
       "      <th>Cabin_2</th>\n",
       "      <th>Name_0</th>\n",
       "      <th>Name_1</th>\n",
       "      <th>Expenses</th>\n",
       "      <th>PassengerId0_repeated</th>\n",
       "    </tr>\n",
       "  </thead>\n",
       "  <tbody>\n",
       "    <tr>\n",
       "      <th>0</th>\n",
       "      <td>0001_01</td>\n",
       "      <td>Europa</td>\n",
       "      <td>False</td>\n",
       "      <td>B/0/P</td>\n",
       "      <td>TRAPPIST-1e</td>\n",
       "      <td>39.0</td>\n",
       "      <td>False</td>\n",
       "      <td>0.0</td>\n",
       "      <td>0.0</td>\n",
       "      <td>0.0</td>\n",
       "      <td>0.0</td>\n",
       "      <td>0.0</td>\n",
       "      <td>Maham Ofracculy</td>\n",
       "      <td>False</td>\n",
       "      <td>0001</td>\n",
       "      <td>01</td>\n",
       "      <td>B</td>\n",
       "      <td>0</td>\n",
       "      <td>P</td>\n",
       "      <td>Maham</td>\n",
       "      <td>Ofracculy</td>\n",
       "      <td>0.0</td>\n",
       "      <td>1</td>\n",
       "    </tr>\n",
       "    <tr>\n",
       "      <th>1</th>\n",
       "      <td>0002_01</td>\n",
       "      <td>Earth</td>\n",
       "      <td>False</td>\n",
       "      <td>F/0/S</td>\n",
       "      <td>TRAPPIST-1e</td>\n",
       "      <td>24.0</td>\n",
       "      <td>False</td>\n",
       "      <td>109.0</td>\n",
       "      <td>9.0</td>\n",
       "      <td>25.0</td>\n",
       "      <td>549.0</td>\n",
       "      <td>44.0</td>\n",
       "      <td>Juanna Vines</td>\n",
       "      <td>True</td>\n",
       "      <td>0002</td>\n",
       "      <td>01</td>\n",
       "      <td>F</td>\n",
       "      <td>0</td>\n",
       "      <td>S</td>\n",
       "      <td>Juanna</td>\n",
       "      <td>Vines</td>\n",
       "      <td>736.0</td>\n",
       "      <td>1</td>\n",
       "    </tr>\n",
       "    <tr>\n",
       "      <th>2</th>\n",
       "      <td>0003_01</td>\n",
       "      <td>Europa</td>\n",
       "      <td>False</td>\n",
       "      <td>A/0/S</td>\n",
       "      <td>TRAPPIST-1e</td>\n",
       "      <td>58.0</td>\n",
       "      <td>True</td>\n",
       "      <td>43.0</td>\n",
       "      <td>3576.0</td>\n",
       "      <td>0.0</td>\n",
       "      <td>6715.0</td>\n",
       "      <td>49.0</td>\n",
       "      <td>Altark Susent</td>\n",
       "      <td>False</td>\n",
       "      <td>0003</td>\n",
       "      <td>01</td>\n",
       "      <td>A</td>\n",
       "      <td>0</td>\n",
       "      <td>S</td>\n",
       "      <td>Altark</td>\n",
       "      <td>Susent</td>\n",
       "      <td>10383.0</td>\n",
       "      <td>2</td>\n",
       "    </tr>\n",
       "    <tr>\n",
       "      <th>3</th>\n",
       "      <td>0003_02</td>\n",
       "      <td>Europa</td>\n",
       "      <td>False</td>\n",
       "      <td>A/0/S</td>\n",
       "      <td>TRAPPIST-1e</td>\n",
       "      <td>33.0</td>\n",
       "      <td>False</td>\n",
       "      <td>0.0</td>\n",
       "      <td>1283.0</td>\n",
       "      <td>371.0</td>\n",
       "      <td>3329.0</td>\n",
       "      <td>193.0</td>\n",
       "      <td>Solam Susent</td>\n",
       "      <td>False</td>\n",
       "      <td>0003</td>\n",
       "      <td>02</td>\n",
       "      <td>A</td>\n",
       "      <td>0</td>\n",
       "      <td>S</td>\n",
       "      <td>Solam</td>\n",
       "      <td>Susent</td>\n",
       "      <td>5176.0</td>\n",
       "      <td>2</td>\n",
       "    </tr>\n",
       "    <tr>\n",
       "      <th>4</th>\n",
       "      <td>0004_01</td>\n",
       "      <td>Earth</td>\n",
       "      <td>False</td>\n",
       "      <td>F/1/S</td>\n",
       "      <td>TRAPPIST-1e</td>\n",
       "      <td>16.0</td>\n",
       "      <td>False</td>\n",
       "      <td>303.0</td>\n",
       "      <td>70.0</td>\n",
       "      <td>151.0</td>\n",
       "      <td>565.0</td>\n",
       "      <td>2.0</td>\n",
       "      <td>Willy Santantines</td>\n",
       "      <td>True</td>\n",
       "      <td>0004</td>\n",
       "      <td>01</td>\n",
       "      <td>F</td>\n",
       "      <td>1</td>\n",
       "      <td>S</td>\n",
       "      <td>Willy</td>\n",
       "      <td>Santantines</td>\n",
       "      <td>1091.0</td>\n",
       "      <td>1</td>\n",
       "    </tr>\n",
       "    <tr>\n",
       "      <th>...</th>\n",
       "      <td>...</td>\n",
       "      <td>...</td>\n",
       "      <td>...</td>\n",
       "      <td>...</td>\n",
       "      <td>...</td>\n",
       "      <td>...</td>\n",
       "      <td>...</td>\n",
       "      <td>...</td>\n",
       "      <td>...</td>\n",
       "      <td>...</td>\n",
       "      <td>...</td>\n",
       "      <td>...</td>\n",
       "      <td>...</td>\n",
       "      <td>...</td>\n",
       "      <td>...</td>\n",
       "      <td>...</td>\n",
       "      <td>...</td>\n",
       "      <td>...</td>\n",
       "      <td>...</td>\n",
       "      <td>...</td>\n",
       "      <td>...</td>\n",
       "      <td>...</td>\n",
       "      <td>...</td>\n",
       "    </tr>\n",
       "    <tr>\n",
       "      <th>12965</th>\n",
       "      <td>9266_02</td>\n",
       "      <td>Earth</td>\n",
       "      <td>True</td>\n",
       "      <td>G/1496/S</td>\n",
       "      <td>TRAPPIST-1e</td>\n",
       "      <td>34.0</td>\n",
       "      <td>False</td>\n",
       "      <td>0.0</td>\n",
       "      <td>0.0</td>\n",
       "      <td>0.0</td>\n",
       "      <td>0.0</td>\n",
       "      <td>0.0</td>\n",
       "      <td>Jeron Peter</td>\n",
       "      <td>NaN</td>\n",
       "      <td>9266</td>\n",
       "      <td>02</td>\n",
       "      <td>G</td>\n",
       "      <td>1496</td>\n",
       "      <td>S</td>\n",
       "      <td>Jeron</td>\n",
       "      <td>Peter</td>\n",
       "      <td>0.0</td>\n",
       "      <td>2</td>\n",
       "    </tr>\n",
       "    <tr>\n",
       "      <th>12966</th>\n",
       "      <td>9269_01</td>\n",
       "      <td>Earth</td>\n",
       "      <td>False</td>\n",
       "      <td>NaN</td>\n",
       "      <td>TRAPPIST-1e</td>\n",
       "      <td>42.0</td>\n",
       "      <td>False</td>\n",
       "      <td>0.0</td>\n",
       "      <td>847.0</td>\n",
       "      <td>17.0</td>\n",
       "      <td>10.0</td>\n",
       "      <td>144.0</td>\n",
       "      <td>Matty Scheron</td>\n",
       "      <td>NaN</td>\n",
       "      <td>9269</td>\n",
       "      <td>01</td>\n",
       "      <td>NaN</td>\n",
       "      <td>NaN</td>\n",
       "      <td>NaN</td>\n",
       "      <td>Matty</td>\n",
       "      <td>Scheron</td>\n",
       "      <td>1018.0</td>\n",
       "      <td>1</td>\n",
       "    </tr>\n",
       "    <tr>\n",
       "      <th>12967</th>\n",
       "      <td>9271_01</td>\n",
       "      <td>Mars</td>\n",
       "      <td>True</td>\n",
       "      <td>D/296/P</td>\n",
       "      <td>55 Cancri e</td>\n",
       "      <td>7.0</td>\n",
       "      <td>False</td>\n",
       "      <td>0.0</td>\n",
       "      <td>0.0</td>\n",
       "      <td>0.0</td>\n",
       "      <td>0.0</td>\n",
       "      <td>0.0</td>\n",
       "      <td>Jayrin Pore</td>\n",
       "      <td>NaN</td>\n",
       "      <td>9271</td>\n",
       "      <td>01</td>\n",
       "      <td>D</td>\n",
       "      <td>296</td>\n",
       "      <td>P</td>\n",
       "      <td>Jayrin</td>\n",
       "      <td>Pore</td>\n",
       "      <td>0.0</td>\n",
       "      <td>1</td>\n",
       "    </tr>\n",
       "    <tr>\n",
       "      <th>12968</th>\n",
       "      <td>9273_01</td>\n",
       "      <td>Europa</td>\n",
       "      <td>False</td>\n",
       "      <td>D/297/P</td>\n",
       "      <td>NaN</td>\n",
       "      <td>28.0</td>\n",
       "      <td>False</td>\n",
       "      <td>0.0</td>\n",
       "      <td>2680.0</td>\n",
       "      <td>0.0</td>\n",
       "      <td>0.0</td>\n",
       "      <td>523.0</td>\n",
       "      <td>Kitakan Conale</td>\n",
       "      <td>NaN</td>\n",
       "      <td>9273</td>\n",
       "      <td>01</td>\n",
       "      <td>D</td>\n",
       "      <td>297</td>\n",
       "      <td>P</td>\n",
       "      <td>Kitakan</td>\n",
       "      <td>Conale</td>\n",
       "      <td>3203.0</td>\n",
       "      <td>1</td>\n",
       "    </tr>\n",
       "    <tr>\n",
       "      <th>12969</th>\n",
       "      <td>9277_01</td>\n",
       "      <td>Earth</td>\n",
       "      <td>True</td>\n",
       "      <td>G/1498/S</td>\n",
       "      <td>PSO J318.5-22</td>\n",
       "      <td>43.0</td>\n",
       "      <td>False</td>\n",
       "      <td>0.0</td>\n",
       "      <td>0.0</td>\n",
       "      <td>0.0</td>\n",
       "      <td>0.0</td>\n",
       "      <td>0.0</td>\n",
       "      <td>Lilace Leonzaley</td>\n",
       "      <td>NaN</td>\n",
       "      <td>9277</td>\n",
       "      <td>01</td>\n",
       "      <td>G</td>\n",
       "      <td>1498</td>\n",
       "      <td>S</td>\n",
       "      <td>Lilace</td>\n",
       "      <td>Leonzaley</td>\n",
       "      <td>0.0</td>\n",
       "      <td>1</td>\n",
       "    </tr>\n",
       "  </tbody>\n",
       "</table>\n",
       "<p>12970 rows × 23 columns</p>\n",
       "</div>"
      ],
      "text/plain": [
       "      PassengerId HomePlanet CryoSleep     Cabin    Destination   Age    VIP  \\\n",
       "0         0001_01     Europa     False     B/0/P    TRAPPIST-1e  39.0  False   \n",
       "1         0002_01      Earth     False     F/0/S    TRAPPIST-1e  24.0  False   \n",
       "2         0003_01     Europa     False     A/0/S    TRAPPIST-1e  58.0   True   \n",
       "3         0003_02     Europa     False     A/0/S    TRAPPIST-1e  33.0  False   \n",
       "4         0004_01      Earth     False     F/1/S    TRAPPIST-1e  16.0  False   \n",
       "...           ...        ...       ...       ...            ...   ...    ...   \n",
       "12965     9266_02      Earth      True  G/1496/S    TRAPPIST-1e  34.0  False   \n",
       "12966     9269_01      Earth     False       NaN    TRAPPIST-1e  42.0  False   \n",
       "12967     9271_01       Mars      True   D/296/P    55 Cancri e   7.0  False   \n",
       "12968     9273_01     Europa     False   D/297/P            NaN  28.0  False   \n",
       "12969     9277_01      Earth      True  G/1498/S  PSO J318.5-22  43.0  False   \n",
       "\n",
       "       RoomService  FoodCourt  ShoppingMall     Spa  VRDeck  \\\n",
       "0              0.0        0.0           0.0     0.0     0.0   \n",
       "1            109.0        9.0          25.0   549.0    44.0   \n",
       "2             43.0     3576.0           0.0  6715.0    49.0   \n",
       "3              0.0     1283.0         371.0  3329.0   193.0   \n",
       "4            303.0       70.0         151.0   565.0     2.0   \n",
       "...            ...        ...           ...     ...     ...   \n",
       "12965          0.0        0.0           0.0     0.0     0.0   \n",
       "12966          0.0      847.0          17.0    10.0   144.0   \n",
       "12967          0.0        0.0           0.0     0.0     0.0   \n",
       "12968          0.0     2680.0           0.0     0.0   523.0   \n",
       "12969          0.0        0.0           0.0     0.0     0.0   \n",
       "\n",
       "                    Name Transported PassengerId_0 PassengerId_1 Cabin_0  \\\n",
       "0        Maham Ofracculy       False          0001            01       B   \n",
       "1           Juanna Vines        True          0002            01       F   \n",
       "2          Altark Susent       False          0003            01       A   \n",
       "3           Solam Susent       False          0003            02       A   \n",
       "4      Willy Santantines        True          0004            01       F   \n",
       "...                  ...         ...           ...           ...     ...   \n",
       "12965        Jeron Peter         NaN          9266            02       G   \n",
       "12966      Matty Scheron         NaN          9269            01     NaN   \n",
       "12967        Jayrin Pore         NaN          9271            01       D   \n",
       "12968     Kitakan Conale         NaN          9273            01       D   \n",
       "12969   Lilace Leonzaley         NaN          9277            01       G   \n",
       "\n",
       "      Cabin_1 Cabin_2   Name_0       Name_1  Expenses  PassengerId0_repeated  \n",
       "0           0       P    Maham    Ofracculy       0.0                      1  \n",
       "1           0       S   Juanna        Vines     736.0                      1  \n",
       "2           0       S   Altark       Susent   10383.0                      2  \n",
       "3           0       S    Solam       Susent    5176.0                      2  \n",
       "4           1       S    Willy  Santantines    1091.0                      1  \n",
       "...       ...     ...      ...          ...       ...                    ...  \n",
       "12965    1496       S    Jeron        Peter       0.0                      2  \n",
       "12966     NaN     NaN    Matty      Scheron    1018.0                      1  \n",
       "12967     296       P   Jayrin         Pore       0.0                      1  \n",
       "12968     297       P  Kitakan       Conale    3203.0                      1  \n",
       "12969    1498       S   Lilace    Leonzaley       0.0                      1  \n",
       "\n",
       "[12970 rows x 23 columns]"
      ]
     },
     "execution_count": 44,
     "metadata": {},
     "output_type": "execute_result"
    }
   ],
   "source": [
    "traintest"
   ]
  },
  {
   "cell_type": "code",
   "execution_count": 45,
   "id": "15edf670",
   "metadata": {
    "execution": {
     "iopub.execute_input": "2023-01-18T09:55:46.216002Z",
     "iopub.status.busy": "2023-01-18T09:55:46.215334Z",
     "iopub.status.idle": "2023-01-18T09:55:46.228376Z",
     "shell.execute_reply": "2023-01-18T09:55:46.227480Z"
    },
    "papermill": {
     "duration": 0.046719,
     "end_time": "2023-01-18T09:55:46.230935",
     "exception": false,
     "start_time": "2023-01-18T09:55:46.184216",
     "status": "completed"
    },
    "tags": []
   },
   "outputs": [],
   "source": [
    "# features = test.columns ### For now assuming all column names other than the target are features\n",
    "target = \"Transported\" ### Change to the column name of the target variable\n",
    "numeric_features = [\"Age\", 'RoomService', 'FoodCourt', 'ShoppingMall', 'Spa', 'VRDeck' , \"PassengerId_0\"] ### Add all numeric features\n",
    "categorical_features = [\"HomePlanet\" , \"CryoSleep\" ,\"Destination\" ,\"VIP\",\"PassengerId_1\" ,\"Cabin_0\" , \"Cabin_2\"]\n",
    "traintest[numeric_features] = traintest[numeric_features].astype(\"float\")"
   ]
  },
  {
   "cell_type": "markdown",
   "id": "dcc563ca",
   "metadata": {
    "papermill": {
     "duration": 0.029859,
     "end_time": "2023-01-18T09:55:46.291404",
     "exception": false,
     "start_time": "2023-01-18T09:55:46.261545",
     "status": "completed"
    },
    "tags": []
   },
   "source": [
    "## EDA"
   ]
  },
  {
   "cell_type": "code",
   "execution_count": 46,
   "id": "396ba80a",
   "metadata": {
    "execution": {
     "iopub.execute_input": "2023-01-18T09:55:46.353184Z",
     "iopub.status.busy": "2023-01-18T09:55:46.352553Z",
     "iopub.status.idle": "2023-01-18T09:55:46.872539Z",
     "shell.execute_reply": "2023-01-18T09:55:46.871312Z"
    },
    "papermill": {
     "duration": 0.553632,
     "end_time": "2023-01-18T09:55:46.874884",
     "exception": false,
     "start_time": "2023-01-18T09:55:46.321252",
     "status": "completed"
    },
    "tags": []
   },
   "outputs": [
    {
     "data": {
      "text/plain": [
       "<AxesSubplot:>"
      ]
     },
     "execution_count": 46,
     "metadata": {},
     "output_type": "execute_result"
    },
    {
     "data": {
      "image/png": "[encoded data removed]",
      "text/plain": [
       "<Figure size 432x288 with 2 Axes>"
      ]
     },
     "metadata": {
      "needs_background": "light"
     },
     "output_type": "display_data"
    }
   ],
   "source": [
    "sns.heatmap(traintest[numeric_features].corr(),annot = True) ### check for any high values, will be addressed later"
   ]
  },
  {
   "cell_type": "code",
   "execution_count": 47,
   "id": "0303833e",
   "metadata": {
    "execution": {
     "iopub.execute_input": "2023-01-18T09:55:46.938073Z",
     "iopub.status.busy": "2023-01-18T09:55:46.937407Z",
     "iopub.status.idle": "2023-01-18T09:55:48.357605Z",
     "shell.execute_reply": "2023-01-18T09:55:48.356478Z"
    },
    "papermill": {
     "duration": 1.454799,
     "end_time": "2023-01-18T09:55:48.360198",
     "exception": false,
     "start_time": "2023-01-18T09:55:46.905399",
     "status": "completed"
    },
    "tags": []
   },
   "outputs": [
    {
     "data": {
      "image/png": "[encoded data removed]",
      "text/plain": [
       "<Figure size 432x288 with 1 Axes>"
      ]
     },
     "metadata": {
      "needs_background": "light"
     },
     "output_type": "display_data"
    },
    {
     "data": {
      "image/png": "[encoded data removed]",
      "text/plain": [
       "<Figure size 432x288 with 1 Axes>"
      ]
     },
     "metadata": {
      "needs_background": "light"
     },
     "output_type": "display_data"
    },
    {
     "data": {
      "image/png": "[encoded data removed]",
      "text/plain": [
       "<Figure size 432x288 with 1 Axes>"
      ]
     },
     "metadata": {
      "needs_background": "light"
     },
     "output_type": "display_data"
    },
    {
     "data": {
      "image/png": "[encoded data removed]",
      "text/plain": [
       "<Figure size 432x288 with 1 Axes>"
      ]
     },
     "metadata": {
      "needs_background": "light"
     },
     "output_type": "display_data"
    },
    {
     "data": {
      "image/png": "[encoded data removed]",
      "text/plain": [
       "<Figure size 432x288 with 1 Axes>"
      ]
     },
     "metadata": {
      "needs_background": "light"
     },
     "output_type": "display_data"
    },
    {
     "data": {
      "image/png": "[encoded data removed]",
      "text/plain": [
       "<Figure size 432x288 with 1 Axes>"
      ]
     },
     "metadata": {
      "needs_background": "light"
     },
     "output_type": "display_data"
    },
    {
     "data": {
      "image/png": "[encoded data removed]",
      "text/plain": [
       "<Figure size 432x288 with 1 Axes>"
      ]
     },
     "metadata": {
      "needs_background": "light"
     },
     "output_type": "display_data"
    }
   ],
   "source": [
    "for i in numeric_features: ### Check for skwenness \n",
    "    plt.title(f\"{i}\")\n",
    "    plt.hist(traintest[f\"{i}\"])\n",
    "    plt.show()"
   ]
  },
  {
   "cell_type": "code",
   "execution_count": 48,
   "id": "f4e24ff2",
   "metadata": {
    "execution": {
     "iopub.execute_input": "2023-01-18T09:55:48.426155Z",
     "iopub.status.busy": "2023-01-18T09:55:48.425762Z",
     "iopub.status.idle": "2023-01-18T09:55:48.430480Z",
     "shell.execute_reply": "2023-01-18T09:55:48.429308Z"
    },
    "papermill": {
     "duration": 0.039805,
     "end_time": "2023-01-18T09:55:48.432617",
     "exception": false,
     "start_time": "2023-01-18T09:55:48.392812",
     "status": "completed"
    },
    "tags": []
   },
   "outputs": [],
   "source": [
    "# for i in list(set(categorical_features)-set([\"PassengerId_1\"])):\n",
    "#     sns.countplot(x = train[f\"{i}\"].values)\n",
    "#     plt.show()"
   ]
  },
  {
   "cell_type": "markdown",
   "id": "fec4653a",
   "metadata": {
    "papermill": {
     "duration": 0.031971,
     "end_time": "2023-01-18T09:55:48.496686",
     "exception": false,
     "start_time": "2023-01-18T09:55:48.464715",
     "status": "completed"
    },
    "tags": []
   },
   "source": [
    "## Time to work on the data!!"
   ]
  },
  {
   "cell_type": "markdown",
   "id": "c7a54b81",
   "metadata": {
    "papermill": {
     "duration": 0.031659,
     "end_time": "2023-01-18T09:55:48.560489",
     "exception": false,
     "start_time": "2023-01-18T09:55:48.528830",
     "status": "completed"
    },
    "tags": []
   },
   "source": [
    "### Fix skeweness of numeric data"
   ]
  },
  {
   "cell_type": "code",
   "execution_count": 49,
   "id": "941e92ad",
   "metadata": {
    "execution": {
     "iopub.execute_input": "2023-01-18T09:55:48.626127Z",
     "iopub.status.busy": "2023-01-18T09:55:48.625692Z",
     "iopub.status.idle": "2023-01-18T09:55:48.633856Z",
     "shell.execute_reply": "2023-01-18T09:55:48.633066Z"
    },
    "papermill": {
     "duration": 0.043553,
     "end_time": "2023-01-18T09:55:48.636018",
     "exception": false,
     "start_time": "2023-01-18T09:55:48.592465",
     "status": "completed"
    },
    "tags": []
   },
   "outputs": [],
   "source": [
    "for i in numeric_features:\n",
    "    traintest[i] = np.sqrt(traintest[i])"
   ]
  },
  {
   "cell_type": "code",
   "execution_count": 50,
   "id": "f24c454d",
   "metadata": {
    "execution": {
     "iopub.execute_input": "2023-01-18T09:55:48.702718Z",
     "iopub.status.busy": "2023-01-18T09:55:48.701948Z",
     "iopub.status.idle": "2023-01-18T09:55:48.706856Z",
     "shell.execute_reply": "2023-01-18T09:55:48.705887Z"
    },
    "papermill": {
     "duration": 0.040779,
     "end_time": "2023-01-18T09:55:48.709106",
     "exception": false,
     "start_time": "2023-01-18T09:55:48.668327",
     "status": "completed"
    },
    "tags": []
   },
   "outputs": [],
   "source": [
    "## check if target is skewed"
   ]
  },
  {
   "cell_type": "code",
   "execution_count": 51,
   "id": "7ac228eb",
   "metadata": {
    "execution": {
     "iopub.execute_input": "2023-01-18T09:55:48.775150Z",
     "iopub.status.busy": "2023-01-18T09:55:48.774272Z",
     "iopub.status.idle": "2023-01-18T09:55:48.779493Z",
     "shell.execute_reply": "2023-01-18T09:55:48.778244Z"
    },
    "jupyter": {
     "source_hidden": true
    },
    "papermill": {
     "duration": 0.04097,
     "end_time": "2023-01-18T09:55:48.781928",
     "exception": false,
     "start_time": "2023-01-18T09:55:48.740958",
     "status": "completed"
    },
    "tags": []
   },
   "outputs": [],
   "source": [
    "# imputer = SimpleImputer(strategy = \"mean\")\n",
    "# traintest.loc[:,numeric_features] = imputer.fit_transform(traintest.loc[:,numeric_features].values)\n",
    "# # test.loc[:,numeric_features] = imputer.transform(test.loc[:,numeric_features].values)\n",
    "# imputer = SimpleImputer(strategy = \"most_frequent\")\n",
    "# traintest.loc[:,categorical_features] = imputer.fit_transform(traintest.loc[:,categorical_features].values)\n",
    "# # test.loc[:,categorical_features]= imputer.fit_transform(test.loc[:,categorical_features].values)"
   ]
  },
  {
   "cell_type": "markdown",
   "id": "4dd79a0c",
   "metadata": {
    "papermill": {
     "duration": 0.031877,
     "end_time": "2023-01-18T09:55:48.846438",
     "exception": false,
     "start_time": "2023-01-18T09:55:48.814561",
     "status": "completed"
    },
    "tags": []
   },
   "source": [
    "### Check colinearity "
   ]
  },
  {
   "cell_type": "code",
   "execution_count": 52,
   "id": "002603d8",
   "metadata": {
    "execution": {
     "iopub.execute_input": "2023-01-18T09:55:48.913202Z",
     "iopub.status.busy": "2023-01-18T09:55:48.912578Z",
     "iopub.status.idle": "2023-01-18T09:55:48.917439Z",
     "shell.execute_reply": "2023-01-18T09:55:48.916675Z"
    },
    "jupyter": {
     "source_hidden": true
    },
    "papermill": {
     "duration": 0.040975,
     "end_time": "2023-01-18T09:55:48.919597",
     "exception": false,
     "start_time": "2023-01-18T09:55:48.878622",
     "status": "completed"
    },
    "tags": []
   },
   "outputs": [],
   "source": [
    "# #check colinearity\n",
    "# #Compute VIF data for each independent variable\n",
    "# from statsmodels.stats.outliers_influence import variance_inflation_factor\n",
    "# vif = pd.DataFrame()\n",
    "# vif[\"features\"] = traintest[numeric_features].columns\n",
    "# vif[\"vif_Factor\"] = [variance_inflation_factor(traintest[numeric_features].values, i) for i in range(traintest[numeric_features].shape[1])]\n",
    "# vif\n",
    "# #>10 not so good"
   ]
  },
  {
   "cell_type": "code",
   "execution_count": 53,
   "id": "12d36a9f",
   "metadata": {
    "execution": {
     "iopub.execute_input": "2023-01-18T09:55:48.987623Z",
     "iopub.status.busy": "2023-01-18T09:55:48.986946Z",
     "iopub.status.idle": "2023-01-18T09:55:48.992449Z",
     "shell.execute_reply": "2023-01-18T09:55:48.991563Z"
    },
    "jupyter": {
     "source_hidden": true
    },
    "papermill": {
     "duration": 0.042162,
     "end_time": "2023-01-18T09:55:48.994814",
     "exception": false,
     "start_time": "2023-01-18T09:55:48.952652",
     "status": "completed"
    },
    "tags": []
   },
   "outputs": [],
   "source": [
    "# #feature engineer\n",
    "# from headjackai.headjackai_hub import headjackai_hub\n",
    "\n",
    "# #host setting\n",
    "# hj_hub = headjackai_hub('http://www.headjackai.com:9000')\n",
    "# hj_hub.login(username='jimliu_kaggle', pwd='12345678')\n",
    "# hj_hub.knowledgepool_check(public_pool=True)\n",
    "# source = 'drug_type'\n",
    "\n",
    "\n",
    "# best_features = [\n",
    "#  'Spaceship-Titanic-CryoSleep',\n",
    "#  'Spaceship-Titanic-RoomService',\n",
    "#  'Spaceship-Titanic-Spa',\n",
    "#  'Spaceship-Titanic-VRDeck',\n",
    "#  'Spaceship-Titanic-deck',\n",
    "#  'Spaceship-Titanic-side',\n",
    "#  'Spaceship-Titanic-SumSpends',\n",
    "#  'drug_type-Sex']\n",
    "\n",
    "\n",
    "# # run features engineering on hj \n",
    "# hj_X = hj_hub.knowledge_transform(data=train, target_domain='Spaceship-Titanic', \n",
    "#                                   source_domain=source,\n",
    "#                                   label='')\n",
    "\n",
    "# hj_ts_X = hj_hub.knowledge_transform(data=test, target_domain='Spaceship-Titanic', \n",
    "#                                   source_domain=source,\n",
    "#                                   label='') "
   ]
  },
  {
   "cell_type": "markdown",
   "id": "8a4b56a2",
   "metadata": {
    "papermill": {
     "duration": 0.032001,
     "end_time": "2023-01-18T09:55:49.059319",
     "exception": false,
     "start_time": "2023-01-18T09:55:49.027318",
     "status": "completed"
    },
    "tags": []
   },
   "source": [
    "### Encode, impute missing values and scale"
   ]
  },
  {
   "cell_type": "code",
   "execution_count": 54,
   "id": "bfb849ac",
   "metadata": {
    "execution": {
     "iopub.execute_input": "2023-01-18T09:55:49.126549Z",
     "iopub.status.busy": "2023-01-18T09:55:49.126123Z",
     "iopub.status.idle": "2023-01-18T09:55:51.298701Z",
     "shell.execute_reply": "2023-01-18T09:55:51.297610Z"
    },
    "papermill": {
     "duration": 2.210089,
     "end_time": "2023-01-18T09:55:51.301413",
     "exception": false,
     "start_time": "2023-01-18T09:55:49.091324",
     "status": "completed"
    },
    "tags": []
   },
   "outputs": [],
   "source": [
    "from sklearn.preprocessing import StandardScaler\n",
    "from sklearn.preprocessing import OneHotEncoder\n",
    "from sklearn.preprocessing import LabelEncoder\n",
    "labenc = LabelEncoder()\n",
    "labenc.fit(traintest.loc[traintest[target].isnull() == False ,target].unique())\n",
    "\n",
    "traintest.loc[traintest[target].isnull() == False ,target] = \\\n",
    "labenc.transform(traintest.loc[traintest[target].isnull() == False ,target])\n",
    "for i in categorical_features:\n",
    "    enc = LabelEncoder()\n",
    "    traintest.loc[traintest[i].isnull() == False, i] = enc.fit_transform(traintest.loc[traintest[i].isnull() == False, i].values)\n",
    "imputer = KNNImputer()\n",
    "traintest[numeric_features+categorical_features] = imputer.fit_transform(traintest[numeric_features+categorical_features].values)\n",
    "scaler = StandardScaler()\n",
    "traintest[numeric_features+categorical_features] = scaler.fit_transform(traintest[numeric_features+categorical_features].values)"
   ]
  },
  {
   "cell_type": "markdown",
   "id": "cfc4acb2",
   "metadata": {
    "papermill": {
     "duration": 0.03488,
     "end_time": "2023-01-18T09:55:51.368979",
     "exception": false,
     "start_time": "2023-01-18T09:55:51.334099",
     "status": "completed"
    },
    "tags": []
   },
   "source": [
    "### Feature engineering time "
   ]
  },
  {
   "cell_type": "markdown",
   "id": "3c14949c",
   "metadata": {
    "papermill": {
     "duration": 0.033734,
     "end_time": "2023-01-18T09:55:51.436701",
     "exception": false,
     "start_time": "2023-01-18T09:55:51.402967",
     "status": "completed"
    },
    "tags": []
   },
   "source": [
    "## Time for some ML"
   ]
  },
  {
   "cell_type": "code",
   "execution_count": 55,
   "id": "4f32289e",
   "metadata": {
    "collapsed": true,
    "execution": {
     "iopub.execute_input": "2023-01-18T09:55:51.506879Z",
     "iopub.status.busy": "2023-01-18T09:55:51.505660Z",
     "iopub.status.idle": "2023-01-18T09:55:51.511449Z",
     "shell.execute_reply": "2023-01-18T09:55:51.510656Z"
    },
    "jupyter": {
     "outputs_hidden": true,
     "source_hidden": true
    },
    "papermill": {
     "duration": 0.042746,
     "end_time": "2023-01-18T09:55:51.513694",
     "exception": false,
     "start_time": "2023-01-18T09:55:51.470948",
     "status": "completed"
    },
    "tags": []
   },
   "outputs": [],
   "source": [
    "# features_isolation =numeric_features+categorical_features\n",
    "# from sklearn.ensemble import IsolationForest\n",
    "\n",
    "# isf = IsolationForest(n_jobs=-1, random_state=1,n_estimators=100,contamination=0.002)\n",
    "# isf.fit(traintest.loc[features_isolation], traintest[target])\n",
    "\n",
    "# rows = pd.DataFrame(isf.predict(traintest[features_isolation]),columns=['feature'])\n",
    "# rows_ind = rows[rows.feature == 1]\n",
    "# results = pd.DataFrame()\n",
    "# results['results'] = - isf.score_samples(traintest[features_isolation])\n",
    "# results['chance'] = isf.decision_function(traintest[features_isolation])\n",
    "# results['yes/no'] = isf.predict(traintest[features_isolation])\n",
    "\n",
    "# new = results[results['yes/no']==1]\n",
    "# old= results[results['yes/no']==-1]\n",
    "# fig,ax = plt.subplots(figsize=(20,10))\n",
    "# ax.set_facecolor('black')\n",
    "# ax = plt.scatter(new.index,new.results,marker=\".\")\n",
    "# ax = plt.scatter(old.index,old.results,color='white',marker=\"*\")"
   ]
  },
  {
   "cell_type": "markdown",
   "id": "0da637c5",
   "metadata": {
    "papermill": {
     "duration": 0.031747,
     "end_time": "2023-01-18T09:55:51.577592",
     "exception": false,
     "start_time": "2023-01-18T09:55:51.545845",
     "status": "completed"
    },
    "tags": []
   },
   "source": [
    "### split into features and targets for the models"
   ]
  },
  {
   "cell_type": "code",
   "execution_count": 56,
   "id": "951a46bf",
   "metadata": {
    "execution": {
     "iopub.execute_input": "2023-01-18T09:55:51.645104Z",
     "iopub.status.busy": "2023-01-18T09:55:51.643728Z",
     "iopub.status.idle": "2023-01-18T09:55:51.664083Z",
     "shell.execute_reply": "2023-01-18T09:55:51.662733Z"
    },
    "papermill": {
     "duration": 0.057265,
     "end_time": "2023-01-18T09:55:51.666928",
     "exception": false,
     "start_time": "2023-01-18T09:55:51.609663",
     "status": "completed"
    },
    "tags": []
   },
   "outputs": [],
   "source": [
    "x = traintest.loc[traintest[\"Transported\"].isnull() == False  , numeric_features +categorical_features].values\n",
    "y = traintest.loc[traintest[\"Transported\"].isnull() == False  , target].values\n",
    "x_test = traintest.loc[traintest[\"Transported\"].isnull() == True  , numeric_features +categorical_features].values\n",
    "y=y.astype('int')\n",
    "x = x.astype(\"float64\")\n",
    "x_test = x_test.astype(\"float64\")\n",
    "X_train, X_test, y_train, y_test = train_test_split(x, y, test_size=0.33, random_state=42)"
   ]
  },
  {
   "cell_type": "markdown",
   "id": "a84994fe",
   "metadata": {
    "papermill": {
     "duration": 0.031179,
     "end_time": "2023-01-18T09:55:51.730679",
     "exception": false,
     "start_time": "2023-01-18T09:55:51.699500",
     "status": "completed"
    },
    "tags": []
   },
   "source": [
    "### Select all the models needed"
   ]
  },
  {
   "cell_type": "code",
   "execution_count": 57,
   "id": "7af596f5",
   "metadata": {
    "execution": {
     "iopub.execute_input": "2023-01-18T09:55:51.795691Z",
     "iopub.status.busy": "2023-01-18T09:55:51.795228Z",
     "iopub.status.idle": "2023-01-18T09:55:51.805378Z",
     "shell.execute_reply": "2023-01-18T09:55:51.804484Z"
    },
    "papermill": {
     "duration": 0.045596,
     "end_time": "2023-01-18T09:55:51.807786",
     "exception": false,
     "start_time": "2023-01-18T09:55:51.762190",
     "status": "completed"
    },
    "tags": []
   },
   "outputs": [],
   "source": [
    "import xgboost as xgb\n",
    "params_XGB_best= {'lambda': 3.0610042624477543, \n",
    "             'alpha': 4.581902571574289, \n",
    "             'colsample_bytree': 0.9241969052729379, \n",
    "             'subsample': 0.9527591724824661, \n",
    "             'learning_rate': 0.06672065863100594, \n",
    "             'n_estimators': 725, #initial value is 651\n",
    "             'max_depth': 5, \n",
    "             'min_child_weight': 1, \n",
    "             'num_parallel_tree': 1}\n",
    "classifiers = [\n",
    "\n",
    "RandomForestClassifier(),\n",
    "AdaBoostClassifier(),\n",
    "GradientBoostingClassifier(),\n",
    "ExtraTreesClassifier(),\n",
    "LinearDiscriminantAnalysis(),\n",
    "LogisticRegression(),\n",
    "KNeighborsClassifier(),\n",
    "DecisionTreeClassifier(),\n",
    "MLPClassifier(),\n",
    "CatBoostClassifier(verbose = False),\n",
    "SVC()\n",
    "]"
   ]
  },
  {
   "cell_type": "markdown",
   "id": "c8d32db5",
   "metadata": {
    "papermill": {
     "duration": 0.032263,
     "end_time": "2023-01-18T09:55:51.872619",
     "exception": false,
     "start_time": "2023-01-18T09:55:51.840356",
     "status": "completed"
    },
    "tags": []
   },
   "source": [
    "### Running through all and cross validating  "
   ]
  },
  {
   "cell_type": "code",
   "execution_count": 58,
   "id": "6bda5771",
   "metadata": {
    "execution": {
     "iopub.execute_input": "2023-01-18T09:55:51.938105Z",
     "iopub.status.busy": "2023-01-18T09:55:51.937064Z",
     "iopub.status.idle": "2023-01-18T10:00:49.481404Z",
     "shell.execute_reply": "2023-01-18T10:00:49.480667Z"
    },
    "papermill": {
     "duration": 297.611096,
     "end_time": "2023-01-18T10:00:49.515333",
     "exception": false,
     "start_time": "2023-01-18T09:55:51.904237",
     "status": "completed"
    },
    "tags": []
   },
   "outputs": [
    {
     "data": {
      "application/vnd.jupyter.widget-view+json": {
       "model_id": "d99f3dcc1d654fe3b9b24de9ac54ada6",
       "version_major": 2,
       "version_minor": 0
      },
      "text/plain": [
       "  0%|          | 0/11 [00:00<?, ?it/s]"
      ]
     },
     "metadata": {},
     "output_type": "display_data"
    },
    {
     "name": "stderr",
     "output_type": "stream",
     "text": [
      "/opt/conda/lib/python3.7/site-packages/sklearn/neural_network/_multilayer_perceptron.py:696: ConvergenceWarning: Stochastic Optimizer: Maximum iterations (200) reached and the optimization hasn't converged yet.\n",
      "  ConvergenceWarning,\n",
      "/opt/conda/lib/python3.7/site-packages/sklearn/neural_network/_multilayer_perceptron.py:696: ConvergenceWarning: Stochastic Optimizer: Maximum iterations (200) reached and the optimization hasn't converged yet.\n",
      "  ConvergenceWarning,\n",
      "/opt/conda/lib/python3.7/site-packages/sklearn/neural_network/_multilayer_perceptron.py:696: ConvergenceWarning: Stochastic Optimizer: Maximum iterations (200) reached and the optimization hasn't converged yet.\n",
      "  ConvergenceWarning,\n",
      "/opt/conda/lib/python3.7/site-packages/sklearn/neural_network/_multilayer_perceptron.py:696: ConvergenceWarning: Stochastic Optimizer: Maximum iterations (200) reached and the optimization hasn't converged yet.\n",
      "  ConvergenceWarning,\n",
      "/opt/conda/lib/python3.7/site-packages/sklearn/neural_network/_multilayer_perceptron.py:696: ConvergenceWarning: Stochastic Optimizer: Maximum iterations (200) reached and the optimization hasn't converged yet.\n",
      "  ConvergenceWarning,\n",
      "/opt/conda/lib/python3.7/site-packages/sklearn/neural_network/_multilayer_perceptron.py:696: ConvergenceWarning: Stochastic Optimizer: Maximum iterations (200) reached and the optimization hasn't converged yet.\n",
      "  ConvergenceWarning,\n",
      "/opt/conda/lib/python3.7/site-packages/sklearn/neural_network/_multilayer_perceptron.py:696: ConvergenceWarning: Stochastic Optimizer: Maximum iterations (200) reached and the optimization hasn't converged yet.\n",
      "  ConvergenceWarning,\n",
      "/opt/conda/lib/python3.7/site-packages/sklearn/neural_network/_multilayer_perceptron.py:696: ConvergenceWarning: Stochastic Optimizer: Maximum iterations (200) reached and the optimization hasn't converged yet.\n",
      "  ConvergenceWarning,\n",
      "/opt/conda/lib/python3.7/site-packages/sklearn/neural_network/_multilayer_perceptron.py:696: ConvergenceWarning: Stochastic Optimizer: Maximum iterations (200) reached and the optimization hasn't converged yet.\n",
      "  ConvergenceWarning,\n",
      "/opt/conda/lib/python3.7/site-packages/sklearn/neural_network/_multilayer_perceptron.py:696: ConvergenceWarning: Stochastic Optimizer: Maximum iterations (200) reached and the optimization hasn't converged yet.\n",
      "  ConvergenceWarning,\n"
     ]
    }
   ],
   "source": [
    "model_results_columns = ['fit_time', 'score_time', 'test_accuracy', 'train_accuracy',\n",
    "       'test_precision', 'train_precision', 'test_recall', 'train_recall',\n",
    "       'test_r2', 'train_r2', 'test_neg_mean_squared_error',\n",
    "       'train_neg_mean_squared_error']\n",
    "model_results_df = pd.DataFrame([], columns = model_results_columns)\n",
    "for clf in tqdm(classifiers):\n",
    "    model = cross_validate(clf , x, y , cv= 10,\\\n",
    "                           scoring=('accuracy' , 'precision', 'recall' , 'r2', 'neg_mean_squared_error'),return_train_score=True)\n",
    "    model_results_df = pd.concat([model_results_df,pd.DataFrame(pd.DataFrame(model).describe().loc[\"mean\" ,:]).rename(columns = {\"mean\":str(clf).split(\"(\")[0]}).transpose()], axis = 0)\n",
    "    "
   ]
  },
  {
   "cell_type": "markdown",
   "id": "7f6d323f",
   "metadata": {
    "papermill": {
     "duration": 0.032696,
     "end_time": "2023-01-18T10:00:49.580501",
     "exception": false,
     "start_time": "2023-01-18T10:00:49.547805",
     "status": "completed"
    },
    "tags": []
   },
   "source": [
    "### Analyse results\n",
    "For the **overfitting** column, the closer to zero the better"
   ]
  },
  {
   "cell_type": "code",
   "execution_count": 59,
   "id": "98b55be2",
   "metadata": {
    "execution": {
     "iopub.execute_input": "2023-01-18T10:00:49.649169Z",
     "iopub.status.busy": "2023-01-18T10:00:49.648316Z",
     "iopub.status.idle": "2023-01-18T10:00:49.673767Z",
     "shell.execute_reply": "2023-01-18T10:00:49.672645Z"
    },
    "papermill": {
     "duration": 0.063087,
     "end_time": "2023-01-18T10:00:49.676495",
     "exception": false,
     "start_time": "2023-01-18T10:00:49.613408",
     "status": "completed"
    },
    "tags": []
   },
   "outputs": [
    {
     "data": {
      "text/html": [
       "<div>\n",
       "<style scoped>\n",
       "    .dataframe tbody tr th:only-of-type {\n",
       "        vertical-align: middle;\n",
       "    }\n",
       "\n",
       "    .dataframe tbody tr th {\n",
       "        vertical-align: top;\n",
       "    }\n",
       "\n",
       "    .dataframe thead th {\n",
       "        text-align: right;\n",
       "    }\n",
       "</style>\n",
       "<table border=\"1\" class=\"dataframe\">\n",
       "  <thead>\n",
       "    <tr style=\"text-align: right;\">\n",
       "      <th></th>\n",
       "      <th>fit_time</th>\n",
       "      <th>score_time</th>\n",
       "      <th>test_accuracy</th>\n",
       "      <th>train_accuracy</th>\n",
       "      <th>test_precision</th>\n",
       "      <th>train_precision</th>\n",
       "      <th>test_recall</th>\n",
       "      <th>train_recall</th>\n",
       "      <th>test_r2</th>\n",
       "      <th>train_r2</th>\n",
       "      <th>test_neg_mean_squared_error</th>\n",
       "      <th>train_neg_mean_squared_error</th>\n",
       "      <th>overfitting</th>\n",
       "    </tr>\n",
       "  </thead>\n",
       "  <tbody>\n",
       "    <tr>\n",
       "      <th>SVC</th>\n",
       "      <td>2.195019</td>\n",
       "      <td>0.212691</td>\n",
       "      <td>0.800651</td>\n",
       "      <td>0.817669</td>\n",
       "      <td>0.791996</td>\n",
       "      <td>0.804278</td>\n",
       "      <td>0.821167</td>\n",
       "      <td>0.843155</td>\n",
       "      <td>0.202560</td>\n",
       "      <td>0.270639</td>\n",
       "      <td>-0.199349</td>\n",
       "      <td>-0.182331</td>\n",
       "      <td>2.081378</td>\n",
       "    </tr>\n",
       "    <tr>\n",
       "      <th>LogisticRegression</th>\n",
       "      <td>0.027329</td>\n",
       "      <td>0.006575</td>\n",
       "      <td>0.794207</td>\n",
       "      <td>0.796260</td>\n",
       "      <td>0.774357</td>\n",
       "      <td>0.775249</td>\n",
       "      <td>0.837147</td>\n",
       "      <td>0.838561</td>\n",
       "      <td>0.176783</td>\n",
       "      <td>0.184998</td>\n",
       "      <td>-0.205793</td>\n",
       "      <td>-0.203740</td>\n",
       "      <td>0.257902</td>\n",
       "    </tr>\n",
       "    <tr>\n",
       "      <th>MLPClassifier</th>\n",
       "      <td>15.681969</td>\n",
       "      <td>0.008332</td>\n",
       "      <td>0.792485</td>\n",
       "      <td>0.835794</td>\n",
       "      <td>0.812876</td>\n",
       "      <td>0.843978</td>\n",
       "      <td>0.772537</td>\n",
       "      <td>0.827953</td>\n",
       "      <td>0.169896</td>\n",
       "      <td>0.343141</td>\n",
       "      <td>-0.207515</td>\n",
       "      <td>-0.164206</td>\n",
       "      <td>5.181767</td>\n",
       "    </tr>\n",
       "    <tr>\n",
       "      <th>ExtraTreesClassifier</th>\n",
       "      <td>0.865497</td>\n",
       "      <td>0.045352</td>\n",
       "      <td>0.791562</td>\n",
       "      <td>1.000000</td>\n",
       "      <td>0.826055</td>\n",
       "      <td>1.000000</td>\n",
       "      <td>0.744199</td>\n",
       "      <td>1.000000</td>\n",
       "      <td>0.166205</td>\n",
       "      <td>1.000000</td>\n",
       "      <td>-0.208438</td>\n",
       "      <td>0.000000</td>\n",
       "      <td>20.843763</td>\n",
       "    </tr>\n",
       "    <tr>\n",
       "      <th>LinearDiscriminantAnalysis</th>\n",
       "      <td>0.069964</td>\n",
       "      <td>0.008712</td>\n",
       "      <td>0.791101</td>\n",
       "      <td>0.791454</td>\n",
       "      <td>0.782469</td>\n",
       "      <td>0.781957</td>\n",
       "      <td>0.812712</td>\n",
       "      <td>0.812471</td>\n",
       "      <td>0.164358</td>\n",
       "      <td>0.165773</td>\n",
       "      <td>-0.208899</td>\n",
       "      <td>-0.208546</td>\n",
       "      <td>0.044664</td>\n",
       "    </tr>\n",
       "    <tr>\n",
       "      <th>RandomForestClassifier</th>\n",
       "      <td>1.062935</td>\n",
       "      <td>0.037453</td>\n",
       "      <td>0.786043</td>\n",
       "      <td>0.999987</td>\n",
       "      <td>0.821582</td>\n",
       "      <td>1.000000</td>\n",
       "      <td>0.738480</td>\n",
       "      <td>0.999975</td>\n",
       "      <td>0.144127</td>\n",
       "      <td>0.999949</td>\n",
       "      <td>-0.213957</td>\n",
       "      <td>-0.000013</td>\n",
       "      <td>21.394694</td>\n",
       "    </tr>\n",
       "    <tr>\n",
       "      <th>KNeighborsClassifier</th>\n",
       "      <td>0.014797</td>\n",
       "      <td>0.095961</td>\n",
       "      <td>0.782475</td>\n",
       "      <td>0.849969</td>\n",
       "      <td>0.792224</td>\n",
       "      <td>0.858911</td>\n",
       "      <td>0.772977</td>\n",
       "      <td>0.840110</td>\n",
       "      <td>0.129852</td>\n",
       "      <td>0.399843</td>\n",
       "      <td>-0.217525</td>\n",
       "      <td>-0.150031</td>\n",
       "      <td>7.940771</td>\n",
       "    </tr>\n",
       "    <tr>\n",
       "      <th>GradientBoostingClassifier</th>\n",
       "      <td>1.195747</td>\n",
       "      <td>0.005149</td>\n",
       "      <td>0.766942</td>\n",
       "      <td>0.822923</td>\n",
       "      <td>0.787479</td>\n",
       "      <td>0.806487</td>\n",
       "      <td>0.757427</td>\n",
       "      <td>0.853129</td>\n",
       "      <td>0.067720</td>\n",
       "      <td>0.291654</td>\n",
       "      <td>-0.233058</td>\n",
       "      <td>-0.177077</td>\n",
       "      <td>6.802646</td>\n",
       "    </tr>\n",
       "    <tr>\n",
       "      <th>AdaBoostClassifier</th>\n",
       "      <td>0.395900</td>\n",
       "      <td>0.017526</td>\n",
       "      <td>0.746459</td>\n",
       "      <td>0.800670</td>\n",
       "      <td>0.792123</td>\n",
       "      <td>0.784389</td>\n",
       "      <td>0.713378</td>\n",
       "      <td>0.833308</td>\n",
       "      <td>-0.014218</td>\n",
       "      <td>0.202638</td>\n",
       "      <td>-0.253541</td>\n",
       "      <td>-0.199330</td>\n",
       "      <td>6.770693</td>\n",
       "    </tr>\n",
       "    <tr>\n",
       "      <th>DecisionTreeClassifier</th>\n",
       "      <td>0.050375</td>\n",
       "      <td>0.003526</td>\n",
       "      <td>0.711379</td>\n",
       "      <td>1.000000</td>\n",
       "      <td>0.717862</td>\n",
       "      <td>1.000000</td>\n",
       "      <td>0.704634</td>\n",
       "      <td>1.000000</td>\n",
       "      <td>-0.154545</td>\n",
       "      <td>1.000000</td>\n",
       "      <td>-0.288621</td>\n",
       "      <td>0.000000</td>\n",
       "      <td>28.862109</td>\n",
       "    </tr>\n",
       "    <tr>\n",
       "      <th>&lt;catboost.core.CatBoostClassifier object at 0x7fdc108dfcd0&gt;</th>\n",
       "      <td>4.429364</td>\n",
       "      <td>0.009102</td>\n",
       "      <td>0.699983</td>\n",
       "      <td>0.880197</td>\n",
       "      <td>0.736884</td>\n",
       "      <td>0.878550</td>\n",
       "      <td>0.708978</td>\n",
       "      <td>0.884397</td>\n",
       "      <td>-0.200130</td>\n",
       "      <td>0.520765</td>\n",
       "      <td>-0.300017</td>\n",
       "      <td>-0.119803</td>\n",
       "      <td>20.474370</td>\n",
       "    </tr>\n",
       "  </tbody>\n",
       "</table>\n",
       "</div>"
      ],
      "text/plain": [
       "                                                     fit_time  score_time  \\\n",
       "SVC                                                  2.195019    0.212691   \n",
       "LogisticRegression                                   0.027329    0.006575   \n",
       "MLPClassifier                                       15.681969    0.008332   \n",
       "ExtraTreesClassifier                                 0.865497    0.045352   \n",
       "LinearDiscriminantAnalysis                           0.069964    0.008712   \n",
       "RandomForestClassifier                               1.062935    0.037453   \n",
       "KNeighborsClassifier                                 0.014797    0.095961   \n",
       "GradientBoostingClassifier                           1.195747    0.005149   \n",
       "AdaBoostClassifier                                   0.395900    0.017526   \n",
       "DecisionTreeClassifier                               0.050375    0.003526   \n",
       "<catboost.core.CatBoostClassifier object at 0x7...   4.429364    0.009102   \n",
       "\n",
       "                                                    test_accuracy  \\\n",
       "SVC                                                      0.800651   \n",
       "LogisticRegression                                       0.794207   \n",
       "MLPClassifier                                            0.792485   \n",
       "ExtraTreesClassifier                                     0.791562   \n",
       "LinearDiscriminantAnalysis                               0.791101   \n",
       "RandomForestClassifier                                   0.786043   \n",
       "KNeighborsClassifier                                     0.782475   \n",
       "GradientBoostingClassifier                               0.766942   \n",
       "AdaBoostClassifier                                       0.746459   \n",
       "DecisionTreeClassifier                                   0.711379   \n",
       "<catboost.core.CatBoostClassifier object at 0x7...       0.699983   \n",
       "\n",
       "                                                    train_accuracy  \\\n",
       "SVC                                                       0.817669   \n",
       "LogisticRegression                                        0.796260   \n",
       "MLPClassifier                                             0.835794   \n",
       "ExtraTreesClassifier                                      1.000000   \n",
       "LinearDiscriminantAnalysis                                0.791454   \n",
       "RandomForestClassifier                                    0.999987   \n",
       "KNeighborsClassifier                                      0.849969   \n",
       "GradientBoostingClassifier                                0.822923   \n",
       "AdaBoostClassifier                                        0.800670   \n",
       "DecisionTreeClassifier                                    1.000000   \n",
       "<catboost.core.CatBoostClassifier object at 0x7...        0.880197   \n",
       "\n",
       "                                                    test_precision  \\\n",
       "SVC                                                       0.791996   \n",
       "LogisticRegression                                        0.774357   \n",
       "MLPClassifier                                             0.812876   \n",
       "ExtraTreesClassifier                                      0.826055   \n",
       "LinearDiscriminantAnalysis                                0.782469   \n",
       "RandomForestClassifier                                    0.821582   \n",
       "KNeighborsClassifier                                      0.792224   \n",
       "GradientBoostingClassifier                                0.787479   \n",
       "AdaBoostClassifier                                        0.792123   \n",
       "DecisionTreeClassifier                                    0.717862   \n",
       "<catboost.core.CatBoostClassifier object at 0x7...        0.736884   \n",
       "\n",
       "                                                    train_precision  \\\n",
       "SVC                                                        0.804278   \n",
       "LogisticRegression                                         0.775249   \n",
       "MLPClassifier                                              0.843978   \n",
       "ExtraTreesClassifier                                       1.000000   \n",
       "LinearDiscriminantAnalysis                                 0.781957   \n",
       "RandomForestClassifier                                     1.000000   \n",
       "KNeighborsClassifier                                       0.858911   \n",
       "GradientBoostingClassifier                                 0.806487   \n",
       "AdaBoostClassifier                                         0.784389   \n",
       "DecisionTreeClassifier                                     1.000000   \n",
       "<catboost.core.CatBoostClassifier object at 0x7...         0.878550   \n",
       "\n",
       "                                                    test_recall  train_recall  \\\n",
       "SVC                                                    0.821167      0.843155   \n",
       "LogisticRegression                                     0.837147      0.838561   \n",
       "MLPClassifier                                          0.772537      0.827953   \n",
       "ExtraTreesClassifier                                   0.744199      1.000000   \n",
       "LinearDiscriminantAnalysis                             0.812712      0.812471   \n",
       "RandomForestClassifier                                 0.738480      0.999975   \n",
       "KNeighborsClassifier                                   0.772977      0.840110   \n",
       "GradientBoostingClassifier                             0.757427      0.853129   \n",
       "AdaBoostClassifier                                     0.713378      0.833308   \n",
       "DecisionTreeClassifier                                 0.704634      1.000000   \n",
       "<catboost.core.CatBoostClassifier object at 0x7...     0.708978      0.884397   \n",
       "\n",
       "                                                     test_r2  train_r2  \\\n",
       "SVC                                                 0.202560  0.270639   \n",
       "LogisticRegression                                  0.176783  0.184998   \n",
       "MLPClassifier                                       0.169896  0.343141   \n",
       "ExtraTreesClassifier                                0.166205  1.000000   \n",
       "LinearDiscriminantAnalysis                          0.164358  0.165773   \n",
       "RandomForestClassifier                              0.144127  0.999949   \n",
       "KNeighborsClassifier                                0.129852  0.399843   \n",
       "GradientBoostingClassifier                          0.067720  0.291654   \n",
       "AdaBoostClassifier                                 -0.014218  0.202638   \n",
       "DecisionTreeClassifier                             -0.154545  1.000000   \n",
       "<catboost.core.CatBoostClassifier object at 0x7... -0.200130  0.520765   \n",
       "\n",
       "                                                    test_neg_mean_squared_error  \\\n",
       "SVC                                                                   -0.199349   \n",
       "LogisticRegression                                                    -0.205793   \n",
       "MLPClassifier                                                         -0.207515   \n",
       "ExtraTreesClassifier                                                  -0.208438   \n",
       "LinearDiscriminantAnalysis                                            -0.208899   \n",
       "RandomForestClassifier                                                -0.213957   \n",
       "KNeighborsClassifier                                                  -0.217525   \n",
       "GradientBoostingClassifier                                            -0.233058   \n",
       "AdaBoostClassifier                                                    -0.253541   \n",
       "DecisionTreeClassifier                                                -0.288621   \n",
       "<catboost.core.CatBoostClassifier object at 0x7...                    -0.300017   \n",
       "\n",
       "                                                    train_neg_mean_squared_error  \\\n",
       "SVC                                                                    -0.182331   \n",
       "LogisticRegression                                                     -0.203740   \n",
       "MLPClassifier                                                          -0.164206   \n",
       "ExtraTreesClassifier                                                    0.000000   \n",
       "LinearDiscriminantAnalysis                                             -0.208546   \n",
       "RandomForestClassifier                                                 -0.000013   \n",
       "KNeighborsClassifier                                                   -0.150031   \n",
       "GradientBoostingClassifier                                             -0.177077   \n",
       "AdaBoostClassifier                                                     -0.199330   \n",
       "DecisionTreeClassifier                                                  0.000000   \n",
       "<catboost.core.CatBoostClassifier object at 0x7...                     -0.119803   \n",
       "\n",
       "                                                    overfitting  \n",
       "SVC                                                    2.081378  \n",
       "LogisticRegression                                     0.257902  \n",
       "MLPClassifier                                          5.181767  \n",
       "ExtraTreesClassifier                                  20.843763  \n",
       "LinearDiscriminantAnalysis                             0.044664  \n",
       "RandomForestClassifier                                21.394694  \n",
       "KNeighborsClassifier                                   7.940771  \n",
       "GradientBoostingClassifier                             6.802646  \n",
       "AdaBoostClassifier                                     6.770693  \n",
       "DecisionTreeClassifier                                28.862109  \n",
       "<catboost.core.CatBoostClassifier object at 0x7...    20.474370  "
      ]
     },
     "execution_count": 59,
     "metadata": {},
     "output_type": "execute_result"
    }
   ],
   "source": [
    "\n",
    "model_results_df[\"overfitting\"] =(1-(model_results_df[\"test_accuracy\"]/ model_results_df[\"train_accuracy\"]))*100\n",
    "model_results_df.sort_values(\"test_accuracy\", ascending = False)"
   ]
  },
  {
   "cell_type": "markdown",
   "id": "5dc3b150",
   "metadata": {
    "papermill": {
     "duration": 0.032597,
     "end_time": "2023-01-18T10:00:49.742341",
     "exception": false,
     "start_time": "2023-01-18T10:00:49.709744",
     "status": "completed"
    },
    "tags": []
   },
   "source": [
    "### Combine models"
   ]
  },
  {
   "cell_type": "code",
   "execution_count": 60,
   "id": "237da403",
   "metadata": {
    "execution": {
     "iopub.execute_input": "2023-01-18T10:00:49.811067Z",
     "iopub.status.busy": "2023-01-18T10:00:49.810069Z",
     "iopub.status.idle": "2023-01-18T10:00:49.816460Z",
     "shell.execute_reply": "2023-01-18T10:00:49.815522Z"
    },
    "jupyter": {
     "source_hidden": true
    },
    "papermill": {
     "duration": 0.044291,
     "end_time": "2023-01-18T10:00:49.819609",
     "exception": false,
     "start_time": "2023-01-18T10:00:49.775318",
     "status": "completed"
    },
    "tags": []
   },
   "outputs": [],
   "source": [
    "# model = VotingClassifier([('cbc',CatBoostClassifier(verbose = False)) , ('svc',SVC()),('gbc',GradientBoostingClassifier())] , voting = \"hard\")"
   ]
  },
  {
   "cell_type": "code",
   "execution_count": 61,
   "id": "2f4496a3",
   "metadata": {
    "execution": {
     "iopub.execute_input": "2023-01-18T10:00:49.889231Z",
     "iopub.status.busy": "2023-01-18T10:00:49.888840Z",
     "iopub.status.idle": "2023-01-18T10:00:49.893896Z",
     "shell.execute_reply": "2023-01-18T10:00:49.892624Z"
    },
    "jupyter": {
     "source_hidden": true
    },
    "papermill": {
     "duration": 0.042275,
     "end_time": "2023-01-18T10:00:49.896145",
     "exception": false,
     "start_time": "2023-01-18T10:00:49.853870",
     "status": "completed"
    },
    "tags": []
   },
   "outputs": [],
   "source": [
    "\n",
    "# re = cross_validate(model , x, y , cv= 10,\\\n",
    "#                            scoring=('accuracy' , 'precision', 'recall' , 'r2', 'neg_mean_squared_error'),return_train_score=True)"
   ]
  },
  {
   "cell_type": "markdown",
   "id": "45f32d8f",
   "metadata": {
    "papermill": {
     "duration": 0.033002,
     "end_time": "2023-01-18T10:00:49.962327",
     "exception": false,
     "start_time": "2023-01-18T10:00:49.929325",
     "status": "completed"
    },
    "tags": []
   },
   "source": [
    "### Hyperparameter tuning"
   ]
  },
  {
   "cell_type": "code",
   "execution_count": 62,
   "id": "b9555bd3",
   "metadata": {
    "execution": {
     "iopub.execute_input": "2023-01-18T10:00:50.032621Z",
     "iopub.status.busy": "2023-01-18T10:00:50.031910Z",
     "iopub.status.idle": "2023-01-18T10:00:50.038459Z",
     "shell.execute_reply": "2023-01-18T10:00:50.037688Z"
    },
    "jupyter": {
     "source_hidden": true
    },
    "papermill": {
     "duration": 0.044113,
     "end_time": "2023-01-18T10:00:50.040588",
     "exception": false,
     "start_time": "2023-01-18T10:00:49.996475",
     "status": "completed"
    },
    "tags": []
   },
   "outputs": [],
   "source": [
    "hp = {\n",
    "    \"criterion\":['gini', 'entropy'],\n",
    "    \"splitter\":[\"best\" ,\"random\"],\n",
    "    \"min_samples_split\":[1.0,2,3,4]\n",
    "}\n",
    "# hp = {\n",
    "#     \"hidden_layer_sizes\":[50,100,200,300,1000],\n",
    "#     \"activation\":['identity', 'logistic', 'tanh', 'relu'],\n",
    "#     \"solver\":[\"lbfgs\" , 'sgd','adam'],\n",
    "#     \"alpha\":[0.0001,0.001,0.01,0.00001],\n",
    "#     \"learning_rate\":[\"constant\" , \"invscaling\" ,\"adapting\"],\n",
    "#     \"learning_rate_init\":[0.1,0.01,0.001,0.0001],\n",
    "#     \"max_iter\":[20000]\n",
    "    \n",
    "# }\n",
    "params_RandomForestClassifier = {\n",
    "    \"n_estimators\":[10,100,200,400],\n",
    "#     \"criterion\":['gini', 'entropy'],\n",
    "#     \"max_depth\":[100,10,None],\n",
    "#     \"max_features\":[\"sqrt\" , \"log2\" , None],\n",
    "}\n",
    "params_catboost = {'depth'         : [4,5,6,7,8,9, 10],\n",
    "                 'learning_rate' : [0.01,0.02,0.03,0.04],\n",
    "                  'iterations'    : [10, 20,30,40,50,60,70,80,90, 100]\n",
    "                 }    \n",
    "\n",
    "\n"
   ]
  },
  {
   "cell_type": "code",
   "execution_count": 63,
   "id": "e4a7e353",
   "metadata": {
    "execution": {
     "iopub.execute_input": "2023-01-18T10:00:50.109665Z",
     "iopub.status.busy": "2023-01-18T10:00:50.108904Z",
     "iopub.status.idle": "2023-01-18T10:00:50.113284Z",
     "shell.execute_reply": "2023-01-18T10:00:50.112136Z"
    },
    "papermill": {
     "duration": 0.041863,
     "end_time": "2023-01-18T10:00:50.116020",
     "exception": false,
     "start_time": "2023-01-18T10:00:50.074157",
     "status": "completed"
    },
    "tags": []
   },
   "outputs": [],
   "source": [
    "# from sklearn.experimental import enable_halving_search_cv \n",
    "# from sklearn.model_selection import HalvingGridSearchCV\n",
    "# sh = HalvingGridSearchCV(model, params_catboost, cv=10,verbose = 2, scoring = \"accuracy\").fit(x, y)"
   ]
  },
  {
   "cell_type": "markdown",
   "id": "f8efebeb",
   "metadata": {
    "execution": {
     "iopub.execute_input": "2023-01-13T16:27:56.350291Z",
     "iopub.status.busy": "2023-01-13T16:27:56.349807Z",
     "iopub.status.idle": "2023-01-13T16:27:56.356376Z",
     "shell.execute_reply": "2023-01-13T16:27:56.354469Z",
     "shell.execute_reply.started": "2023-01-13T16:27:56.350238Z"
    },
    "papermill": {
     "duration": 0.032316,
     "end_time": "2023-01-18T10:00:50.183000",
     "exception": false,
     "start_time": "2023-01-18T10:00:50.150684",
     "status": "completed"
    },
    "tags": []
   },
   "source": [
    "## Choose the best model to fit and then predict on test"
   ]
  },
  {
   "cell_type": "code",
   "execution_count": 64,
   "id": "9ed2b6cc",
   "metadata": {
    "execution": {
     "iopub.execute_input": "2023-01-18T10:00:50.250016Z",
     "iopub.status.busy": "2023-01-18T10:00:50.249638Z",
     "iopub.status.idle": "2023-01-18T10:00:50.254222Z",
     "shell.execute_reply": "2023-01-18T10:00:50.253101Z"
    },
    "papermill": {
     "duration": 0.041178,
     "end_time": "2023-01-18T10:00:50.256827",
     "exception": false,
     "start_time": "2023-01-18T10:00:50.215649",
     "status": "completed"
    },
    "tags": []
   },
   "outputs": [],
   "source": [
    "model = SVC()"
   ]
  },
  {
   "cell_type": "code",
   "execution_count": 65,
   "id": "e0a0aa97",
   "metadata": {
    "execution": {
     "iopub.execute_input": "2023-01-18T10:00:50.325708Z",
     "iopub.status.busy": "2023-01-18T10:00:50.325309Z",
     "iopub.status.idle": "2023-01-18T10:00:53.197074Z",
     "shell.execute_reply": "2023-01-18T10:00:53.195884Z"
    },
    "papermill": {
     "duration": 2.909035,
     "end_time": "2023-01-18T10:00:53.199489",
     "exception": false,
     "start_time": "2023-01-18T10:00:50.290454",
     "status": "completed"
    },
    "tags": []
   },
   "outputs": [
    {
     "data": {
      "text/plain": [
       "SVC()"
      ]
     },
     "execution_count": 65,
     "metadata": {},
     "output_type": "execute_result"
    }
   ],
   "source": [
    "model.fit(x,y)"
   ]
  },
  {
   "cell_type": "code",
   "execution_count": 66,
   "id": "40cc54b1",
   "metadata": {
    "execution": {
     "iopub.execute_input": "2023-01-18T10:00:53.268285Z",
     "iopub.status.busy": "2023-01-18T10:00:53.267299Z",
     "iopub.status.idle": "2023-01-18T10:00:54.517357Z",
     "shell.execute_reply": "2023-01-18T10:00:54.516305Z"
    },
    "papermill": {
     "duration": 1.287239,
     "end_time": "2023-01-18T10:00:54.519954",
     "exception": false,
     "start_time": "2023-01-18T10:00:53.232715",
     "status": "completed"
    },
    "tags": []
   },
   "outputs": [],
   "source": [
    "preds = model.predict(x_test) "
   ]
  },
  {
   "cell_type": "code",
   "execution_count": 67,
   "id": "3fc1b56e",
   "metadata": {
    "execution": {
     "iopub.execute_input": "2023-01-18T10:00:54.589868Z",
     "iopub.status.busy": "2023-01-18T10:00:54.589410Z",
     "iopub.status.idle": "2023-01-18T10:00:54.608156Z",
     "shell.execute_reply": "2023-01-18T10:00:54.607088Z"
    },
    "papermill": {
     "duration": 0.055765,
     "end_time": "2023-01-18T10:00:54.610389",
     "exception": false,
     "start_time": "2023-01-18T10:00:54.554624",
     "status": "completed"
    },
    "tags": []
   },
   "outputs": [
    {
     "data": {
      "text/html": [
       "<div>\n",
       "<style scoped>\n",
       "    .dataframe tbody tr th:only-of-type {\n",
       "        vertical-align: middle;\n",
       "    }\n",
       "\n",
       "    .dataframe tbody tr th {\n",
       "        vertical-align: top;\n",
       "    }\n",
       "\n",
       "    .dataframe thead th {\n",
       "        text-align: right;\n",
       "    }\n",
       "</style>\n",
       "<table border=\"1\" class=\"dataframe\">\n",
       "  <thead>\n",
       "    <tr style=\"text-align: right;\">\n",
       "      <th></th>\n",
       "      <th>PassengerId</th>\n",
       "      <th>Transported</th>\n",
       "    </tr>\n",
       "  </thead>\n",
       "  <tbody>\n",
       "    <tr>\n",
       "      <th>0</th>\n",
       "      <td>0013_01</td>\n",
       "      <td>True</td>\n",
       "    </tr>\n",
       "    <tr>\n",
       "      <th>1</th>\n",
       "      <td>0018_01</td>\n",
       "      <td>False</td>\n",
       "    </tr>\n",
       "    <tr>\n",
       "      <th>2</th>\n",
       "      <td>0019_01</td>\n",
       "      <td>True</td>\n",
       "    </tr>\n",
       "    <tr>\n",
       "      <th>3</th>\n",
       "      <td>0021_01</td>\n",
       "      <td>True</td>\n",
       "    </tr>\n",
       "    <tr>\n",
       "      <th>4</th>\n",
       "      <td>0023_01</td>\n",
       "      <td>False</td>\n",
       "    </tr>\n",
       "    <tr>\n",
       "      <th>...</th>\n",
       "      <td>...</td>\n",
       "      <td>...</td>\n",
       "    </tr>\n",
       "    <tr>\n",
       "      <th>4272</th>\n",
       "      <td>9266_02</td>\n",
       "      <td>True</td>\n",
       "    </tr>\n",
       "    <tr>\n",
       "      <th>4273</th>\n",
       "      <td>9269_01</td>\n",
       "      <td>False</td>\n",
       "    </tr>\n",
       "    <tr>\n",
       "      <th>4274</th>\n",
       "      <td>9271_01</td>\n",
       "      <td>True</td>\n",
       "    </tr>\n",
       "    <tr>\n",
       "      <th>4275</th>\n",
       "      <td>9273_01</td>\n",
       "      <td>True</td>\n",
       "    </tr>\n",
       "    <tr>\n",
       "      <th>4276</th>\n",
       "      <td>9277_01</td>\n",
       "      <td>True</td>\n",
       "    </tr>\n",
       "  </tbody>\n",
       "</table>\n",
       "<p>4277 rows × 2 columns</p>\n",
       "</div>"
      ],
      "text/plain": [
       "     PassengerId Transported\n",
       "0        0013_01        True\n",
       "1        0018_01       False\n",
       "2        0019_01        True\n",
       "3        0021_01        True\n",
       "4        0023_01       False\n",
       "...          ...         ...\n",
       "4272     9266_02        True\n",
       "4273     9269_01       False\n",
       "4274     9271_01        True\n",
       "4275     9273_01        True\n",
       "4276     9277_01        True\n",
       "\n",
       "[4277 rows x 2 columns]"
      ]
     },
     "execution_count": 67,
     "metadata": {},
     "output_type": "execute_result"
    }
   ],
   "source": [
    "pd.concat([test.reset_index() , pd.DataFrame(labenc.inverse_transform(preds), columns = [\"Transported\"])], axis = 1)[[\"PassengerId\", \"Transported\"]]"
   ]
  },
  {
   "cell_type": "markdown",
   "id": "1a72610f",
   "metadata": {
    "papermill": {
     "duration": 0.034983,
     "end_time": "2023-01-18T10:00:54.678885",
     "exception": false,
     "start_time": "2023-01-18T10:00:54.643902",
     "status": "completed"
    },
    "tags": []
   },
   "source": [
    "## Download submission.csv"
   ]
  },
  {
   "cell_type": "code",
   "execution_count": 68,
   "id": "46b1871f",
   "metadata": {
    "execution": {
     "iopub.execute_input": "2023-01-18T10:00:54.747973Z",
     "iopub.status.busy": "2023-01-18T10:00:54.747174Z",
     "iopub.status.idle": "2023-01-18T10:00:54.766321Z",
     "shell.execute_reply": "2023-01-18T10:00:54.765488Z"
    },
    "papermill": {
     "duration": 0.056494,
     "end_time": "2023-01-18T10:00:54.768933",
     "exception": false,
     "start_time": "2023-01-18T10:00:54.712439",
     "status": "completed"
    },
    "tags": []
   },
   "outputs": [],
   "source": [
    "pd.concat([test.reset_index() , pd.DataFrame(labenc.inverse_transform(preds), columns = [\"Transported\"])], axis = 1)[[\"PassengerId\", \"Transported\"]].to_csv(\"submission.csv\", index = False)"
   ]
  }
 ],
 "metadata": {
  "kernelspec": {
   "display_name": "Python 3",
   "language": "python",
   "name": "python3"
  },
  "language_info": {
   "codemirror_mode": {
    "name": "ipython",
    "version": 3
   },
   "file_extension": ".py",
   "mimetype": "text/x-python",
   "name": "python",
   "nbconvert_exporter": "python",
   "pygments_lexer": "ipython3",
   "version": "3.7.12"
  },
  "papermill": {
   "default_parameters": {},
   "duration": 336.400876,
   "end_time": "2023-01-18T10:00:57.811896",
   "environment_variables": {},
   "exception": null,
   "input_path": "__notebook__.ipynb",
   "output_path": "__notebook__.ipynb",
   "parameters": {},
   "start_time": "2023-01-18T09:55:21.411020",
   "version": "2.3.4"
  },
  "widgets": {
   "application/vnd.jupyter.widget-state+json": {
    "state": {
     "3177947753bf44f4b8528d330cdf2a20": {
      "model_module": "@jupyter-widgets/base",
      "model_module_version": "1.2.0",
      "model_name": "LayoutModel",
      "state": {
       "_model_module": "@jupyter-widgets/base",
       "_model_module_version": "1.2.0",
       "_model_name": "LayoutModel",
       "_view_count": null,
       "_view_module": "@jupyter-widgets/base",
       "_view_module_version": "1.2.0",
       "_view_name": "LayoutView",
       "align_content": null,
       "align_items": null,
       "align_self": null,
       "border": null,
       "bottom": null,
       "display": null,
       "flex": null,
       "flex_flow": null,
       "grid_area": null,
       "grid_auto_columns": null,
       "grid_auto_flow": null,
       "grid_auto_rows": null,
       "grid_column": null,
       "grid_gap": null,
       "grid_row": null,
       "grid_template_areas": null,
       "grid_template_columns": null,
       "grid_template_rows": null,
       "height": null,
       "justify_content": null,
       "justify_items": null,
       "left": null,
       "margin": null,
       "max_height": null,
       "max_width": null,
       "min_height": null,
       "min_width": null,
       "object_fit": null,
       "object_position": null,
       "order": null,
       "overflow": null,
       "overflow_x": null,
       "overflow_y": null,
       "padding": null,
       "right": null,
       "top": null,
       "visibility": null,
       "width": null
      }
     },
     "7c65d582089f48baadd24a297ad61e0b": {
      "model_module": "@jupyter-widgets/controls",
      "model_module_version": "1.5.0",
      "model_name": "DescriptionStyleModel",
      "state": {
       "_model_module": "@jupyter-widgets/controls",
       "_model_module_version": "1.5.0",
       "_model_name": "DescriptionStyleModel",
       "_view_count": null,
       "_view_module": "@jupyter-widgets/base",
       "_view_module_version": "1.2.0",
       "_view_name": "StyleView",
       "description_width": ""
      }
     },
     "7cc95ac65c214d5f9ead8842f8bdac13": {
      "model_module": "@jupyter-widgets/controls",
      "model_module_version": "1.5.0",
      "model_name": "ProgressStyleModel",
      "state": {
       "_model_module": "@jupyter-widgets/controls",
       "_model_module_version": "1.5.0",
       "_model_name": "ProgressStyleModel",
       "_view_count": null,
       "_view_module": "@jupyter-widgets/base",
       "_view_module_version": "1.2.0",
       "_view_name": "StyleView",
       "bar_color": null,
       "description_width": ""
      }
     },
     "a5cfca575bf4434ea1d2f2a56215b5e8": {
      "model_module": "@jupyter-widgets/controls",
      "model_module_version": "1.5.0",
      "model_name": "DescriptionStyleModel",
      "state": {
       "_model_module": "@jupyter-widgets/controls",
       "_model_module_version": "1.5.0",
       "_model_name": "DescriptionStyleModel",
       "_view_count": null,
       "_view_module": "@jupyter-widgets/base",
       "_view_module_version": "1.2.0",
       "_view_name": "StyleView",
       "description_width": ""
      }
     },
     "a702214432874c49a123c2d8a54c64d2": {
      "model_module": "@jupyter-widgets/controls",
      "model_module_version": "1.5.0",
      "model_name": "FloatProgressModel",
      "state": {
       "_dom_classes": [],
       "_model_module": "@jupyter-widgets/controls",
       "_model_module_version": "1.5.0",
       "_model_name": "FloatProgressModel",
       "_view_count": null,
       "_view_module": "@jupyter-widgets/controls",
       "_view_module_version": "1.5.0",
       "_view_name": "ProgressView",
       "bar_style": "success",
       "description": "",
       "description_tooltip": null,
       "layout": "IPY_MODEL_3177947753bf44f4b8528d330cdf2a20",
       "max": 11.0,
       "min": 0.0,
       "orientation": "horizontal",
       "style": "IPY_MODEL_7cc95ac65c214d5f9ead8842f8bdac13",
       "value": 11.0
      }
     },
     "b685b58001d44056999bc17defa8c28a": {
      "model_module": "@jupyter-widgets/base",
      "model_module_version": "1.2.0",
      "model_name": "LayoutModel",
      "state": {
       "_model_module": "@jupyter-widgets/base",
       "_model_module_version": "1.2.0",
       "_model_name": "LayoutModel",
       "_view_count": null,
       "_view_module": "@jupyter-widgets/base",
       "_view_module_version": "1.2.0",
       "_view_name": "LayoutView",
       "align_content": null,
       "align_items": null,
       "align_self": null,
       "border": null,
       "bottom": null,
       "display": null,
       "flex": null,
       "flex_flow": null,
       "grid_area": null,
       "grid_auto_columns": null,
       "grid_auto_flow": null,
       "grid_auto_rows": null,
       "grid_column": null,
       "grid_gap": null,
       "grid_row": null,
       "grid_template_areas": null,
       "grid_template_columns": null,
       "grid_template_rows": null,
       "height": null,
       "justify_content": null,
       "justify_items": null,
       "left": null,
       "margin": null,
       "max_height": null,
       "max_width": null,
       "min_height": null,
       "min_width": null,
       "object_fit": null,
       "object_position": null,
       "order": null,
       "overflow": null,
       "overflow_x": null,
       "overflow_y": null,
       "padding": null,
       "right": null,
       "top": null,
       "visibility": null,
       "width": null
      }
     },
     "d644cbde52984789922fd645520c9e10": {
      "model_module": "@jupyter-widgets/controls",
      "model_module_version": "1.5.0",
      "model_name": "HTMLModel",
      "state": {
       "_dom_classes": [],
       "_model_module": "@jupyter-widgets/controls",
       "_model_module_version": "1.5.0",
       "_model_name": "HTMLModel",
       "_view_count": null,
       "_view_module": "@jupyter-widgets/controls",
       "_view_module_version": "1.5.0",
       "_view_name": "HTMLView",
       "description": "",
       "description_tooltip": null,
       "layout": "IPY_MODEL_eb15ff982c0246baab7d606621b4e18e",
       "placeholder": "​",
       "style": "IPY_MODEL_7c65d582089f48baadd24a297ad61e0b",
       "value": " 11/11 [04:57&lt;00:00, 47.85s/it]"
      }
     },
     "d99f3dcc1d654fe3b9b24de9ac54ada6": {
      "model_module": "@jupyter-widgets/controls",
      "model_module_version": "1.5.0",
      "model_name": "HBoxModel",
      "state": {
       "_dom_classes": [],
       "_model_module": "@jupyter-widgets/controls",
       "_model_module_version": "1.5.0",
       "_model_name": "HBoxModel",
       "_view_count": null,
       "_view_module": "@jupyter-widgets/controls",
       "_view_module_version": "1.5.0",
       "_view_name": "HBoxView",
       "box_style": "",
       "children": [
        "IPY_MODEL_de416f1c036c40179727c67d45030834",
        "IPY_MODEL_a702214432874c49a123c2d8a54c64d2",
        "IPY_MODEL_d644cbde52984789922fd645520c9e10"
       ],
       "layout": "IPY_MODEL_dbf72a2eba4b49c1aaa811e7324811aa"
      }
     },
     "dbf72a2eba4b49c1aaa811e7324811aa": {
      "model_module": "@jupyter-widgets/base",
      "model_module_version": "1.2.0",
      "model_name": "LayoutModel",
      "state": {
       "_model_module": "@jupyter-widgets/base",
       "_model_module_version": "1.2.0",
       "_model_name": "LayoutModel",
       "_view_count": null,
       "_view_module": "@jupyter-widgets/base",
       "_view_module_version": "1.2.0",
       "_view_name": "LayoutView",
       "align_content": null,
       "align_items": null,
       "align_self": null,
       "border": null,
       "bottom": null,
       "display": null,
       "flex": null,
       "flex_flow": null,
       "grid_area": null,
       "grid_auto_columns": null,
       "grid_auto_flow": null,
       "grid_auto_rows": null,
       "grid_column": null,
       "grid_gap": null,
       "grid_row": null,
       "grid_template_areas": null,
       "grid_template_columns": null,
       "grid_template_rows": null,
       "height": null,
       "justify_content": null,
       "justify_items": null,
       "left": null,
       "margin": null,
       "max_height": null,
       "max_width": null,
       "min_height": null,
       "min_width": null,
       "object_fit": null,
       "object_position": null,
       "order": null,
       "overflow": null,
       "overflow_x": null,
       "overflow_y": null,
       "padding": null,
       "right": null,
       "top": null,
       "visibility": null,
       "width": null
      }
     },
     "de416f1c036c40179727c67d45030834": {
      "model_module": "@jupyter-widgets/controls",
      "model_module_version": "1.5.0",
      "model_name": "HTMLModel",
      "state": {
       "_dom_classes": [],
       "_model_module": "@jupyter-widgets/controls",
       "_model_module_version": "1.5.0",
       "_model_name": "HTMLModel",
       "_view_count": null,
       "_view_module": "@jupyter-widgets/controls",
       "_view_module_version": "1.5.0",
       "_view_name": "HTMLView",
       "description": "",
       "description_tooltip": null,
       "layout": "IPY_MODEL_b685b58001d44056999bc17defa8c28a",
       "placeholder": "​",
       "style": "IPY_MODEL_a5cfca575bf4434ea1d2f2a56215b5e8",
       "value": "100%"
      }
     },
     "eb15ff982c0246baab7d606621b4e18e": {
      "model_module": "@jupyter-widgets/base",
      "model_module_version": "1.2.0",
      "model_name": "LayoutModel",
      "state": {
       "_model_module": "@jupyter-widgets/base",
       "_model_module_version": "1.2.0",
       "_model_name": "LayoutModel",
       "_view_count": null,
       "_view_module": "@jupyter-widgets/base",
       "_view_module_version": "1.2.0",
       "_view_name": "LayoutView",
       "align_content": null,
       "align_items": null,
       "align_self": null,
       "border": null,
       "bottom": null,
       "display": null,
       "flex": null,
       "flex_flow": null,
       "grid_area": null,
       "grid_auto_columns": null,
       "grid_auto_flow": null,
       "grid_auto_rows": null,
       "grid_column": null,
       "grid_gap": null,
       "grid_row": null,
       "grid_template_areas": null,
       "grid_template_columns": null,
       "grid_template_rows": null,
       "height": null,
       "justify_content": null,
       "justify_items": null,
       "left": null,
       "margin": null,
       "max_height": null,
       "max_width": null,
       "min_height": null,
       "min_width": null,
       "object_fit": null,
       "object_position": null,
       "order": null,
       "overflow": null,
       "overflow_x": null,
       "overflow_y": null,
       "padding": null,
       "right": null,
       "top": null,
       "visibility": null,
       "width": null
      }
     }
    },
    "version_major": 2,
    "version_minor": 0
   }
  }
 },
 "nbformat": 4,
 "nbformat_minor": 5
}
