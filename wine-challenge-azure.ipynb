{
 "cells": [
  {
   "cell_type": "markdown",
   "id": "6c24fbbb",
   "metadata": {
    "papermill": {
     "duration": 0.005745,
     "end_time": "2023-03-02T14:01:12.566747",
     "exception": false,
     "start_time": "2023-03-02T14:01:12.561002",
     "status": "completed"
    },
    "tags": []
   },
   "source": [
    "# Classification Challenge\n",
    "\n",
    "Wine experts can identify wines from specific vineyards through smell and taste, but the factors that give different wines their individual charateristics are actually based on their chemical composition.\n",
    "\n",
    "In this challenge, you must train a classification model to analyze the chemical and visual features of wine samples and classify them based on their cultivar (grape variety).\n",
    "\n",
    "> **Citation**: The data used in this exercise was originally collected by Forina, M. et al.\n",
    ">\n",
    "> PARVUS - An Extendible Package for Data Exploration, Classification and Correlation.\n",
    "Institute of Pharmaceutical and Food Analysis and Technologies, Via Brigata Salerno,\n",
    "16147 Genoa, Italy.\n",
    ">\n",
    "> It can be downloaded from the UCI dataset repository (Dua, D. and Graff, C. (2019). [UCI Machine Learning Repository]([http://archive.ics.uci.edu/ml). Irvine, CA: University of California, School of Information and Computer Science). "
   ]
  },
  {
   "cell_type": "markdown",
   "id": "1dd0a7fb",
   "metadata": {
    "papermill": {
     "duration": 0.004069,
     "end_time": "2023-03-02T14:01:12.575511",
     "exception": false,
     "start_time": "2023-03-02T14:01:12.571442",
     "status": "completed"
    },
    "tags": []
   },
   "source": [
    "## Import any packages required"
   ]
  },
  {
   "cell_type": "code",
   "execution_count": 1,
   "id": "39a60dd8",
   "metadata": {
    "execution": {
     "iopub.execute_input": "2023-03-02T14:01:12.586883Z",
     "iopub.status.busy": "2023-03-02T14:01:12.586265Z",
     "iopub.status.idle": "2023-03-02T14:01:14.956658Z",
     "shell.execute_reply": "2023-03-02T14:01:14.955490Z"
    },
    "papermill": {
     "duration": 2.379632,
     "end_time": "2023-03-02T14:01:14.959574",
     "exception": false,
     "start_time": "2023-03-02T14:01:12.579942",
     "status": "completed"
    },
    "tags": []
   },
   "outputs": [],
   "source": [
    "import pandas as pd\n",
    "from sklearn.impute import SimpleImputer\n",
    "from sklearn.preprocessing import OneHotEncoder\n",
    "from sklearn.metrics import mean_absolute_error\n",
    "import numpy as np\n",
    "import base64\n",
    "import seaborn as sns\n",
    "import matplotlib.pyplot as plt\n",
    "import os\n",
    "import random\n",
    "import gc\n",
    "\n",
    "from sklearn.compose import ColumnTransformer\n",
    "from sklearn.pipeline import Pipeline\n",
    "from sklearn.impute import SimpleImputer,KNNImputer\n",
    "from sklearn.preprocessing import OneHotEncoder,StandardScaler, LabelEncoder\n",
    "\n",
    "\n",
    "from sklearn.metrics import confusion_matrix,log_loss,accuracy_score,classification_report,roc_curve\n",
    "from sklearn.model_selection import cross_val_score, cross_validate,train_test_split,StratifiedKFold\n",
    "from sklearn.ensemble import (RandomForestClassifier, AdaBoostClassifier, GradientBoostingClassifier, \n",
    "                              ExtraTreesClassifier, VotingClassifier)\n",
    "from sklearn.discriminant_analysis import LinearDiscriminantAnalysis\n",
    "from sklearn.linear_model import LogisticRegression\n",
    "from sklearn.neighbors import KNeighborsClassifier\n",
    "from sklearn.tree import DecisionTreeClassifier\n",
    "from sklearn.neural_network import MLPClassifier\n",
    "from catboost import CatBoostClassifier\n",
    "from sklearn.svm import SVC\n",
    "from sklearn import datasets, linear_model"
   ]
  },
  {
   "cell_type": "markdown",
   "id": "24796667",
   "metadata": {
    "papermill": {
     "duration": 0.004137,
     "end_time": "2023-03-02T14:01:14.968306",
     "exception": false,
     "start_time": "2023-03-02T14:01:14.964169",
     "status": "completed"
    },
    "tags": []
   },
   "source": [
    "## Explore the data\n",
    "\n",
    "Run the following cell to load a CSV file of wine data, which consists of 12 numeric features and a classification label with the following classes:\n",
    "\n",
    "- **0** (*variety A*)\n",
    "- **1** (*variety B*)\n",
    "- **2** (*variety C*)"
   ]
  },
  {
   "cell_type": "code",
   "execution_count": 2,
   "id": "5645ad94",
   "metadata": {
    "execution": {
     "iopub.execute_input": "2023-03-02T14:01:14.979431Z",
     "iopub.status.busy": "2023-03-02T14:01:14.978943Z",
     "iopub.status.idle": "2023-03-02T14:01:15.042263Z",
     "shell.execute_reply": "2023-03-02T14:01:15.040644Z"
    },
    "papermill": {
     "duration": 0.072801,
     "end_time": "2023-03-02T14:01:15.045539",
     "exception": false,
     "start_time": "2023-03-02T14:01:14.972738",
     "status": "completed"
    },
    "tags": []
   },
   "outputs": [
    {
     "data": {
      "text/html": [
       "<div>\n",
       "<style scoped>\n",
       "    .dataframe tbody tr th:only-of-type {\n",
       "        vertical-align: middle;\n",
       "    }\n",
       "\n",
       "    .dataframe tbody tr th {\n",
       "        vertical-align: top;\n",
       "    }\n",
       "\n",
       "    .dataframe thead th {\n",
       "        text-align: right;\n",
       "    }\n",
       "</style>\n",
       "<table border=\"1\" class=\"dataframe\">\n",
       "  <thead>\n",
       "    <tr style=\"text-align: right;\">\n",
       "      <th></th>\n",
       "      <th>Alcohol</th>\n",
       "      <th>Malic_acid</th>\n",
       "      <th>Ash</th>\n",
       "      <th>Alcalinity</th>\n",
       "      <th>Magnesium</th>\n",
       "      <th>Phenols</th>\n",
       "      <th>Flavanoids</th>\n",
       "      <th>Nonflavanoids</th>\n",
       "      <th>Proanthocyanins</th>\n",
       "      <th>Color_intensity</th>\n",
       "      <th>Hue</th>\n",
       "      <th>OD280_315_of_diluted_wines</th>\n",
       "      <th>Proline</th>\n",
       "      <th>WineVariety</th>\n",
       "    </tr>\n",
       "  </thead>\n",
       "  <tbody>\n",
       "    <tr>\n",
       "      <th>157</th>\n",
       "      <td>12.45</td>\n",
       "      <td>3.03</td>\n",
       "      <td>2.64</td>\n",
       "      <td>27.0</td>\n",
       "      <td>97</td>\n",
       "      <td>1.90</td>\n",
       "      <td>0.58</td>\n",
       "      <td>0.63</td>\n",
       "      <td>1.14</td>\n",
       "      <td>7.50</td>\n",
       "      <td>0.67</td>\n",
       "      <td>1.73</td>\n",
       "      <td>880</td>\n",
       "      <td>2</td>\n",
       "    </tr>\n",
       "    <tr>\n",
       "      <th>156</th>\n",
       "      <td>13.84</td>\n",
       "      <td>4.12</td>\n",
       "      <td>2.38</td>\n",
       "      <td>19.5</td>\n",
       "      <td>89</td>\n",
       "      <td>1.80</td>\n",
       "      <td>0.83</td>\n",
       "      <td>0.48</td>\n",
       "      <td>1.56</td>\n",
       "      <td>9.01</td>\n",
       "      <td>0.57</td>\n",
       "      <td>1.64</td>\n",
       "      <td>480</td>\n",
       "      <td>2</td>\n",
       "    </tr>\n",
       "    <tr>\n",
       "      <th>33</th>\n",
       "      <td>13.76</td>\n",
       "      <td>1.53</td>\n",
       "      <td>2.70</td>\n",
       "      <td>19.5</td>\n",
       "      <td>132</td>\n",
       "      <td>2.95</td>\n",
       "      <td>2.74</td>\n",
       "      <td>0.50</td>\n",
       "      <td>1.35</td>\n",
       "      <td>5.40</td>\n",
       "      <td>1.25</td>\n",
       "      <td>3.00</td>\n",
       "      <td>1235</td>\n",
       "      <td>0</td>\n",
       "    </tr>\n",
       "    <tr>\n",
       "      <th>27</th>\n",
       "      <td>13.30</td>\n",
       "      <td>1.72</td>\n",
       "      <td>2.14</td>\n",
       "      <td>17.0</td>\n",
       "      <td>94</td>\n",
       "      <td>2.40</td>\n",
       "      <td>2.19</td>\n",
       "      <td>0.27</td>\n",
       "      <td>1.35</td>\n",
       "      <td>3.95</td>\n",
       "      <td>1.02</td>\n",
       "      <td>2.77</td>\n",
       "      <td>1285</td>\n",
       "      <td>0</td>\n",
       "    </tr>\n",
       "    <tr>\n",
       "      <th>50</th>\n",
       "      <td>13.05</td>\n",
       "      <td>1.73</td>\n",
       "      <td>2.04</td>\n",
       "      <td>12.4</td>\n",
       "      <td>92</td>\n",
       "      <td>2.72</td>\n",
       "      <td>3.27</td>\n",
       "      <td>0.17</td>\n",
       "      <td>2.91</td>\n",
       "      <td>7.20</td>\n",
       "      <td>1.12</td>\n",
       "      <td>2.91</td>\n",
       "      <td>1150</td>\n",
       "      <td>0</td>\n",
       "    </tr>\n",
       "    <tr>\n",
       "      <th>133</th>\n",
       "      <td>12.70</td>\n",
       "      <td>3.55</td>\n",
       "      <td>2.36</td>\n",
       "      <td>21.5</td>\n",
       "      <td>106</td>\n",
       "      <td>1.70</td>\n",
       "      <td>1.20</td>\n",
       "      <td>0.17</td>\n",
       "      <td>0.84</td>\n",
       "      <td>5.00</td>\n",
       "      <td>0.78</td>\n",
       "      <td>1.29</td>\n",
       "      <td>600</td>\n",
       "      <td>2</td>\n",
       "    </tr>\n",
       "    <tr>\n",
       "      <th>150</th>\n",
       "      <td>13.50</td>\n",
       "      <td>3.12</td>\n",
       "      <td>2.62</td>\n",
       "      <td>24.0</td>\n",
       "      <td>123</td>\n",
       "      <td>1.40</td>\n",
       "      <td>1.57</td>\n",
       "      <td>0.22</td>\n",
       "      <td>1.25</td>\n",
       "      <td>8.60</td>\n",
       "      <td>0.59</td>\n",
       "      <td>1.30</td>\n",
       "      <td>500</td>\n",
       "      <td>2</td>\n",
       "    </tr>\n",
       "    <tr>\n",
       "      <th>4</th>\n",
       "      <td>13.24</td>\n",
       "      <td>2.59</td>\n",
       "      <td>2.87</td>\n",
       "      <td>21.0</td>\n",
       "      <td>118</td>\n",
       "      <td>2.80</td>\n",
       "      <td>2.69</td>\n",
       "      <td>0.39</td>\n",
       "      <td>1.82</td>\n",
       "      <td>4.32</td>\n",
       "      <td>1.04</td>\n",
       "      <td>2.93</td>\n",
       "      <td>735</td>\n",
       "      <td>0</td>\n",
       "    </tr>\n",
       "    <tr>\n",
       "      <th>63</th>\n",
       "      <td>12.37</td>\n",
       "      <td>1.13</td>\n",
       "      <td>2.16</td>\n",
       "      <td>19.0</td>\n",
       "      <td>87</td>\n",
       "      <td>3.50</td>\n",
       "      <td>3.10</td>\n",
       "      <td>0.19</td>\n",
       "      <td>1.87</td>\n",
       "      <td>4.45</td>\n",
       "      <td>1.22</td>\n",
       "      <td>2.87</td>\n",
       "      <td>420</td>\n",
       "      <td>1</td>\n",
       "    </tr>\n",
       "    <tr>\n",
       "      <th>77</th>\n",
       "      <td>11.84</td>\n",
       "      <td>2.89</td>\n",
       "      <td>2.23</td>\n",
       "      <td>18.0</td>\n",
       "      <td>112</td>\n",
       "      <td>1.72</td>\n",
       "      <td>1.32</td>\n",
       "      <td>0.43</td>\n",
       "      <td>0.95</td>\n",
       "      <td>2.65</td>\n",
       "      <td>0.96</td>\n",
       "      <td>2.52</td>\n",
       "      <td>500</td>\n",
       "      <td>1</td>\n",
       "    </tr>\n",
       "  </tbody>\n",
       "</table>\n",
       "</div>"
      ],
      "text/plain": [
       "     Alcohol  Malic_acid   Ash  Alcalinity  Magnesium  Phenols  Flavanoids  \\\n",
       "157    12.45        3.03  2.64        27.0         97     1.90        0.58   \n",
       "156    13.84        4.12  2.38        19.5         89     1.80        0.83   \n",
       "33     13.76        1.53  2.70        19.5        132     2.95        2.74   \n",
       "27     13.30        1.72  2.14        17.0         94     2.40        2.19   \n",
       "50     13.05        1.73  2.04        12.4         92     2.72        3.27   \n",
       "133    12.70        3.55  2.36        21.5        106     1.70        1.20   \n",
       "150    13.50        3.12  2.62        24.0        123     1.40        1.57   \n",
       "4      13.24        2.59  2.87        21.0        118     2.80        2.69   \n",
       "63     12.37        1.13  2.16        19.0         87     3.50        3.10   \n",
       "77     11.84        2.89  2.23        18.0        112     1.72        1.32   \n",
       "\n",
       "     Nonflavanoids  Proanthocyanins  Color_intensity   Hue  \\\n",
       "157           0.63             1.14             7.50  0.67   \n",
       "156           0.48             1.56             9.01  0.57   \n",
       "33            0.50             1.35             5.40  1.25   \n",
       "27            0.27             1.35             3.95  1.02   \n",
       "50            0.17             2.91             7.20  1.12   \n",
       "133           0.17             0.84             5.00  0.78   \n",
       "150           0.22             1.25             8.60  0.59   \n",
       "4             0.39             1.82             4.32  1.04   \n",
       "63            0.19             1.87             4.45  1.22   \n",
       "77            0.43             0.95             2.65  0.96   \n",
       "\n",
       "     OD280_315_of_diluted_wines  Proline  WineVariety  \n",
       "157                        1.73      880            2  \n",
       "156                        1.64      480            2  \n",
       "33                         3.00     1235            0  \n",
       "27                         2.77     1285            0  \n",
       "50                         2.91     1150            0  \n",
       "133                        1.29      600            2  \n",
       "150                        1.30      500            2  \n",
       "4                          2.93      735            0  \n",
       "63                         2.87      420            1  \n",
       "77                         2.52      500            1  "
      ]
     },
     "execution_count": 2,
     "metadata": {},
     "output_type": "execute_result"
    }
   ],
   "source": [
    "# load the training dataset\n",
    "data = pd.read_csv('/kaggle/input/flights/challenges/data/wine.csv')\n",
    "data.sample(10)"
   ]
  },
  {
   "cell_type": "code",
   "execution_count": 3,
   "id": "50fa4923",
   "metadata": {
    "execution": {
     "iopub.execute_input": "2023-03-02T14:01:15.057483Z",
     "iopub.status.busy": "2023-03-02T14:01:15.057022Z",
     "iopub.status.idle": "2023-03-02T14:01:15.085321Z",
     "shell.execute_reply": "2023-03-02T14:01:15.083637Z"
    },
    "papermill": {
     "duration": 0.038829,
     "end_time": "2023-03-02T14:01:15.089452",
     "exception": false,
     "start_time": "2023-03-02T14:01:15.050623",
     "status": "completed"
    },
    "tags": []
   },
   "outputs": [
    {
     "name": "stdout",
     "output_type": "stream",
     "text": [
      "<class 'pandas.core.frame.DataFrame'>\n",
      "RangeIndex: 178 entries, 0 to 177\n",
      "Data columns (total 14 columns):\n",
      " #   Column                      Non-Null Count  Dtype  \n",
      "---  ------                      --------------  -----  \n",
      " 0   Alcohol                     178 non-null    float64\n",
      " 1   Malic_acid                  178 non-null    float64\n",
      " 2   Ash                         178 non-null    float64\n",
      " 3   Alcalinity                  178 non-null    float64\n",
      " 4   Magnesium                   178 non-null    int64  \n",
      " 5   Phenols                     178 non-null    float64\n",
      " 6   Flavanoids                  178 non-null    float64\n",
      " 7   Nonflavanoids               178 non-null    float64\n",
      " 8   Proanthocyanins             178 non-null    float64\n",
      " 9   Color_intensity             178 non-null    float64\n",
      " 10  Hue                         178 non-null    float64\n",
      " 11  OD280_315_of_diluted_wines  178 non-null    float64\n",
      " 12  Proline                     178 non-null    int64  \n",
      " 13  WineVariety                 178 non-null    int64  \n",
      "dtypes: float64(11), int64(3)\n",
      "memory usage: 19.6 KB\n"
     ]
    }
   ],
   "source": [
    "data.info()"
   ]
  },
  {
   "cell_type": "code",
   "execution_count": 4,
   "id": "7d786dd4",
   "metadata": {
    "execution": {
     "iopub.execute_input": "2023-03-02T14:01:15.102004Z",
     "iopub.status.busy": "2023-03-02T14:01:15.101524Z",
     "iopub.status.idle": "2023-03-02T14:01:15.162565Z",
     "shell.execute_reply": "2023-03-02T14:01:15.161226Z"
    },
    "papermill": {
     "duration": 0.070543,
     "end_time": "2023-03-02T14:01:15.165386",
     "exception": false,
     "start_time": "2023-03-02T14:01:15.094843",
     "status": "completed"
    },
    "tags": []
   },
   "outputs": [
    {
     "data": {
      "text/html": [
       "<div>\n",
       "<style scoped>\n",
       "    .dataframe tbody tr th:only-of-type {\n",
       "        vertical-align: middle;\n",
       "    }\n",
       "\n",
       "    .dataframe tbody tr th {\n",
       "        vertical-align: top;\n",
       "    }\n",
       "\n",
       "    .dataframe thead th {\n",
       "        text-align: right;\n",
       "    }\n",
       "</style>\n",
       "<table border=\"1\" class=\"dataframe\">\n",
       "  <thead>\n",
       "    <tr style=\"text-align: right;\">\n",
       "      <th></th>\n",
       "      <th>Alcohol</th>\n",
       "      <th>Malic_acid</th>\n",
       "      <th>Ash</th>\n",
       "      <th>Alcalinity</th>\n",
       "      <th>Magnesium</th>\n",
       "      <th>Phenols</th>\n",
       "      <th>Flavanoids</th>\n",
       "      <th>Nonflavanoids</th>\n",
       "      <th>Proanthocyanins</th>\n",
       "      <th>Color_intensity</th>\n",
       "      <th>Hue</th>\n",
       "      <th>OD280_315_of_diluted_wines</th>\n",
       "      <th>Proline</th>\n",
       "      <th>WineVariety</th>\n",
       "    </tr>\n",
       "  </thead>\n",
       "  <tbody>\n",
       "    <tr>\n",
       "      <th>count</th>\n",
       "      <td>178.000000</td>\n",
       "      <td>178.000000</td>\n",
       "      <td>178.000000</td>\n",
       "      <td>178.000000</td>\n",
       "      <td>178.000000</td>\n",
       "      <td>178.000000</td>\n",
       "      <td>178.000000</td>\n",
       "      <td>178.000000</td>\n",
       "      <td>178.000000</td>\n",
       "      <td>178.000000</td>\n",
       "      <td>178.000000</td>\n",
       "      <td>178.000000</td>\n",
       "      <td>178.000000</td>\n",
       "      <td>178.000000</td>\n",
       "    </tr>\n",
       "    <tr>\n",
       "      <th>mean</th>\n",
       "      <td>13.000618</td>\n",
       "      <td>2.336348</td>\n",
       "      <td>2.366517</td>\n",
       "      <td>19.494944</td>\n",
       "      <td>99.741573</td>\n",
       "      <td>2.295112</td>\n",
       "      <td>2.029270</td>\n",
       "      <td>0.361854</td>\n",
       "      <td>1.590899</td>\n",
       "      <td>5.058090</td>\n",
       "      <td>0.957449</td>\n",
       "      <td>2.611685</td>\n",
       "      <td>746.893258</td>\n",
       "      <td>0.938202</td>\n",
       "    </tr>\n",
       "    <tr>\n",
       "      <th>std</th>\n",
       "      <td>0.811827</td>\n",
       "      <td>1.117146</td>\n",
       "      <td>0.274344</td>\n",
       "      <td>3.339564</td>\n",
       "      <td>14.282484</td>\n",
       "      <td>0.625851</td>\n",
       "      <td>0.998859</td>\n",
       "      <td>0.124453</td>\n",
       "      <td>0.572359</td>\n",
       "      <td>2.318286</td>\n",
       "      <td>0.228572</td>\n",
       "      <td>0.709990</td>\n",
       "      <td>314.907474</td>\n",
       "      <td>0.775035</td>\n",
       "    </tr>\n",
       "    <tr>\n",
       "      <th>min</th>\n",
       "      <td>11.030000</td>\n",
       "      <td>0.740000</td>\n",
       "      <td>1.360000</td>\n",
       "      <td>10.600000</td>\n",
       "      <td>70.000000</td>\n",
       "      <td>0.980000</td>\n",
       "      <td>0.340000</td>\n",
       "      <td>0.130000</td>\n",
       "      <td>0.410000</td>\n",
       "      <td>1.280000</td>\n",
       "      <td>0.480000</td>\n",
       "      <td>1.270000</td>\n",
       "      <td>278.000000</td>\n",
       "      <td>0.000000</td>\n",
       "    </tr>\n",
       "    <tr>\n",
       "      <th>25%</th>\n",
       "      <td>12.362500</td>\n",
       "      <td>1.602500</td>\n",
       "      <td>2.210000</td>\n",
       "      <td>17.200000</td>\n",
       "      <td>88.000000</td>\n",
       "      <td>1.742500</td>\n",
       "      <td>1.205000</td>\n",
       "      <td>0.270000</td>\n",
       "      <td>1.250000</td>\n",
       "      <td>3.220000</td>\n",
       "      <td>0.782500</td>\n",
       "      <td>1.937500</td>\n",
       "      <td>500.500000</td>\n",
       "      <td>0.000000</td>\n",
       "    </tr>\n",
       "    <tr>\n",
       "      <th>50%</th>\n",
       "      <td>13.050000</td>\n",
       "      <td>1.865000</td>\n",
       "      <td>2.360000</td>\n",
       "      <td>19.500000</td>\n",
       "      <td>98.000000</td>\n",
       "      <td>2.355000</td>\n",
       "      <td>2.135000</td>\n",
       "      <td>0.340000</td>\n",
       "      <td>1.555000</td>\n",
       "      <td>4.690000</td>\n",
       "      <td>0.965000</td>\n",
       "      <td>2.780000</td>\n",
       "      <td>673.500000</td>\n",
       "      <td>1.000000</td>\n",
       "    </tr>\n",
       "    <tr>\n",
       "      <th>75%</th>\n",
       "      <td>13.677500</td>\n",
       "      <td>3.082500</td>\n",
       "      <td>2.557500</td>\n",
       "      <td>21.500000</td>\n",
       "      <td>107.000000</td>\n",
       "      <td>2.800000</td>\n",
       "      <td>2.875000</td>\n",
       "      <td>0.437500</td>\n",
       "      <td>1.950000</td>\n",
       "      <td>6.200000</td>\n",
       "      <td>1.120000</td>\n",
       "      <td>3.170000</td>\n",
       "      <td>985.000000</td>\n",
       "      <td>2.000000</td>\n",
       "    </tr>\n",
       "    <tr>\n",
       "      <th>max</th>\n",
       "      <td>14.830000</td>\n",
       "      <td>5.800000</td>\n",
       "      <td>3.230000</td>\n",
       "      <td>30.000000</td>\n",
       "      <td>162.000000</td>\n",
       "      <td>3.880000</td>\n",
       "      <td>5.080000</td>\n",
       "      <td>0.660000</td>\n",
       "      <td>3.580000</td>\n",
       "      <td>13.000000</td>\n",
       "      <td>1.710000</td>\n",
       "      <td>4.000000</td>\n",
       "      <td>1680.000000</td>\n",
       "      <td>2.000000</td>\n",
       "    </tr>\n",
       "  </tbody>\n",
       "</table>\n",
       "</div>"
      ],
      "text/plain": [
       "          Alcohol  Malic_acid         Ash  Alcalinity   Magnesium     Phenols  \\\n",
       "count  178.000000  178.000000  178.000000  178.000000  178.000000  178.000000   \n",
       "mean    13.000618    2.336348    2.366517   19.494944   99.741573    2.295112   \n",
       "std      0.811827    1.117146    0.274344    3.339564   14.282484    0.625851   \n",
       "min     11.030000    0.740000    1.360000   10.600000   70.000000    0.980000   \n",
       "25%     12.362500    1.602500    2.210000   17.200000   88.000000    1.742500   \n",
       "50%     13.050000    1.865000    2.360000   19.500000   98.000000    2.355000   \n",
       "75%     13.677500    3.082500    2.557500   21.500000  107.000000    2.800000   \n",
       "max     14.830000    5.800000    3.230000   30.000000  162.000000    3.880000   \n",
       "\n",
       "       Flavanoids  Nonflavanoids  Proanthocyanins  Color_intensity  \\\n",
       "count  178.000000     178.000000       178.000000       178.000000   \n",
       "mean     2.029270       0.361854         1.590899         5.058090   \n",
       "std      0.998859       0.124453         0.572359         2.318286   \n",
       "min      0.340000       0.130000         0.410000         1.280000   \n",
       "25%      1.205000       0.270000         1.250000         3.220000   \n",
       "50%      2.135000       0.340000         1.555000         4.690000   \n",
       "75%      2.875000       0.437500         1.950000         6.200000   \n",
       "max      5.080000       0.660000         3.580000        13.000000   \n",
       "\n",
       "              Hue  OD280_315_of_diluted_wines      Proline  WineVariety  \n",
       "count  178.000000                  178.000000   178.000000   178.000000  \n",
       "mean     0.957449                    2.611685   746.893258     0.938202  \n",
       "std      0.228572                    0.709990   314.907474     0.775035  \n",
       "min      0.480000                    1.270000   278.000000     0.000000  \n",
       "25%      0.782500                    1.937500   500.500000     0.000000  \n",
       "50%      0.965000                    2.780000   673.500000     1.000000  \n",
       "75%      1.120000                    3.170000   985.000000     2.000000  \n",
       "max      1.710000                    4.000000  1680.000000     2.000000  "
      ]
     },
     "execution_count": 4,
     "metadata": {},
     "output_type": "execute_result"
    }
   ],
   "source": [
    "data.describe()"
   ]
  },
  {
   "cell_type": "code",
   "execution_count": 5,
   "id": "8ac01606",
   "metadata": {
    "execution": {
     "iopub.execute_input": "2023-03-02T14:01:15.178547Z",
     "iopub.status.busy": "2023-03-02T14:01:15.178092Z",
     "iopub.status.idle": "2023-03-02T14:01:15.189527Z",
     "shell.execute_reply": "2023-03-02T14:01:15.188077Z"
    },
    "papermill": {
     "duration": 0.021158,
     "end_time": "2023-03-02T14:01:15.192264",
     "exception": false,
     "start_time": "2023-03-02T14:01:15.171106",
     "status": "completed"
    },
    "tags": []
   },
   "outputs": [
    {
     "data": {
      "text/plain": [
       "Alcohol                       0\n",
       "Malic_acid                    0\n",
       "Ash                           0\n",
       "Alcalinity                    0\n",
       "Magnesium                     0\n",
       "Phenols                       0\n",
       "Flavanoids                    0\n",
       "Nonflavanoids                 0\n",
       "Proanthocyanins               0\n",
       "Color_intensity               0\n",
       "Hue                           0\n",
       "OD280_315_of_diluted_wines    0\n",
       "Proline                       0\n",
       "WineVariety                   0\n",
       "dtype: int64"
      ]
     },
     "execution_count": 5,
     "metadata": {},
     "output_type": "execute_result"
    }
   ],
   "source": [
    "data.isnull().sum()"
   ]
  },
  {
   "cell_type": "code",
   "execution_count": 6,
   "id": "09672d03",
   "metadata": {
    "execution": {
     "iopub.execute_input": "2023-03-02T14:01:15.205856Z",
     "iopub.status.busy": "2023-03-02T14:01:15.205373Z",
     "iopub.status.idle": "2023-03-02T14:01:15.215009Z",
     "shell.execute_reply": "2023-03-02T14:01:15.213747Z"
    },
    "papermill": {
     "duration": 0.020046,
     "end_time": "2023-03-02T14:01:15.218086",
     "exception": false,
     "start_time": "2023-03-02T14:01:15.198040",
     "status": "completed"
    },
    "tags": []
   },
   "outputs": [
    {
     "data": {
      "text/plain": [
       "1    71\n",
       "0    59\n",
       "2    48\n",
       "Name: WineVariety, dtype: int64"
      ]
     },
     "execution_count": 6,
     "metadata": {},
     "output_type": "execute_result"
    }
   ],
   "source": [
    "data.iloc[:,-1].value_counts()"
   ]
  },
  {
   "cell_type": "markdown",
   "id": "87b0bc10",
   "metadata": {
    "papermill": {
     "duration": 0.005511,
     "end_time": "2023-03-02T14:01:15.229582",
     "exception": false,
     "start_time": "2023-03-02T14:01:15.224071",
     "status": "completed"
    },
    "tags": []
   },
   "source": [
    "Your challenge is to explore the data and train a classification model that achieves an overall *Recall* metric of over 0.95 (95%).\n",
    "\n",
    "> **Note**: There is no single \"correct\" solution. A sample solution is provided in [03 - Wine Classification Solution.ipynb](03%20-%20Wine%20Classification%20Solution.ipynb)."
   ]
  },
  {
   "cell_type": "markdown",
   "id": "cb380e09",
   "metadata": {
    "papermill": {
     "duration": 0.005989,
     "end_time": "2023-03-02T14:01:15.242296",
     "exception": false,
     "start_time": "2023-03-02T14:01:15.236307",
     "status": "completed"
    },
    "tags": []
   },
   "source": [
    "## Train and evaluate a model\n",
    "\n",
    "Add markdown and code cells as required to to explore the data, train a model, and evaluate the model's predictive performance."
   ]
  },
  {
   "cell_type": "code",
   "execution_count": 7,
   "id": "d477e805",
   "metadata": {
    "execution": {
     "iopub.execute_input": "2023-03-02T14:01:15.256333Z",
     "iopub.status.busy": "2023-03-02T14:01:15.255896Z",
     "iopub.status.idle": "2023-03-02T14:01:15.263677Z",
     "shell.execute_reply": "2023-03-02T14:01:15.261938Z"
    },
    "papermill": {
     "duration": 0.018442,
     "end_time": "2023-03-02T14:01:15.266883",
     "exception": false,
     "start_time": "2023-03-02T14:01:15.248441",
     "status": "completed"
    },
    "tags": []
   },
   "outputs": [],
   "source": [
    "X = data.iloc[:,:-1].values \n",
    "y = data.iloc[:,-1].values"
   ]
  },
  {
   "cell_type": "code",
   "execution_count": 8,
   "id": "bb5f8286",
   "metadata": {
    "execution": {
     "iopub.execute_input": "2023-03-02T14:01:15.281870Z",
     "iopub.status.busy": "2023-03-02T14:01:15.281380Z",
     "iopub.status.idle": "2023-03-02T14:01:15.289887Z",
     "shell.execute_reply": "2023-03-02T14:01:15.287950Z"
    },
    "papermill": {
     "duration": 0.020288,
     "end_time": "2023-03-02T14:01:15.293099",
     "exception": false,
     "start_time": "2023-03-02T14:01:15.272811",
     "status": "completed"
    },
    "tags": []
   },
   "outputs": [],
   "source": [
    "X_train, X_test , y_train, y_test = train_test_split(X , y ,test_size = 0.33)"
   ]
  },
  {
   "cell_type": "code",
   "execution_count": 9,
   "id": "ba76cf79",
   "metadata": {
    "execution": {
     "iopub.execute_input": "2023-03-02T14:01:15.307298Z",
     "iopub.status.busy": "2023-03-02T14:01:15.306780Z",
     "iopub.status.idle": "2023-03-02T14:01:15.499341Z",
     "shell.execute_reply": "2023-03-02T14:01:15.497352Z"
    },
    "papermill": {
     "duration": 0.203285,
     "end_time": "2023-03-02T14:01:15.502446",
     "exception": false,
     "start_time": "2023-03-02T14:01:15.299161",
     "status": "completed"
    },
    "tags": []
   },
   "outputs": [
    {
     "name": "stdout",
     "output_type": "stream",
     "text": [
      "Pipeline(steps=[('preprocessor',\n",
      "                 ColumnTransformer(transformers=[('num',\n",
      "                                                  Pipeline(steps=[('scaler',\n",
      "                                                                   StandardScaler())]),\n",
      "                                                  [0, 1, 2, 3, 4, 5, 6, 7, 8, 9,\n",
      "                                                   10, 11, 12])])),\n",
      "                ('regressor', RandomForestClassifier())])\n"
     ]
    }
   ],
   "source": [
    "# Define preprocessing for numeric columns (scale them)\n",
    "numeric_features = np.arange(0,data.shape[1]-1).tolist()\n",
    "numeric_transformer = Pipeline(steps=[\n",
    "    ('scaler', StandardScaler())])\n",
    "\n",
    "# Define preprocessing for categorical features (encode them)\n",
    "categorical_features = []\n",
    "# categorical_transformer = Pipeline(steps=[\n",
    "#     ('onehot', OneHotEncoder(handle_unknown='ignore'))])\n",
    "\n",
    "# Combine preprocessing steps\n",
    "preprocessor = ColumnTransformer(\n",
    "    transformers=[\n",
    "        ('num', numeric_transformer, numeric_features)])\n",
    "\n",
    "# Create preprocessing and training pipeline\n",
    "pipeline = Pipeline(steps=[('preprocessor', preprocessor),\n",
    "                           ('regressor', RandomForestClassifier())])\n",
    "\n",
    "\n",
    "# fit the pipeline to train a linear regression model on the training set\n",
    "model = pipeline.fit(X_train, y_train)\n",
    "\n",
    "print (model)\n"
   ]
  },
  {
   "cell_type": "code",
   "execution_count": 10,
   "id": "7c7f05ae",
   "metadata": {
    "execution": {
     "iopub.execute_input": "2023-03-02T14:01:15.516472Z",
     "iopub.status.busy": "2023-03-02T14:01:15.516056Z",
     "iopub.status.idle": "2023-03-02T14:01:15.537301Z",
     "shell.execute_reply": "2023-03-02T14:01:15.535933Z"
    },
    "papermill": {
     "duration": 0.031663,
     "end_time": "2023-03-02T14:01:15.540253",
     "exception": false,
     "start_time": "2023-03-02T14:01:15.508590",
     "status": "completed"
    },
    "tags": []
   },
   "outputs": [],
   "source": [
    "y_hat = model.predict(X_test)"
   ]
  },
  {
   "cell_type": "code",
   "execution_count": 11,
   "id": "5444b279",
   "metadata": {
    "execution": {
     "iopub.execute_input": "2023-03-02T14:01:15.555211Z",
     "iopub.status.busy": "2023-03-02T14:01:15.554290Z",
     "iopub.status.idle": "2023-03-02T14:01:15.568341Z",
     "shell.execute_reply": "2023-03-02T14:01:15.566567Z"
    },
    "papermill": {
     "duration": 0.025371,
     "end_time": "2023-03-02T14:01:15.571857",
     "exception": false,
     "start_time": "2023-03-02T14:01:15.546486",
     "status": "completed"
    },
    "tags": []
   },
   "outputs": [
    {
     "name": "stdout",
     "output_type": "stream",
     "text": [
      "              precision    recall  f1-score   support\n",
      "\n",
      "           0       0.95      1.00      0.97        19\n",
      "           1       0.96      0.96      0.96        25\n",
      "           2       1.00      0.93      0.97        15\n",
      "\n",
      "    accuracy                           0.97        59\n",
      "   macro avg       0.97      0.96      0.97        59\n",
      "weighted avg       0.97      0.97      0.97        59\n",
      "\n"
     ]
    }
   ],
   "source": [
    "print(classification_report(y_hat , y_test))"
   ]
  },
  {
   "cell_type": "code",
   "execution_count": 12,
   "id": "bc0705bf",
   "metadata": {
    "execution": {
     "iopub.execute_input": "2023-03-02T14:01:15.586336Z",
     "iopub.status.busy": "2023-03-02T14:01:15.585915Z",
     "iopub.status.idle": "2023-03-02T14:01:15.892806Z",
     "shell.execute_reply": "2023-03-02T14:01:15.891335Z"
    },
    "papermill": {
     "duration": 0.318467,
     "end_time": "2023-03-02T14:01:15.896810",
     "exception": false,
     "start_time": "2023-03-02T14:01:15.578343",
     "status": "completed"
    },
    "tags": []
   },
   "outputs": [
    {
     "data": {
      "text/plain": [
       "<AxesSubplot:>"
      ]
     },
     "execution_count": 12,
     "metadata": {},
     "output_type": "execute_result"
    },
    {
     "data": {
      "image/png": "[encoded data removed]",
      "text/plain": [
       "<Figure size 640x480 with 2 Axes>"
      ]
     },
     "metadata": {},
     "output_type": "display_data"
    }
   ],
   "source": [
    "sns.heatmap(confusion_matrix(y_hat, y_test))"
   ]
  },
  {
   "cell_type": "code",
   "execution_count": 13,
   "id": "45b39597",
   "metadata": {
    "execution": {
     "iopub.execute_input": "2023-03-02T14:01:15.913493Z",
     "iopub.status.busy": "2023-03-02T14:01:15.912467Z",
     "iopub.status.idle": "2023-03-02T14:01:15.979143Z",
     "shell.execute_reply": "2023-03-02T14:01:15.977742Z"
    },
    "papermill": {
     "duration": 0.077922,
     "end_time": "2023-03-02T14:01:15.982266",
     "exception": false,
     "start_time": "2023-03-02T14:01:15.904344",
     "status": "completed"
    },
    "tags": []
   },
   "outputs": [
    {
     "data": {
      "text/plain": [
       "['real_estate.pkl']"
      ]
     },
     "execution_count": 13,
     "metadata": {},
     "output_type": "execute_result"
    }
   ],
   "source": [
    "import joblib\n",
    "\n",
    "# Save the model as a pickle file\n",
    "filename = 'real_estate.pkl'\n",
    "joblib.dump(model, filename)"
   ]
  },
  {
   "cell_type": "markdown",
   "id": "16b18fb7",
   "metadata": {
    "papermill": {
     "duration": 0.006404,
     "end_time": "2023-03-02T14:01:15.995616",
     "exception": false,
     "start_time": "2023-03-02T14:01:15.989212",
     "status": "completed"
    },
    "tags": []
   },
   "source": [
    "## Use the model with new data observation\n",
    "\n",
    "When you're happy with your model's predictive performance, save it and then use it to predict classes for the following two new wine samples:\n",
    "\n",
    "- \\[13.72,1.43,2.5,16.7,108,3.4,3.67,0.19,2.04,6.8,0.89,2.87,1285\\]\n",
    "- \\[12.37,0.94,1.36,10.6,88,1.98,0.57,0.28,0.42,1.95,1.05,1.82,520\\]\n"
   ]
  },
  {
   "cell_type": "code",
   "execution_count": 14,
   "id": "85bf6586",
   "metadata": {
    "execution": {
     "iopub.execute_input": "2023-03-02T14:01:16.011410Z",
     "iopub.status.busy": "2023-03-02T14:01:16.010980Z",
     "iopub.status.idle": "2023-03-02T14:01:16.072238Z",
     "shell.execute_reply": "2023-03-02T14:01:16.070708Z"
    },
    "papermill": {
     "duration": 0.072798,
     "end_time": "2023-03-02T14:01:16.075226",
     "exception": false,
     "start_time": "2023-03-02T14:01:16.002428",
     "status": "completed"
    },
    "tags": []
   },
   "outputs": [
    {
     "data": {
      "text/plain": [
       "array([0, 1])"
      ]
     },
     "execution_count": 14,
     "metadata": {},
     "output_type": "execute_result"
    }
   ],
   "source": [
    "loaded_model = joblib.load(\"/kaggle/working/\"+filename)\n",
    "new_test = [[13.72,1.43,2.5,16.7,108,3.4,3.67,0.19,2.04,6.8,0.89,2.87,1285]\n",
    ",[12.37,0.94,1.36,10.6,88,1.98,0.57,0.28,0.42,1.95,1.05,1.82,520]]\n",
    "loaded_model.predict(new_test)"
   ]
  }
 ],
 "metadata": {
  "kernelspec": {
   "display_name": "Python 3",
   "language": "python",
   "name": "python3"
  },
  "language_info": {
   "codemirror_mode": {
    "name": "ipython",
    "version": 3
   },
   "file_extension": ".py",
   "mimetype": "text/x-python",
   "name": "python",
   "nbconvert_exporter": "python",
   "pygments_lexer": "ipython3",
   "version": "3.7.12"
  },
  "papermill": {
   "default_parameters": {},
   "duration": 16.154481,
   "end_time": "2023-03-02T14:01:17.007480",
   "environment_variables": {},
   "exception": null,
   "input_path": "__notebook__.ipynb",
   "output_path": "__notebook__.ipynb",
   "parameters": {},
   "start_time": "2023-03-02T14:01:00.852999",
   "version": "2.4.0"
  }
 },
 "nbformat": 4,
 "nbformat_minor": 5
}
