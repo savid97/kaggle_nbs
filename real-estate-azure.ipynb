{
 "cells": [
  {
   "cell_type": "markdown",
   "id": "a0f37ecb",
   "metadata": {
    "papermill": {
     "duration": 0.007287,
     "end_time": "2023-03-02T14:12:37.839421",
     "exception": false,
     "start_time": "2023-03-02T14:12:37.832134",
     "status": "completed"
    },
    "tags": []
   },
   "source": [
    "# Regression Challenge\n",
    "\n",
    "Predicting the selling price of a residential property depends on a number of factors, including the property age, availability of local amenities, and location.\n",
    "\n",
    "In this challenge, you will use a dataset of real estate sales transactions to predict the price-per-unit of a property based on its features. The price-per-unit in this data is based on a unit measurement of 3.3 square meters.\n",
    "\n",
    "> **Citation**: The data used in this exercise originates from the following study:\n",
    ">\n",
    "> *Yeh, I. C., & Hsu, T. K. (2018). Building real estate valuation models with comparative approach through case-based reasoning. Applied Soft Computing, 65, 260-271.*\n",
    ">\n",
    "> It was obtained from the UCI dataset repository (Dua, D. and Graff, C. (2019). [UCI Machine Learning Repository](http://archive.ics.uci.edu/ml). Irvine, CA: University of California, School of Information and Computer Science).\n"
   ]
  },
  {
   "cell_type": "markdown",
   "id": "622980d8",
   "metadata": {
    "papermill": {
     "duration": 0.005298,
     "end_time": "2023-03-02T14:12:37.850565",
     "exception": false,
     "start_time": "2023-03-02T14:12:37.845267",
     "status": "completed"
    },
    "tags": []
   },
   "source": [
    "## Import packages"
   ]
  },
  {
   "cell_type": "code",
   "execution_count": 1,
   "id": "b755fe69",
   "metadata": {
    "execution": {
     "iopub.execute_input": "2023-03-02T14:12:37.863681Z",
     "iopub.status.busy": "2023-03-02T14:12:37.863243Z",
     "iopub.status.idle": "2023-03-02T14:12:39.626801Z",
     "shell.execute_reply": "2023-03-02T14:12:39.625728Z"
    },
    "papermill": {
     "duration": 1.773413,
     "end_time": "2023-03-02T14:12:39.629629",
     "exception": false,
     "start_time": "2023-03-02T14:12:37.856216",
     "status": "completed"
    },
    "tags": []
   },
   "outputs": [],
   "source": [
    "import numpy as np\n",
    "from sklearn import svm\n",
    "from sklearn.metrics import mean_squared_error\n",
    "from sklearn.model_selection import train_test_split\n",
    "from sklearn.preprocessing import MinMaxScaler\n",
    "import matplotlib.pyplot as plt\n",
    "import seaborn as sns\n",
    "from sklearn.compose import ColumnTransformer\n",
    "from sklearn.pipeline import Pipeline\n",
    "from sklearn.preprocessing import StandardScaler, OneHotEncoder\n",
    "from sklearn.ensemble import GradientBoostingRegressor\n",
    "import pandas as pd"
   ]
  },
  {
   "cell_type": "markdown",
   "id": "b6984373",
   "metadata": {
    "papermill": {
     "duration": 0.005354,
     "end_time": "2023-03-02T14:12:39.640660",
     "exception": false,
     "start_time": "2023-03-02T14:12:39.635306",
     "status": "completed"
    },
    "tags": []
   },
   "source": [
    "## Review the data\n",
    "\n",
    "Run the following cell to load the data and view the first few rows."
   ]
  },
  {
   "cell_type": "code",
   "execution_count": 2,
   "id": "8ff2d09d",
   "metadata": {
    "execution": {
     "iopub.execute_input": "2023-03-02T14:12:39.654441Z",
     "iopub.status.busy": "2023-03-02T14:12:39.653319Z",
     "iopub.status.idle": "2023-03-02T14:12:39.701592Z",
     "shell.execute_reply": "2023-03-02T14:12:39.700380Z"
    },
    "papermill": {
     "duration": 0.058816,
     "end_time": "2023-03-02T14:12:39.705013",
     "exception": false,
     "start_time": "2023-03-02T14:12:39.646197",
     "status": "completed"
    },
    "scrolled": true,
    "tags": []
   },
   "outputs": [
    {
     "data": {
      "text/html": [
       "<div>\n",
       "<style scoped>\n",
       "    .dataframe tbody tr th:only-of-type {\n",
       "        vertical-align: middle;\n",
       "    }\n",
       "\n",
       "    .dataframe tbody tr th {\n",
       "        vertical-align: top;\n",
       "    }\n",
       "\n",
       "    .dataframe thead th {\n",
       "        text-align: right;\n",
       "    }\n",
       "</style>\n",
       "<table border=\"1\" class=\"dataframe\">\n",
       "  <thead>\n",
       "    <tr style=\"text-align: right;\">\n",
       "      <th></th>\n",
       "      <th>transaction_date</th>\n",
       "      <th>house_age</th>\n",
       "      <th>transit_distance</th>\n",
       "      <th>local_convenience_stores</th>\n",
       "      <th>latitude</th>\n",
       "      <th>longitude</th>\n",
       "      <th>price_per_unit</th>\n",
       "    </tr>\n",
       "  </thead>\n",
       "  <tbody>\n",
       "    <tr>\n",
       "      <th>0</th>\n",
       "      <td>2012.917</td>\n",
       "      <td>32.0</td>\n",
       "      <td>84.87882</td>\n",
       "      <td>10</td>\n",
       "      <td>24.98298</td>\n",
       "      <td>121.54024</td>\n",
       "      <td>37.9</td>\n",
       "    </tr>\n",
       "    <tr>\n",
       "      <th>1</th>\n",
       "      <td>2012.917</td>\n",
       "      <td>19.5</td>\n",
       "      <td>306.59470</td>\n",
       "      <td>9</td>\n",
       "      <td>24.98034</td>\n",
       "      <td>121.53951</td>\n",
       "      <td>42.2</td>\n",
       "    </tr>\n",
       "    <tr>\n",
       "      <th>2</th>\n",
       "      <td>2013.583</td>\n",
       "      <td>13.3</td>\n",
       "      <td>561.98450</td>\n",
       "      <td>5</td>\n",
       "      <td>24.98746</td>\n",
       "      <td>121.54391</td>\n",
       "      <td>47.3</td>\n",
       "    </tr>\n",
       "    <tr>\n",
       "      <th>3</th>\n",
       "      <td>2013.500</td>\n",
       "      <td>13.3</td>\n",
       "      <td>561.98450</td>\n",
       "      <td>5</td>\n",
       "      <td>24.98746</td>\n",
       "      <td>121.54391</td>\n",
       "      <td>54.8</td>\n",
       "    </tr>\n",
       "    <tr>\n",
       "      <th>4</th>\n",
       "      <td>2012.833</td>\n",
       "      <td>5.0</td>\n",
       "      <td>390.56840</td>\n",
       "      <td>5</td>\n",
       "      <td>24.97937</td>\n",
       "      <td>121.54245</td>\n",
       "      <td>43.1</td>\n",
       "    </tr>\n",
       "  </tbody>\n",
       "</table>\n",
       "</div>"
      ],
      "text/plain": [
       "   transaction_date  house_age  transit_distance  local_convenience_stores  \\\n",
       "0          2012.917       32.0          84.87882                        10   \n",
       "1          2012.917       19.5         306.59470                         9   \n",
       "2          2013.583       13.3         561.98450                         5   \n",
       "3          2013.500       13.3         561.98450                         5   \n",
       "4          2012.833        5.0         390.56840                         5   \n",
       "\n",
       "   latitude  longitude  price_per_unit  \n",
       "0  24.98298  121.54024            37.9  \n",
       "1  24.98034  121.53951            42.2  \n",
       "2  24.98746  121.54391            47.3  \n",
       "3  24.98746  121.54391            54.8  \n",
       "4  24.97937  121.54245            43.1  "
      ]
     },
     "execution_count": 2,
     "metadata": {},
     "output_type": "execute_result"
    }
   ],
   "source": [
    "# load the training dataset\n",
    "data = pd.read_csv('/kaggle/input/flights/challenges/data/real_estate.csv')\n",
    "data.head()"
   ]
  },
  {
   "cell_type": "code",
   "execution_count": 3,
   "id": "b8b9acb0",
   "metadata": {
    "execution": {
     "iopub.execute_input": "2023-03-02T14:12:39.718627Z",
     "iopub.status.busy": "2023-03-02T14:12:39.718214Z",
     "iopub.status.idle": "2023-03-02T14:12:39.743437Z",
     "shell.execute_reply": "2023-03-02T14:12:39.741921Z"
    },
    "papermill": {
     "duration": 0.036137,
     "end_time": "2023-03-02T14:12:39.747137",
     "exception": false,
     "start_time": "2023-03-02T14:12:39.711000",
     "status": "completed"
    },
    "tags": []
   },
   "outputs": [
    {
     "name": "stdout",
     "output_type": "stream",
     "text": [
      "<class 'pandas.core.frame.DataFrame'>\n",
      "RangeIndex: 414 entries, 0 to 413\n",
      "Data columns (total 7 columns):\n",
      " #   Column                    Non-Null Count  Dtype  \n",
      "---  ------                    --------------  -----  \n",
      " 0   transaction_date          414 non-null    float64\n",
      " 1   house_age                 414 non-null    float64\n",
      " 2   transit_distance          414 non-null    float64\n",
      " 3   local_convenience_stores  414 non-null    int64  \n",
      " 4   latitude                  414 non-null    float64\n",
      " 5   longitude                 414 non-null    float64\n",
      " 6   price_per_unit            414 non-null    float64\n",
      "dtypes: float64(6), int64(1)\n",
      "memory usage: 22.8 KB\n"
     ]
    }
   ],
   "source": [
    "data.info()"
   ]
  },
  {
   "cell_type": "code",
   "execution_count": 4,
   "id": "926e1fad",
   "metadata": {
    "execution": {
     "iopub.execute_input": "2023-03-02T14:12:39.761791Z",
     "iopub.status.busy": "2023-03-02T14:12:39.761350Z",
     "iopub.status.idle": "2023-03-02T14:12:39.798556Z",
     "shell.execute_reply": "2023-03-02T14:12:39.797254Z"
    },
    "papermill": {
     "duration": 0.04809,
     "end_time": "2023-03-02T14:12:39.801561",
     "exception": false,
     "start_time": "2023-03-02T14:12:39.753471",
     "status": "completed"
    },
    "tags": []
   },
   "outputs": [
    {
     "data": {
      "text/html": [
       "<div>\n",
       "<style scoped>\n",
       "    .dataframe tbody tr th:only-of-type {\n",
       "        vertical-align: middle;\n",
       "    }\n",
       "\n",
       "    .dataframe tbody tr th {\n",
       "        vertical-align: top;\n",
       "    }\n",
       "\n",
       "    .dataframe thead th {\n",
       "        text-align: right;\n",
       "    }\n",
       "</style>\n",
       "<table border=\"1\" class=\"dataframe\">\n",
       "  <thead>\n",
       "    <tr style=\"text-align: right;\">\n",
       "      <th></th>\n",
       "      <th>transaction_date</th>\n",
       "      <th>house_age</th>\n",
       "      <th>transit_distance</th>\n",
       "      <th>local_convenience_stores</th>\n",
       "      <th>latitude</th>\n",
       "      <th>longitude</th>\n",
       "      <th>price_per_unit</th>\n",
       "    </tr>\n",
       "  </thead>\n",
       "  <tbody>\n",
       "    <tr>\n",
       "      <th>count</th>\n",
       "      <td>414.000000</td>\n",
       "      <td>414.000000</td>\n",
       "      <td>414.000000</td>\n",
       "      <td>414.000000</td>\n",
       "      <td>414.000000</td>\n",
       "      <td>414.000000</td>\n",
       "      <td>414.000000</td>\n",
       "    </tr>\n",
       "    <tr>\n",
       "      <th>mean</th>\n",
       "      <td>2013.148971</td>\n",
       "      <td>17.712560</td>\n",
       "      <td>1083.885689</td>\n",
       "      <td>4.094203</td>\n",
       "      <td>24.969030</td>\n",
       "      <td>121.533361</td>\n",
       "      <td>37.980193</td>\n",
       "    </tr>\n",
       "    <tr>\n",
       "      <th>std</th>\n",
       "      <td>0.281967</td>\n",
       "      <td>11.392485</td>\n",
       "      <td>1262.109595</td>\n",
       "      <td>2.945562</td>\n",
       "      <td>0.012410</td>\n",
       "      <td>0.015347</td>\n",
       "      <td>13.606488</td>\n",
       "    </tr>\n",
       "    <tr>\n",
       "      <th>min</th>\n",
       "      <td>2012.667000</td>\n",
       "      <td>0.000000</td>\n",
       "      <td>23.382840</td>\n",
       "      <td>0.000000</td>\n",
       "      <td>24.932070</td>\n",
       "      <td>121.473530</td>\n",
       "      <td>7.600000</td>\n",
       "    </tr>\n",
       "    <tr>\n",
       "      <th>25%</th>\n",
       "      <td>2012.917000</td>\n",
       "      <td>9.025000</td>\n",
       "      <td>289.324800</td>\n",
       "      <td>1.000000</td>\n",
       "      <td>24.963000</td>\n",
       "      <td>121.528085</td>\n",
       "      <td>27.700000</td>\n",
       "    </tr>\n",
       "    <tr>\n",
       "      <th>50%</th>\n",
       "      <td>2013.167000</td>\n",
       "      <td>16.100000</td>\n",
       "      <td>492.231300</td>\n",
       "      <td>4.000000</td>\n",
       "      <td>24.971100</td>\n",
       "      <td>121.538630</td>\n",
       "      <td>38.450000</td>\n",
       "    </tr>\n",
       "    <tr>\n",
       "      <th>75%</th>\n",
       "      <td>2013.417000</td>\n",
       "      <td>28.150000</td>\n",
       "      <td>1454.279000</td>\n",
       "      <td>6.000000</td>\n",
       "      <td>24.977455</td>\n",
       "      <td>121.543305</td>\n",
       "      <td>46.600000</td>\n",
       "    </tr>\n",
       "    <tr>\n",
       "      <th>max</th>\n",
       "      <td>2013.583000</td>\n",
       "      <td>43.800000</td>\n",
       "      <td>6488.021000</td>\n",
       "      <td>10.000000</td>\n",
       "      <td>25.014590</td>\n",
       "      <td>121.566270</td>\n",
       "      <td>117.500000</td>\n",
       "    </tr>\n",
       "  </tbody>\n",
       "</table>\n",
       "</div>"
      ],
      "text/plain": [
       "       transaction_date   house_age  transit_distance  \\\n",
       "count        414.000000  414.000000        414.000000   \n",
       "mean        2013.148971   17.712560       1083.885689   \n",
       "std            0.281967   11.392485       1262.109595   \n",
       "min         2012.667000    0.000000         23.382840   \n",
       "25%         2012.917000    9.025000        289.324800   \n",
       "50%         2013.167000   16.100000        492.231300   \n",
       "75%         2013.417000   28.150000       1454.279000   \n",
       "max         2013.583000   43.800000       6488.021000   \n",
       "\n",
       "       local_convenience_stores    latitude   longitude  price_per_unit  \n",
       "count                414.000000  414.000000  414.000000      414.000000  \n",
       "mean                   4.094203   24.969030  121.533361       37.980193  \n",
       "std                    2.945562    0.012410    0.015347       13.606488  \n",
       "min                    0.000000   24.932070  121.473530        7.600000  \n",
       "25%                    1.000000   24.963000  121.528085       27.700000  \n",
       "50%                    4.000000   24.971100  121.538630       38.450000  \n",
       "75%                    6.000000   24.977455  121.543305       46.600000  \n",
       "max                   10.000000   25.014590  121.566270      117.500000  "
      ]
     },
     "execution_count": 4,
     "metadata": {},
     "output_type": "execute_result"
    }
   ],
   "source": [
    "data.describe()"
   ]
  },
  {
   "cell_type": "code",
   "execution_count": 5,
   "id": "1bdff4d6",
   "metadata": {
    "execution": {
     "iopub.execute_input": "2023-03-02T14:12:39.816081Z",
     "iopub.status.busy": "2023-03-02T14:12:39.815684Z",
     "iopub.status.idle": "2023-03-02T14:12:39.824836Z",
     "shell.execute_reply": "2023-03-02T14:12:39.823621Z"
    },
    "papermill": {
     "duration": 0.019243,
     "end_time": "2023-03-02T14:12:39.827150",
     "exception": false,
     "start_time": "2023-03-02T14:12:39.807907",
     "status": "completed"
    },
    "tags": []
   },
   "outputs": [
    {
     "data": {
      "text/plain": [
       "transaction_date            0\n",
       "house_age                   0\n",
       "transit_distance            0\n",
       "local_convenience_stores    0\n",
       "latitude                    0\n",
       "longitude                   0\n",
       "price_per_unit              0\n",
       "dtype: int64"
      ]
     },
     "execution_count": 5,
     "metadata": {},
     "output_type": "execute_result"
    }
   ],
   "source": [
    "data.isnull().sum()"
   ]
  },
  {
   "cell_type": "markdown",
   "id": "f1019e01",
   "metadata": {
    "papermill": {
     "duration": 0.006043,
     "end_time": "2023-03-02T14:12:39.839646",
     "exception": false,
     "start_time": "2023-03-02T14:12:39.833603",
     "status": "completed"
    },
    "tags": []
   },
   "source": [
    "The data consists of the following variables:\n",
    "\n",
    "- **transaction_date** - the transaction date (for example, 2013.250=2013 March, 2013.500=2013 June, etc.)\n",
    "- **house_age** - the house age (in years)\n",
    "- **transit_distance** - the distance to the nearest light rail station (in meters)\n",
    "- **local_convenience_stores** - the number of convenience stores within walking distance\n",
    "- **latitude** - the geographic coordinate, latitude\n",
    "- **longitude** - the geographic coordinate, longitude\n",
    "- **price_per_unit** house price of unit area (3.3 square meters)\n",
    "\n",
    "## Train and evaluate a Regression Model\n",
    "\n",
    "Your challenge is to explore and prepare the data, identify predictive features that will help predict the **price_per_unit** label, and train a regression model that achieves the lowest Root Mean Square Error (RMSE) you can achieve (which must be less than **7**) when evaluated against a test subset of data.\n",
    "\n",
    "Add markdown and code cells as required to create your solution.\n",
    "\n",
    "> **Note**: There is no single \"correct\" solution. A sample solution is provided in [02 - Real Estate Regression Solution.ipynb](02%20-%20Real%20Estate%20Regression%20Solution.ipynb)."
   ]
  },
  {
   "cell_type": "code",
   "execution_count": 6,
   "id": "e2b8ef5c",
   "metadata": {
    "execution": {
     "iopub.execute_input": "2023-03-02T14:12:39.854620Z",
     "iopub.status.busy": "2023-03-02T14:12:39.854150Z",
     "iopub.status.idle": "2023-03-02T14:12:39.862841Z",
     "shell.execute_reply": "2023-03-02T14:12:39.861692Z"
    },
    "papermill": {
     "duration": 0.019288,
     "end_time": "2023-03-02T14:12:39.865321",
     "exception": false,
     "start_time": "2023-03-02T14:12:39.846033",
     "status": "completed"
    },
    "tags": []
   },
   "outputs": [],
   "source": [
    "X = data.iloc[:,:-1].values\n",
    "y = data.price_per_unit.values\n",
    "\n",
    "\n",
    "X_train, X_test, y_train, y_test = train_test_split(X, y, test_size=0.33, random_state=42)"
   ]
  },
  {
   "cell_type": "code",
   "execution_count": 7,
   "id": "c11b6b53",
   "metadata": {
    "execution": {
     "iopub.execute_input": "2023-03-02T14:12:39.881084Z",
     "iopub.status.busy": "2023-03-02T14:12:39.880016Z",
     "iopub.status.idle": "2023-03-02T14:12:39.911680Z",
     "shell.execute_reply": "2023-03-02T14:12:39.909960Z"
    },
    "papermill": {
     "duration": 0.042834,
     "end_time": "2023-03-02T14:12:39.914530",
     "exception": false,
     "start_time": "2023-03-02T14:12:39.871696",
     "status": "completed"
    },
    "tags": []
   },
   "outputs": [
    {
     "name": "stdout",
     "output_type": "stream",
     "text": [
      "Pipeline(steps=[('preprocessor',\n",
      "                 ColumnTransformer(transformers=[('num',\n",
      "                                                  Pipeline(steps=[('scaler',\n",
      "                                                                   StandardScaler())]),\n",
      "                                                  [0, 1, 2, 3, 4, 5])])),\n",
      "                ('regressor', SVR())])\n"
     ]
    }
   ],
   "source": [
    "# Define preprocessing for numeric columns (scale them)\n",
    "numeric_features = np.arange(0,data.shape[1]-1).tolist()\n",
    "numeric_transformer = Pipeline(steps=[\n",
    "    ('scaler', StandardScaler())])\n",
    "\n",
    "# Define preprocessing for categorical features (encode them)\n",
    "categorical_features = []\n",
    "# categorical_transformer = Pipeline(steps=[\n",
    "#     ('onehot', OneHotEncoder(handle_unknown='ignore'))])\n",
    "\n",
    "# Combine preprocessing steps\n",
    "preprocessor = ColumnTransformer(\n",
    "    transformers=[\n",
    "        ('num', numeric_transformer, numeric_features)])\n",
    "\n",
    "# Create preprocessing and training pipeline\n",
    "pipeline = Pipeline(steps=[('preprocessor', preprocessor),\n",
    "                           ('regressor', svm.SVR())])\n",
    "\n",
    "\n",
    "# fit the pipeline to train a linear regression model on the training set\n",
    "model = pipeline.fit(X_train, y_train)\n",
    "\n",
    "print (model)\n"
   ]
  },
  {
   "cell_type": "code",
   "execution_count": 8,
   "id": "ce33d4a0",
   "metadata": {
    "execution": {
     "iopub.execute_input": "2023-03-02T14:12:39.931286Z",
     "iopub.status.busy": "2023-03-02T14:12:39.929796Z",
     "iopub.status.idle": "2023-03-02T14:12:39.940035Z",
     "shell.execute_reply": "2023-03-02T14:12:39.939071Z"
    },
    "papermill": {
     "duration": 0.021982,
     "end_time": "2023-03-02T14:12:39.942950",
     "exception": false,
     "start_time": "2023-03-02T14:12:39.920968",
     "status": "completed"
    },
    "tags": []
   },
   "outputs": [],
   "source": [
    "y_hat = model.predict(X_test)"
   ]
  },
  {
   "cell_type": "code",
   "execution_count": 9,
   "id": "4408cdb1",
   "metadata": {
    "execution": {
     "iopub.execute_input": "2023-03-02T14:12:39.957959Z",
     "iopub.status.busy": "2023-03-02T14:12:39.957117Z",
     "iopub.status.idle": "2023-03-02T14:12:39.965002Z",
     "shell.execute_reply": "2023-03-02T14:12:39.963454Z"
    },
    "papermill": {
     "duration": 0.018146,
     "end_time": "2023-03-02T14:12:39.967536",
     "exception": false,
     "start_time": "2023-03-02T14:12:39.949390",
     "status": "completed"
    },
    "tags": []
   },
   "outputs": [
    {
     "name": "stdout",
     "output_type": "stream",
     "text": [
      "The root mean squared error is: 8.125138486183161\n"
     ]
    }
   ],
   "source": [
    "print(f\"The root mean squared error is: {mean_squared_error(y_hat,y_test , squared = False)}\")"
   ]
  },
  {
   "cell_type": "code",
   "execution_count": 10,
   "id": "6a81b7ed",
   "metadata": {
    "execution": {
     "iopub.execute_input": "2023-03-02T14:12:39.982803Z",
     "iopub.status.busy": "2023-03-02T14:12:39.981843Z",
     "iopub.status.idle": "2023-03-02T14:12:40.300343Z",
     "shell.execute_reply": "2023-03-02T14:12:40.298885Z"
    },
    "papermill": {
     "duration": 0.329038,
     "end_time": "2023-03-02T14:12:40.303005",
     "exception": false,
     "start_time": "2023-03-02T14:12:39.973967",
     "status": "completed"
    },
    "tags": []
   },
   "outputs": [
    {
     "data": {
      "text/plain": [
       "Text(0.5, 1.0, 'Predictions vs ground truths')"
      ]
     },
     "execution_count": 10,
     "metadata": {},
     "output_type": "execute_result"
    },
    {
     "data": {
      "image/png": "[encoded data removed]",
      "text/plain": [
       "<Figure size 640x480 with 1 Axes>"
      ]
     },
     "metadata": {},
     "output_type": "display_data"
    }
   ],
   "source": [
    "sns.scatterplot(x = y_hat , y = y_test)\n",
    "sns.lineplot(x = [20,70] , y = [20,70] ,c = \"r\" )\n",
    "plt.ylabel(\"Predictions\")\n",
    "plt.xlabel(\"Ground truths\")\n",
    "plt.title(\"Predictions vs ground truths\")\n"
   ]
  },
  {
   "cell_type": "markdown",
   "id": "2b26e0cd",
   "metadata": {
    "papermill": {
     "duration": 0.006794,
     "end_time": "2023-03-02T14:12:40.317203",
     "exception": false,
     "start_time": "2023-03-02T14:12:40.310409",
     "status": "completed"
    },
    "tags": []
   },
   "source": [
    "## Trying out GradientBoostingRegressor\n"
   ]
  },
  {
   "cell_type": "code",
   "execution_count": 11,
   "id": "22d48433",
   "metadata": {
    "execution": {
     "iopub.execute_input": "2023-03-02T14:12:40.334013Z",
     "iopub.status.busy": "2023-03-02T14:12:40.333604Z",
     "iopub.status.idle": "2023-03-02T14:12:40.687902Z",
     "shell.execute_reply": "2023-03-02T14:12:40.686748Z"
    },
    "papermill": {
     "duration": 0.366449,
     "end_time": "2023-03-02T14:12:40.690765",
     "exception": false,
     "start_time": "2023-03-02T14:12:40.324316",
     "status": "completed"
    },
    "tags": []
   },
   "outputs": [
    {
     "name": "stdout",
     "output_type": "stream",
     "text": [
      "The root mean squared error is: 6.802066488199378\n"
     ]
    },
    {
     "data": {
      "text/plain": [
       "Text(0.5, 1.0, 'Predictions vs ground truths')"
      ]
     },
     "execution_count": 11,
     "metadata": {},
     "output_type": "execute_result"
    },
    {
     "data": {
      "image/png": "[encoded data removed]",
      "text/plain": [
       "<Figure size 640x480 with 1 Axes>"
      ]
     },
     "metadata": {},
     "output_type": "display_data"
    }
   ],
   "source": [
    "\n",
    "pipeline = Pipeline(steps=[('preprocessor', preprocessor),\n",
    "                           ('regressor', GradientBoostingRegressor())])\n",
    "model = pipeline.fit(X_train, y_train)\n",
    "y_hat = model.predict(X_test)\n",
    "print(f\"The root mean squared error is: {mean_squared_error(y_hat,y_test , squared = False)}\")\n",
    "sns.scatterplot(x = y_hat , y = y_test)\n",
    "sns.lineplot(x = [20,70] , y = [20,70] ,c = \"r\" )\n",
    "plt.ylabel(\"Predictions\")\n",
    "plt.xlabel(\"Ground truths\")\n",
    "plt.title(\"Predictions vs ground truths\")\n"
   ]
  },
  {
   "cell_type": "markdown",
   "id": "312cbbc5",
   "metadata": {
    "papermill": {
     "duration": 0.007632,
     "end_time": "2023-03-02T14:12:40.706324",
     "exception": false,
     "start_time": "2023-03-02T14:12:40.698692",
     "status": "completed"
    },
    "tags": []
   },
   "source": [
    "## Savd the model"
   ]
  },
  {
   "cell_type": "code",
   "execution_count": 12,
   "id": "75334d8a",
   "metadata": {
    "execution": {
     "iopub.execute_input": "2023-03-02T14:12:40.724755Z",
     "iopub.status.busy": "2023-03-02T14:12:40.724350Z",
     "iopub.status.idle": "2023-03-02T14:12:40.738722Z",
     "shell.execute_reply": "2023-03-02T14:12:40.737624Z"
    },
    "papermill": {
     "duration": 0.026636,
     "end_time": "2023-03-02T14:12:40.741258",
     "exception": false,
     "start_time": "2023-03-02T14:12:40.714622",
     "status": "completed"
    },
    "tags": []
   },
   "outputs": [
    {
     "data": {
      "text/plain": [
       "['real_estate.pkl']"
      ]
     },
     "execution_count": 12,
     "metadata": {},
     "output_type": "execute_result"
    }
   ],
   "source": [
    "import joblib\n",
    "\n",
    "# Save the model as a pickle file\n",
    "filename = 'real_estate.pkl'\n",
    "joblib.dump(model, filename)"
   ]
  },
  {
   "cell_type": "markdown",
   "id": "28867c17",
   "metadata": {
    "papermill": {
     "duration": 0.010096,
     "end_time": "2023-03-02T14:12:40.759440",
     "exception": false,
     "start_time": "2023-03-02T14:12:40.749344",
     "status": "completed"
    },
    "tags": []
   },
   "source": [
    "## Use the Trained Model\n",
    "\n",
    "Save your trained model, and then use it to predict the price-per-unit for the following real estate transactions:\n",
    "\n",
    "| transaction_date | house_age | transit_distance | local_convenience_stores | latitude | longitude |\n",
    "| ---------------- | --------- | ---------------- | ------------------------ | -------- | --------- |\n",
    "|2013.167|16.2|289.3248|5|24.98203|121.54348|\n",
    "|2013.000|13.6|4082.015|0|24.94155|121.50381|"
   ]
  },
  {
   "cell_type": "code",
   "execution_count": 13,
   "id": "604ebe64",
   "metadata": {
    "execution": {
     "iopub.execute_input": "2023-03-02T14:12:40.777950Z",
     "iopub.status.busy": "2023-03-02T14:12:40.777191Z",
     "iopub.status.idle": "2023-03-02T14:12:40.789077Z",
     "shell.execute_reply": "2023-03-02T14:12:40.787669Z"
    },
    "papermill": {
     "duration": 0.024184,
     "end_time": "2023-03-02T14:12:40.791936",
     "exception": false,
     "start_time": "2023-03-02T14:12:40.767752",
     "status": "completed"
    },
    "tags": []
   },
   "outputs": [],
   "source": [
    "loaded_model = joblib.load(\"/kaggle/working/\"+ filename)"
   ]
  },
  {
   "cell_type": "code",
   "execution_count": 14,
   "id": "c65b3a7b",
   "metadata": {
    "execution": {
     "iopub.execute_input": "2023-03-02T14:12:40.810050Z",
     "iopub.status.busy": "2023-03-02T14:12:40.809601Z",
     "iopub.status.idle": "2023-03-02T14:12:40.815633Z",
     "shell.execute_reply": "2023-03-02T14:12:40.814132Z"
    },
    "papermill": {
     "duration": 0.017885,
     "end_time": "2023-03-02T14:12:40.817976",
     "exception": false,
     "start_time": "2023-03-02T14:12:40.800091",
     "status": "completed"
    },
    "tags": []
   },
   "outputs": [],
   "source": [
    "new_test = np.array([[2013.167,16.2,289.3248,5,24.98203,121.54348]\n",
    ",[2013.000,13.6,4082.015,0,24.94155,121.50381]])"
   ]
  },
  {
   "cell_type": "code",
   "execution_count": 15,
   "id": "27df4dfb",
   "metadata": {
    "execution": {
     "iopub.execute_input": "2023-03-02T14:12:40.836575Z",
     "iopub.status.busy": "2023-03-02T14:12:40.835405Z",
     "iopub.status.idle": "2023-03-02T14:12:40.845068Z",
     "shell.execute_reply": "2023-03-02T14:12:40.843832Z"
    },
    "papermill": {
     "duration": 0.021711,
     "end_time": "2023-03-02T14:12:40.847652",
     "exception": false,
     "start_time": "2023-03-02T14:12:40.825941",
     "status": "completed"
    },
    "tags": []
   },
   "outputs": [
    {
     "data": {
      "text/plain": [
       "array([46.78777931, 15.63511437])"
      ]
     },
     "execution_count": 15,
     "metadata": {},
     "output_type": "execute_result"
    }
   ],
   "source": [
    "loaded_model.predict(new_test)"
   ]
  },
  {
   "cell_type": "markdown",
   "id": "ba4425c8",
   "metadata": {
    "papermill": {
     "duration": 0.007899,
     "end_time": "2023-03-02T14:12:40.863756",
     "exception": false,
     "start_time": "2023-03-02T14:12:40.855857",
     "status": "completed"
    },
    "tags": []
   },
   "source": [
    "| transaction_date | house_age | transit_distance | local_convenience_stores | latitude | longitude | price_per_unit |\n",
    "| ---------------- | --------- | ---------------- | ------------------------ | -------- | --------- | ---- |\n",
    "|2013.167|16.2|289.3248|5|24.98203|121.54348|46.78777931|\n",
    "|2013.000|13.6|4082.015|0|24.94155|121.50381|15.63511437|"
   ]
  }
 ],
 "metadata": {
  "kernelspec": {
   "display_name": "Python 3",
   "language": "python",
   "name": "python3"
  },
  "language_info": {
   "codemirror_mode": {
    "name": "ipython",
    "version": 3
   },
   "file_extension": ".py",
   "mimetype": "text/x-python",
   "name": "python",
   "nbconvert_exporter": "python",
   "pygments_lexer": "ipython3",
   "version": "3.7.12"
  },
  "papermill": {
   "default_parameters": {},
   "duration": 14.127229,
   "end_time": "2023-03-02T14:12:41.696347",
   "environment_variables": {},
   "exception": null,
   "input_path": "__notebook__.ipynb",
   "output_path": "__notebook__.ipynb",
   "parameters": {},
   "start_time": "2023-03-02T14:12:27.569118",
   "version": "2.4.0"
  }
 },
 "nbformat": 4,
 "nbformat_minor": 5
}
